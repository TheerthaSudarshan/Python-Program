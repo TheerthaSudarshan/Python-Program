{
 "cells": [
  {
   "cell_type": "markdown",
   "id": "b06f6d48-ef95-456a-9144-95d4e5c616b2",
   "metadata": {},
   "source": [
    "1. Write a Python program to sum all the items in the list."
   ]
  },
  {
   "cell_type": "code",
   "execution_count": 1,
   "id": "cda538cb-978a-4d0c-8a40-2036a4243ad5",
   "metadata": {},
   "outputs": [
    {
     "name": "stdout",
     "output_type": "stream",
     "text": [
      "The sum of the list items is: 150\n"
     ]
    }
   ],
   "source": [
    "def sum_of_list(list):\n",
    "    return sum(list)\n",
    "list = [10, 20, 30, 40, 50]\n",
    "total = sum_of_list(list)\n",
    "print(\"The sum of the list items is:\", total)"
   ]
  },
  {
   "cell_type": "markdown",
   "id": "a865d211-1827-439f-8ac0-18c94f9f6ff4",
   "metadata": {},
   "source": [
    "2. Write a Python program to get the largest number from a list."
   ]
  },
  {
   "cell_type": "code",
   "execution_count": 5,
   "id": "a6a8f1dc-7aba-4f98-b97b-d718f4230482",
   "metadata": {},
   "outputs": [
    {
     "name": "stdout",
     "output_type": "stream",
     "text": [
      "[10, 25, 55, 63, 89]\n",
      "Largest number from the list: 89\n"
     ]
    }
   ],
   "source": [
    "list= [25,89,63,55,10]\n",
    "list.sort()\n",
    "print(list)\n",
    "print(\"Largest number from the list:\", list[-1])"
   ]
  },
  {
   "cell_type": "markdown",
   "id": "48867c49-4f63-4a6e-b9e6-5ae38d9b6b6a",
   "metadata": {},
   "source": [
    "3. Write a Python program to count the number of strings from a given list of strings.The string length is 2 or more and the first and last characters are the same."
   ]
  },
  {
   "cell_type": "code",
   "execution_count": 3,
   "id": "5eb3d3a8-b056-4d73-9f42-8a583505d53b",
   "metadata": {},
   "outputs": [
    {
     "name": "stdout",
     "output_type": "stream",
     "text": [
      "Number of strings where length is 2 or more and first and last characters are the same: 4\n"
     ]
    }
   ],
   "source": [
    "def count_strings(strings):\n",
    "    count = 0\n",
    "    for string in strings:\n",
    "        if len(string) >= 2 and string[0] == string[-1]:\n",
    "            count += 1\n",
    "    return count\n",
    "\n",
    "strings_list = ['abc', 'xyz', 'aba', '1221', 'aa', 'xyx']\n",
    "\n",
    "result = count_strings(strings_list)\n",
    "print(\"Number of strings where length is 2 or more and first and last characters are the same:\", result)"
   ]
  },
  {
   "cell_type": "markdown",
   "id": "2c555cf4-7361-4c1c-a736-2835143aa1d5",
   "metadata": {},
   "source": [
    "4. Write a Python program to remove duplicates from a list."
   ]
  },
  {
   "cell_type": "code",
   "execution_count": 4,
   "id": "18fe06ba-e420-41a8-a27d-18f07bae79c2",
   "metadata": {},
   "outputs": [
    {
     "name": "stdout",
     "output_type": "stream",
     "text": [
      "{1, 3, 4, 5, 6, 7, 9}\n"
     ]
    }
   ],
   "source": [
    "list1=[1,1,3,3,5,6,7,3,4,9]\n",
    "new_list= set(list1)\n",
    "print(new_list)"
   ]
  },
  {
   "cell_type": "markdown",
   "id": "3d42af55-0fc6-4351-b3e8-318bbc13ea2b",
   "metadata": {},
   "source": [
    "5. Write a Python program to check if a list is empty or not."
   ]
  },
  {
   "cell_type": "code",
   "execution_count": 6,
   "id": "ee878643-5c66-4071-87c1-938c07089a9f",
   "metadata": {},
   "outputs": [
    {
     "name": "stdout",
     "output_type": "stream",
     "text": [
      "This list is emty\n"
     ]
    }
   ],
   "source": [
    "list=[]\n",
    "if not list:\n",
    "    print(\"This list is emty\")\n",
    "else:\n",
    "    print(\"This list not empty\")\n",
    "\n",
    "\n"
   ]
  },
  {
   "cell_type": "markdown",
   "id": "8e7a4caa-4008-4329-926c-a3f821cd4c0a",
   "metadata": {},
   "source": [
    "6. Write a Python program to filter the list if the length of the character is <4."
   ]
  },
  {
   "cell_type": "code",
   "execution_count": 6,
   "id": "168a18ce-16d8-4ee4-9e2c-61926ed00377",
   "metadata": {},
   "outputs": [
    {
     "name": "stdout",
     "output_type": "stream",
     "text": [
      "['abc', 'xyz', 'aba']\n"
     ]
    }
   ],
   "source": [
    "def filterwords(list):\n",
    "    return [i for i in list if len(i) <4]\n",
    "list= [\"abc\",\"xyz\",\"aba\",\"1221\"]\n",
    "result= filterwords(list)\n",
    "print(result)"
   ]
  },
  {
   "cell_type": "markdown",
   "id": "8b91839e-5606-45c2-9dbc-4a362c1873c2",
   "metadata": {},
   "source": [
    "7.Write a Python program to find the second largest number in the list."
   ]
  },
  {
   "cell_type": "code",
   "execution_count": 7,
   "id": "2cfe1ee3-6333-427b-86b6-3f9d15bba4ee",
   "metadata": {},
   "outputs": [
    {
     "name": "stdout",
     "output_type": "stream",
     "text": [
      "[10, 27, 34, 98, 100]\n",
      "The second largest number is: 98\n"
     ]
    }
   ],
   "source": [
    "list= [27,10,98,100,34]\n",
    "list.sort()\n",
    "print(list)\n",
    "print(\"The second largest number is:\",list[-2])"
   ]
  },
  {
   "cell_type": "markdown",
   "id": "f081a3e6-3078-4aa0-90de-99f4121dcf89",
   "metadata": {},
   "source": [
    "8. Write a Python program to reverse a list at a specific location."
   ]
  },
  {
   "cell_type": "code",
   "execution_count": 8,
   "id": "e744baa3-0813-4068-b888-33d0990f606d",
   "metadata": {},
   "outputs": [
    {
     "name": "stdout",
     "output_type": "stream",
     "text": [
      "[27, 10]\n"
     ]
    }
   ],
   "source": [
    "list= [27,10,98,100,34]\n",
    "reversed_list= list[:-3]\n",
    "print(reversed_list)"
   ]
  },
  {
   "cell_type": "markdown",
   "id": "c02d2063-da0a-4fbc-94f9-9e468c3118ec",
   "metadata": {},
   "source": [
    "9. Write a Python program to check if a list is a palindrome or not. Return true otherwise false."
   ]
  },
  {
   "cell_type": "code",
   "execution_count": 9,
   "id": "881c90da-11d1-41a2-b07d-151844d50444",
   "metadata": {},
   "outputs": [
    {
     "name": "stdout",
     "output_type": "stream",
     "text": [
      "The list [1, 2, 3, 2, 1] is a palindrome.\n"
     ]
    }
   ],
   "source": [
    "def is_palindrome(lst):\n",
    "    return lst == lst[::-1]\n",
    "example_list = [1, 2, 3, 2, 1]\n",
    "if is_palindrome(example_list):\n",
    "    print(f\"The list {example_list} is a palindrome.\")\n",
    "else:\n",
    "    print(f\"The list {example_list} is not a palindrome.\")\n"
   ]
  },
  {
   "cell_type": "markdown",
   "id": "e2ee9323-3448-410d-a34a-42edd887e220",
   "metadata": {},
   "source": [
    "10. Write a Python a program to find the union and intersection of two lists. "
   ]
  },
  {
   "cell_type": "code",
   "execution_count": 10,
   "id": "92a2c92f-16c8-438a-be1d-e18ce765c1b8",
   "metadata": {},
   "outputs": [
    {
     "name": "stdout",
     "output_type": "stream",
     "text": [
      "Union list is [1, 2, 3, 4, 5, 6, 7, 8, 9, 0]\n",
      "Intersection list is [2, 3, 4, 5, 7, 9, 0]\n"
     ]
    }
   ],
   "source": [
    "list1 = [1,2,3,4,5,6,7,8,9,0]\n",
    "list2 = [9,0,5,4,7,2,3]\n",
    "unionlist = []\n",
    "intersectionlist = []\n",
    "for i in list1:\n",
    "  if i not in unionlist:\n",
    "    unionlist.append(i)\n",
    "for j in list2:\n",
    "  if j not in unionlist:\n",
    "    unionlist.append(j)\n",
    "for i in list1:\n",
    "  if i in list2:\n",
    "    intersectionlist.append(i)\n",
    "print(\"Union list is\", unionlist)\n",
    "print(\"Intersection list is\", intersectionlist)\n"
   ]
  },
  {
   "cell_type": "markdown",
   "id": "afc86728-2ed9-44cc-b9b5-d0e601bc6482",
   "metadata": {},
   "source": [
    "11. Write a Python script to sort (ascending and descending) a dictionary by value."
   ]
  },
  {
   "cell_type": "code",
   "execution_count": 11,
   "id": "9c3e5594-1296-4d11-8079-393f5d1cccf6",
   "metadata": {},
   "outputs": [
    {
     "name": "stdout",
     "output_type": "stream",
     "text": [
      "{'banana': 1, 'melon': 2, 'apple': 3, 'kiwi': 4, 'orange': 5}\n",
      "{'orange': 5, 'kiwi': 4, 'apple': 3, 'melon': 2, 'banana': 1}\n"
     ]
    }
   ],
   "source": [
    "from os import truncate\n",
    "mydict = {\"orange\": 5, \"banana\": 1, \"kiwi\": 4, \"apple\": 3, \"melon\": 2}\n",
    "ascending = dict(sorted(mydict.items(), key = lambda item: item[1]))\n",
    "descending = dict(sorted(mydict.items(), key = lambda item: item[1], reverse = True))\n",
    "print(ascending)\n",
    "print(descending)"
   ]
  },
  {
   "cell_type": "markdown",
   "id": "e1c003a6-cc03-4e99-804b-8a6c39cea0f4",
   "metadata": {},
   "source": [
    "12. Write a Python script to check whether a given key is already exists in a dictionary."
   ]
  },
  {
   "cell_type": "code",
   "execution_count": 12,
   "id": "f4af5def-6a62-4963-958b-7dc27b1f0d77",
   "metadata": {},
   "outputs": [],
   "source": [
    "def check_key_exists(dictionary, key):\n",
    "    if key in dictionary:\n",
    "        print(f\"The key '{key}' exists in the dictionary.\")\n",
    "    else:\n",
    "        print(f\"The key '{key}' does not exist in the dictionary.\")\n"
   ]
  },
  {
   "cell_type": "markdown",
   "id": "6454c7d7-cdbf-47a7-8bf2-e6067b8dbf5a",
   "metadata": {},
   "source": [
    "13. Write a Python program to sum all the values in a dictionary.\n",
    "\n",
    "\n"
   ]
  },
  {
   "cell_type": "code",
   "execution_count": 13,
   "id": "add578d8-b41d-4c10-9963-58c81e9d890f",
   "metadata": {},
   "outputs": [
    {
     "name": "stdout",
     "output_type": "stream",
     "text": [
      "sum of the elements in dict is 399\n"
     ]
    }
   ],
   "source": [
    "dict = {17,99,75,153,55}\n",
    "sum = sum(dict)\n",
    "print(\"sum of the elements in dict is\", sum)"
   ]
  },
  {
   "cell_type": "markdown",
   "id": "cb19158b-9dfa-41a6-ad18-5138d8538e63",
   "metadata": {},
   "source": [
    "14. Write a Python program to create a dictionary with a number and its corresponding square from 1 to input number. And also check if the input number is less than 10."
   ]
  },
  {
   "cell_type": "code",
   "execution_count": null,
   "id": "071abb25-3e54-461a-8802-d7411ff7d949",
   "metadata": {},
   "outputs": [],
   "source": [
    "num = int(input('Enter a value:'))\n",
    "my_dict = { i:i ** 2 for i in range(1, num + 1)}\n",
    "print(my_dict)"
   ]
  },
  {
   "cell_type": "markdown",
   "id": "fa8c32f2-9e08-4918-933e-d27687bda6c3",
   "metadata": {},
   "source": [
    "15. Write a Python program to sort a given dictionary by key."
   ]
  },
  {
   "cell_type": "code",
   "execution_count": null,
   "id": "cc9af5ab-331f-4a5f-810f-c0dad45f6488",
   "metadata": {},
   "outputs": [],
   "source": [
    "my_dict = {'a': 4, 'c': 1, 'e': 3, 'b': 2, 'd': 5}\n",
    "new_dict = {}\n",
    "sorted_dict = sorted(my_dict.keys())\n",
    "\n",
    "for i in sorted_dict:\n",
    "  new_dict[i] = my_dict[i]\n",
    "\n",
    "print(new_dict)"
   ]
  },
  {
   "cell_type": "markdown",
   "id": "5b1524eb-a2b7-43f4-94fe-eeab64bcefae",
   "metadata": {},
   "source": [
    "16. Write a Python program to create a dictionary from a string.\n",
    "Note: Track the count of the letters from the string.\n",
    "Sample string : 'learnpython'\n",
    "Expected output: {'l': 1, 'e': 1, 'a': 1, 'r': 1, 'n': 2, 'p': 1, 'y': 1, 't': 1, 'h': 1, 'o': 1}\n"
   ]
  },
  {
   "cell_type": "code",
   "execution_count": null,
   "id": "04aef829-871a-4f05-9763-6ac7b0fa00b5",
   "metadata": {},
   "outputs": [],
   "source": [
    "string = \"learnpython\"\n",
    "my_dict = {}\n",
    "for letter in string:\n",
    "  my_dict[letter] = my_dict.get(letter, 0) + 1\n",
    "\n",
    "print(my_dict)"
   ]
  },
  {
   "cell_type": "markdown",
   "id": "e15e4e46-9e47-4f57-be7a-60b86c96af06",
   "metadata": {},
   "source": [
    "17. Write a Python program to get the top three items in a shop.\n",
    "Sample data: {'item1': 45.50, 'item2':35, 'item3': 41.30, 'item4':55, 'item5': 24}\n",
    "\n",
    "Expected Output:\n",
    "item4 55\n",
    "item1 45.5\n",
    "item3 41.3\n"
   ]
  },
  {
   "cell_type": "code",
   "execution_count": null,
   "id": "4ba215b2-6171-4125-8dca-ab5b0f74b1da",
   "metadata": {},
   "outputs": [],
   "source": [
    "shop_items = {'item1': 45.50, 'item2': 35, 'item3': 41.30, 'item4': 55, 'item5': 24}\n",
    "top_items = sorted(shop_items.items(), key=lambda x: x[1], reverse=True)[:3]\n",
    "for item, price in top_items:\n",
    "    print(f\"{item} {price}\")\n"
   ]
  },
  {
   "cell_type": "code",
   "execution_count": null,
   "id": "e80ce1a4-636b-4d7c-a82b-d474eb127747",
   "metadata": {},
   "outputs": [],
   "source": []
  }
 ],
 "metadata": {
  "kernelspec": {
   "display_name": "Python 3 (ipykernel)",
   "language": "python",
   "name": "python3"
  },
  "language_info": {
   "codemirror_mode": {
    "name": "ipython",
    "version": 3
   },
   "file_extension": ".py",
   "mimetype": "text/x-python",
   "name": "python",
   "nbconvert_exporter": "python",
   "pygments_lexer": "ipython3",
   "version": "3.12.0"
  }
 },
 "nbformat": 4,
 "nbformat_minor": 5
}
