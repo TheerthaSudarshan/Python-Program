{
 "cells": [
  {
   "cell_type": "markdown",
   "id": "90e0d17f-b95e-4118-a16d-d49a97ae89ac",
   "metadata": {},
   "source": [
    "1. Create a function with a default argument Write a program to create a function show_employee() using the following conditions. ● It should accept the employee’s name and salary and display both. ● If the salary is missing in the function call then assign default value 9000 to salary."
   ]
  },
  {
   "cell_type": "code",
   "execution_count": 1,
   "id": "a654fcd8-0ddb-4d1b-b8b6-a12a08a44413",
   "metadata": {},
   "outputs": [],
   "source": [
    "def show_employee(name, salary=9000):\n",
    "  print(\"Employees name: \" + name)\n",
    "  print(\"Employees salary: \" +str(salary))"
   ]
  },
  {
   "cell_type": "markdown",
   "id": "06228fa6-ee82-47b6-88a4-9a6ca642765a",
   "metadata": {},
   "source": [
    "2. Create an inner function to calculate the addition in the following way ● Create an outer function that will accept two parameters, a and b ● Create an inner function inside an outer function that will calculate the addition of a and b ● At last, an outer function will add 5 into addition and return it."
   ]
  },
  {
   "cell_type": "code",
   "execution_count": 3,
   "id": "1ba60fa1-ff73-4c97-8c2e-c8799933136f",
   "metadata": {},
   "outputs": [
    {
     "name": "stdout",
     "output_type": "stream",
     "text": [
      "16\n"
     ]
    }
   ],
   "source": [
    "def outer_function(a,b):\n",
    "  def inner_function(x,y):\n",
    "    return x+y\n",
    "\n",
    "  addition_result = inner_function(a,b)\n",
    "  final_result = addition_result + 5\n",
    "  return final_result\n",
    "\n",
    "     \n",
    "\n",
    "result = outer_function(6,5)\n",
    "print(result)"
   ]
  },
  {
   "cell_type": "markdown",
   "id": "3e6ebe4f-c6cb-470c-aab6-959096e0b63d",
   "metadata": {},
   "source": [
    "3. Generate a Python list of all the even numbers between 4 to 30."
   ]
  },
  {
   "cell_type": "code",
   "execution_count": 6,
   "id": "63ae368f-df38-4be7-ae4c-4190038fa5bb",
   "metadata": {},
   "outputs": [
    {
     "name": "stdout",
     "output_type": "stream",
     "text": [
      "4\n",
      "6\n",
      "8\n",
      "10\n",
      "12\n",
      "14\n",
      "16\n",
      "18\n",
      "20\n",
      "22\n",
      "24\n",
      "26\n",
      "28\n",
      "30\n"
     ]
    }
   ],
   "source": [
    "for x in range(4,31):\n",
    "  if x%2==0:\n",
    "    print(x)"
   ]
  },
  {
   "cell_type": "markdown",
   "id": "ff848870-0fe1-482b-924d-6066c2b7c54f",
   "metadata": {},
   "source": [
    "4. Lambda Function to Check if value is in a List Given a list, the task is to write a Python program to check if the value exists in the list or not using the lambda function. Input : L = [1, 2, 3, 4, 5] element = 4 Output : Element is Present in the list Input : L = [1, 2, 3, 4, 5] element = 8 Output : Element is NOT Present in the list."
   ]
  },
  {
   "cell_type": "code",
   "execution_count": 8,
   "id": "32f37c87-ed35-4cc2-98eb-4f90a0bbed90",
   "metadata": {},
   "outputs": [
    {
     "name": "stdout",
     "output_type": "stream",
     "text": [
      "Element is not present in the list\n"
     ]
    }
   ],
   "source": [
    "L1 = [1, 2, 3, 4, 5]\n",
    "element = 9\n",
    "\n",
    "x = lambda L1,element: True if element in L1 else False\n",
    "\n",
    "if(x(L1,element)):\n",
    "  print(\"Element is present in the list\")\n",
    "\n",
    "else:\n",
    "  print(\"Element is not present in the list\")\n"
   ]
  },
  {
   "cell_type": "markdown",
   "id": "a50f1a85-c48f-4d17-993e-b38e79143f2f",
   "metadata": {},
   "source": [
    "5. Sort list of tuples with their sum Sort the points based on their sum of elements in the tuples points = [(1, 2), (5, 3), (0, 7), (3, 1)]."
   ]
  },
  {
   "cell_type": "code",
   "execution_count": 9,
   "id": "5c8fedd0-3cf1-4d3b-9112-8c455d256ae6",
   "metadata": {},
   "outputs": [
    {
     "name": "stdout",
     "output_type": "stream",
     "text": [
      "[(1, 2), (3, 1), (0, 7), (5, 3)]\n"
     ]
    }
   ],
   "source": [
    "def sorted_points():\n",
    " points = [(1, 2), (5, 3), (0, 7), (3, 1)]\n",
    " sorted_points = sorted(points, key = lambda x: sum(x))\n",
    " print(sorted_points)\n",
    "\n",
    "     \n",
    "sorted_points()"
   ]
  },
  {
   "cell_type": "markdown",
   "id": "a8ce308e-eaeb-451e-8480-4ec01e115b6b",
   "metadata": {},
   "source": [
    "6. Write a python function, which will find all such numbers between 1000 and 3000 (both included) such that each digit of the number is an even number. Return the results as a list."
   ]
  },
  {
   "cell_type": "code",
   "execution_count": 17,
   "id": "a5da02f4-f12e-48fe-970a-a54f4cab17fa",
   "metadata": {},
   "outputs": [],
   "source": [
    "def result():\n",
    "  result= []\n",
    "  for num  in range(1000, 3001):\n",
    "    digits = [int(digit) for digit in str(num)]\n",
    "    if all(digit % 2 == 0 for digit in digits):\n",
    "      result.append(num)\n",
    "  print(result)"
   ]
  },
  {
   "cell_type": "code",
   "execution_count": 18,
   "id": "dc16a0bd-1720-45d7-a9ef-fe07c6764db1",
   "metadata": {},
   "outputs": [
    {
     "name": "stdout",
     "output_type": "stream",
     "text": [
      "[2000, 2002, 2004, 2006, 2008, 2020, 2022, 2024, 2026, 2028, 2040, 2042, 2044, 2046, 2048, 2060, 2062, 2064, 2066, 2068, 2080, 2082, 2084, 2086, 2088, 2200, 2202, 2204, 2206, 2208, 2220, 2222, 2224, 2226, 2228, 2240, 2242, 2244, 2246, 2248, 2260, 2262, 2264, 2266, 2268, 2280, 2282, 2284, 2286, 2288, 2400, 2402, 2404, 2406, 2408, 2420, 2422, 2424, 2426, 2428, 2440, 2442, 2444, 2446, 2448, 2460, 2462, 2464, 2466, 2468, 2480, 2482, 2484, 2486, 2488, 2600, 2602, 2604, 2606, 2608, 2620, 2622, 2624, 2626, 2628, 2640, 2642, 2644, 2646, 2648, 2660, 2662, 2664, 2666, 2668, 2680, 2682, 2684, 2686, 2688, 2800, 2802, 2804, 2806, 2808, 2820, 2822, 2824, 2826, 2828, 2840, 2842, 2844, 2846, 2848, 2860, 2862, 2864, 2866, 2868, 2880, 2882, 2884, 2886, 2888]\n"
     ]
    }
   ],
   "source": [
    "result()"
   ]
  },
  {
   "cell_type": "markdown",
   "id": "f28e6cc8-f69a-478a-a79d-82cbbff93b69",
   "metadata": {},
   "source": [
    "7. Write a python function that accepts a sentence and calculate and return the number of letters and digits. Suppose the following input is supplied to the program: hello world! 123 Then, the output should be: LETTERS 10 DIGITS 3.\n",
    "\n"
   ]
  },
  {
   "cell_type": "code",
   "execution_count": 19,
   "id": "97004fb7-390d-4326-ae92-b55b1c2bb710",
   "metadata": {},
   "outputs": [
    {
     "name": "stdout",
     "output_type": "stream",
     "text": [
      "LETTERS  10\n",
      "DIGITS  3\n"
     ]
    }
   ],
   "source": [
    "def result(sentence):\n",
    "  letters = 0\n",
    "  digits = 0\n",
    "\n",
    "  for let in sentence:\n",
    "    if let.isalpha():\n",
    "      letters+=1\n",
    "    elif let.isnumeric():\n",
    "      digits+=1\n",
    "  return letters , digits\n",
    "letters , digits = result(\"Hello world!123\")\n",
    "print(\"LETTERS \", letters)\n",
    "print(\"DIGITS \" , digits)"
   ]
  },
  {
   "cell_type": "markdown",
   "id": "f5dcc2b0-b695-455b-ac1f-a2fbf3001ac7",
   "metadata": {},
   "source": [
    "8. Write a Python program to convert all the characters into uppercase and lowercase and eliminate duplicate letters from a given sequence. Use the map() function."
   ]
  },
  {
   "cell_type": "code",
   "execution_count": 20,
   "id": "f7d767d5-0ecb-4424-ade1-d96881066f90",
   "metadata": {},
   "outputs": [
    {
     "name": "stdout",
     "output_type": "stream",
     "text": [
      "['APPLE', 'KIWI', 'MELON']\n"
     ]
    }
   ],
   "source": [
    "out = map(lambda x: x.upper(), [\"apple\",\"kiwi\",\"melon\"])\n",
    "output = list(out)\n",
    "print(output)\n"
   ]
  },
  {
   "cell_type": "code",
   "execution_count": 21,
   "id": "13d12c4e-faca-4668-9bcd-a4f1301ab3a0",
   "metadata": {},
   "outputs": [
    {
     "name": "stdout",
     "output_type": "stream",
     "text": [
      "['apple', 'kiwi', 'melon']\n"
     ]
    }
   ],
   "source": [
    "out = map(lambda x: x.lower(),['APPLE', 'KIWI', 'MELON'])\n",
    "output = list(out)\n",
    "print(output)"
   ]
  },
  {
   "cell_type": "code",
   "execution_count": 22,
   "id": "422faef0-9090-4884-8537-70af6610b9a0",
   "metadata": {},
   "outputs": [
    {
     "name": "stdout",
     "output_type": "stream",
     "text": [
      "{('B', 'b'), ('A', 'a'), ('D', 'd'), ('C', 'c')}\n"
     ]
    }
   ],
   "source": [
    "def change(x):\n",
    "  return str.upper(x),str.lower(x)\n",
    "sequence = [\"a\",\"b\",\"c\",\"c\",\"b\",\"d\",\"a\"]\n",
    "result = map(change,sequence)\n",
    "print(set(result))\n",
    "     "
   ]
  },
  {
   "cell_type": "markdown",
   "id": "ed556902-b8a4-4f7f-a2dc-76ba0f43c8c0",
   "metadata": {},
   "source": [
    "9. Write a Python program to add two given lists and find the difference between them. Use the map() function"
   ]
  },
  {
   "cell_type": "code",
   "execution_count": 25,
   "id": "c21b6498-b5d8-4159-91a2-19f7f976339b",
   "metadata": {},
   "outputs": [
    {
     "name": "stdout",
     "output_type": "stream",
     "text": [
      "Sum of the list is :  [13, 15, 7, 11, 17]\n",
      "Differece of the list is :  [-1, -1, -1, -1, -1]\n"
     ]
    }
   ],
   "source": [
    "def add_and_find_difference(list1,list2):\n",
    "  sum_of_list = list(map(lambda x, y: x+y, list1,list2))\n",
    "  difference_of_list = list(map(lambda x, y: y-x , list1, list2))\n",
    "  return  sum_of_list, difference_of_list\n",
    "\n",
    "list1= [7,8,4,6,9]\n",
    "list2=[6,7,3,5,8]\n",
    "\n",
    "sum_of_list, difference_of_list  =  add_and_find_difference(list1, list2)\n",
    "print(\"Sum of the list is : \",sum_of_list)\n",
    "print(\"Differece of the list is : \",difference_of_list)\n",
    "\n",
    "     "
   ]
  },
  {
   "cell_type": "markdown",
   "id": "b018ac90-157b-493a-8577-0331e603a1d3",
   "metadata": {},
   "source": [
    "10. Write a Python program to filter the height and weight of students, which are stored in a dictionary using lambda. Original Dictionary: {'Cierra Vega': (6.2, 71), 'Alden Cantrell': (5.9, 65), 'Kierra Gentry': (6.0, 68), 'Pierre Cox': (5.8, 66)} Height> 6ft and Weight> 70kg: {'Cierra Vega': (6.2, 71)."
   ]
  },
  {
   "cell_type": "code",
   "execution_count": 26,
   "id": "63881934-fbc3-4562-acfa-248c4154486f",
   "metadata": {},
   "outputs": [
    {
     "name": "stdout",
     "output_type": "stream",
     "text": [
      "Original dictionary:  {'Cierra Vega': (6.2, 71), 'Alden Cantrell': (5.9, 65), 'Kierra Gentry': (6.0, 68), 'Pierre Cox': (5.8, 66)}\n",
      "Height> 6ft and Weight> 70kg:  {'Cierra Vega': (6.2, 71)}\n"
     ]
    }
   ],
   "source": [
    "student_data =  {'Cierra Vega': (6.2, 71), 'Alden Cantrell': (5.9, 65), 'Kierra Gentry': (6.0, 68), 'Pierre Cox': (5.8, 66)}\n",
    "filtered_data = dict(filter(lambda item: item[1][0] > 6.0 and item[1][1] > 70, student_data.items()))\n",
    "\n",
    "print(\"Original dictionary: \", student_data)\n",
    "print(\"Height> 6ft and Weight> 70kg: \", filtered_data )\n",
    "\n",
    "     "
   ]
  },
  {
   "cell_type": "markdown",
   "id": "6d81e3bc-200a-41c9-a225-bc702e5bed19",
   "metadata": {},
   "source": [
    "11. Write a Python program to remove all elements from a given list present in another list using lambda. Original lists: list1: [1, 2, 3, 4, 5, 6, 7, 8, 9, 10] list2: [2, 4, 6, 8] Remove all elements from 'list1' present in 'list2: [1, 3, 5, 7, 9, 10]."
   ]
  },
  {
   "cell_type": "code",
   "execution_count": 27,
   "id": "0e12fbb6-1f77-4ecb-87f9-90e3ae4f9006",
   "metadata": {},
   "outputs": [
    {
     "name": "stdout",
     "output_type": "stream",
     "text": [
      "filtered list is :  [1, 3, 5, 7, 9, 10]\n"
     ]
    }
   ],
   "source": [
    "list1 = [1, 2, 3, 4, 5, 6, 7, 8, 9, 10]\n",
    "list2 = [2, 4, 6, 8]\n",
    "filtered_list = list(filter(lambda x: x not in list2, list1))\n",
    "print(\"filtered list is : \", filtered_list)"
   ]
  },
  {
   "cell_type": "markdown",
   "id": "16eed06f-327a-4f30-a5ce-61efabc41c99",
   "metadata": {},
   "source": [
    "12. Write a Python program to calculate the product of a given list of numbers using lambda. list1: [1, 2, 3, 4, 5, 6, 7, 8, 9, 10] Product of the said list numbers: 3628800."
   ]
  },
  {
   "cell_type": "code",
   "execution_count": 28,
   "id": "de0a7463-e4f1-4f80-a06d-f96c314a0822",
   "metadata": {},
   "outputs": [
    {
     "name": "stdout",
     "output_type": "stream",
     "text": [
      "Product of the given list number : 3628800\n"
     ]
    }
   ],
   "source": [
    "import functools\n",
    "\n",
    "list1 = [1, 2, 3, 4, 5, 6, 7, 8, 9, 10]\n",
    "product =functools.reduce(lambda x,y: x*y, list1)\n",
    "print(\"Product of the given list number :\", product)"
   ]
  },
  {
   "cell_type": "markdown",
   "id": "780956a4-bca1-425a-94e5-d13fafdd0b69",
   "metadata": {},
   "source": [
    "13. Write a Python program to multiply all the numbers in a given list using lambda. Original list: [4, 3, 2, 2, -1, 18] Mmultiply all the numbers of the said list: -864."
   ]
  },
  {
   "cell_type": "code",
   "execution_count": 29,
   "id": "15a164f5-60ff-445c-baff-c0a6718121f9",
   "metadata": {},
   "outputs": [
    {
     "name": "stdout",
     "output_type": "stream",
     "text": [
      "The result is :  -864\n"
     ]
    }
   ],
   "source": [
    "from functools import reduce\n",
    "Original_list = [4, 3, 2, 2, -1, 18]\n",
    "\n",
    "product = reduce(lambda x,y: x*y, Original_list)\n",
    "print(\"The result is : \", product)"
   ]
  },
  {
   "cell_type": "markdown",
   "id": "df0ba791-a8c6-442e-9b0f-6bb66fc39df2",
   "metadata": {},
   "source": [
    "14.Write a Python program to calculate the average value of the numbers in a given tuple of tuples using lambda. Original Tuple: ((10, 10, 10), (30, 45, 56), (81, 80, 39), (1, 2, 3)) Average value of the numbers of the said tuple of tuples: (30.5, 34.25, 27.0)."
   ]
  },
  {
   "cell_type": "code",
   "execution_count": 30,
   "id": "895cbf85-62eb-4e0e-a33d-f1e0bd9a80dd",
   "metadata": {},
   "outputs": [
    {
     "name": "stdout",
     "output_type": "stream",
     "text": [
      "Average value of the numbers :  (30.5, 34.25, 27.0)\n"
     ]
    }
   ],
   "source": [
    "from functools import reduce\n",
    "\n",
    "Original_Tuple = ((10, 10, 10), (30, 45, 56), (81, 80, 39), (1, 2, 3))\n",
    "new_tuple = tuple(map(lambda *avrgs : sum(avrgs)/len(avrgs), *Original_Tuple))\n",
    "print(\"Average value of the numbers : \", new_tuple)\n"
   ]
  },
  {
   "cell_type": "markdown",
   "id": "7911c043-cdcc-4c6c-987d-211942e9acb8",
   "metadata": {},
   "source": [
    "15. Write a Python program to sort a given mixed list of integers and strings using lambda. Numbers must be sorted before strings. Original list: [19, 'red', 12, 'green', 'blue', 10, 'white', 'green', 1] Sort the said mixed list of integers and strings: [1, 10, 12, 19, 'blue', 'green', 'green', 'red', 'white']."
   ]
  },
  {
   "cell_type": "code",
   "execution_count": 31,
   "id": "a2a1a3f0-9625-44eb-8562-4cc3b9c37d15",
   "metadata": {},
   "outputs": [
    {
     "name": "stdout",
     "output_type": "stream",
     "text": [
      "Sorted list is:  [1, 10, 12, 19, 'blue', 'green', 'green', 'red', 'white']\n"
     ]
    }
   ],
   "source": [
    "Original_list = [19, 'red', 12, 'green', 'blue', 10, 'white', 'green', 1]\n",
    "\n",
    "sorted_list = sorted(Original_list, key=lambda x: (isinstance(x, str), x))\n",
    "\n",
    "print(\"Sorted list is: \", sorted_list)\n",
    "     "
   ]
  },
  {
   "cell_type": "markdown",
   "id": "313f7a7e-102c-4196-bb09-3d441a0e71c1",
   "metadata": {},
   "source": [
    "16. :Write a Python program to count the occurrences of items in a given list using lambda. Original list: [3, 4, 5, 8, 0, 3, 8, 5, 0, 3, 1, 5, 2, 3, 4, 2] Count the occurrences of the items in the said list: {3: 4, 4: 2, 5: 3, 8: 2, 0: 2, 1: 1, 2: 2}."
   ]
  },
  {
   "cell_type": "code",
   "execution_count": 32,
   "id": "7acdc1fd-6258-483e-8228-386963a3995b",
   "metadata": {},
   "outputs": [
    {
     "name": "stdout",
     "output_type": "stream",
     "text": [
      "Occurrences :  {3: 4, 4: 2, 5: 3, 8: 2, 0: 2, 1: 1, 2: 2}\n"
     ]
    }
   ],
   "source": [
    "Original_list = [3, 4, 5, 8, 0, 3, 8, 5, 0, 3, 1, 5, 2, 3, 4, 2]\n",
    "\n",
    "occurrences = dict(map(lambda x: (x, Original_list.count(x)), Original_list))\n",
    "\n",
    "print(\"Occurrences : \", occurrences)"
   ]
  },
  {
   "cell_type": "markdown",
   "id": "4031311a-d669-4c69-adc0-3592f64b3c28",
   "metadata": {},
   "source": [
    "17. Write a Python program to remove None values from a given list using the lambda function. Original list: [12, 0, None, 23, None, -55, 234, 89, None, 0, 6, -12] Remove None value from the said list: [12, 0, 23, -55, 234, 89, 0, 6, -12]."
   ]
  },
  {
   "cell_type": "code",
   "execution_count": 33,
   "id": "7177c9aa-0b51-43cc-b2c8-25b4119c1e91",
   "metadata": {},
   "outputs": [
    {
     "name": "stdout",
     "output_type": "stream",
     "text": [
      "The result is:  [12, 0, 23, -55, 234, 89, 0, 6, -12]\n"
     ]
    }
   ],
   "source": [
    "Original_list = [12, 0, None, 23, None, -55, 234, 89, None, 0, 6, -12]\n",
    "filtered_list = list(filter(lambda x: x is not None, Original_list))\n",
    "\n",
    "print(\"The result is: \", filtered_list)"
   ]
  },
  {
   "cell_type": "markdown",
   "id": "181d4d02-2d59-4825-89d8-2b86891b7e6f",
   "metadata": {},
   "source": []
  }
 ],
 "metadata": {
  "kernelspec": {
   "display_name": "Python 3 (ipykernel)",
   "language": "python",
   "name": "python3"
  },
  "language_info": {
   "codemirror_mode": {
    "name": "ipython",
    "version": 3
   },
   "file_extension": ".py",
   "mimetype": "text/x-python",
   "name": "python",
   "nbconvert_exporter": "python",
   "pygments_lexer": "ipython3",
   "version": "3.12.0"
  }
 },
 "nbformat": 4,
 "nbformat_minor": 5
}
