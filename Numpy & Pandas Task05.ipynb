{
 "cells": [
  {
   "cell_type": "markdown",
   "id": "e8955401-282d-4d21-8f3b-efaeb5cf3b6c",
   "metadata": {},
   "source": [
    "# NumPy"
   ]
  },
  {
   "cell_type": "markdown",
   "id": "4ea3844d-df21-4d75-8073-544913a72b41",
   "metadata": {},
   "source": [
    "#### 1. How to extract all odd numbers from arr?"
   ]
  },
  {
   "cell_type": "code",
   "execution_count": 1,
   "id": "35a8bc42-efc5-4450-b550-0a573634440d",
   "metadata": {},
   "outputs": [
    {
     "name": "stdout",
     "output_type": "stream",
     "text": [
      "Odd numbers: [1, 3, 5, 7, 9]\n"
     ]
    }
   ],
   "source": [
    "def extract_odd_numbers(arr):\n",
    "    return [num for num in arr if num % 2 != 0]\n",
    "arr = [1, 2, 3, 4, 5, 6, 7, 8, 9, 10]\n",
    "odd_numbers = extract_odd_numbers(arr)\n",
    "print(\"Odd numbers:\", odd_numbers)\n"
   ]
  },
  {
   "cell_type": "markdown",
   "id": "5e74d3e4-0eda-42be-b3b1-b9eaa9d469b0",
   "metadata": {},
   "source": [
    "#### 2. Replace all odd numbers in arr with -1 without changing."
   ]
  },
  {
   "cell_type": "code",
   "execution_count": 2,
   "id": "57e77486-1b73-4df4-8ef4-6337ea6b4647",
   "metadata": {},
   "outputs": [
    {
     "name": "stdout",
     "output_type": "stream",
     "text": [
      "[ 0 -1  2 -1  4 -1  6 -1  8 -1 10]\n"
     ]
    }
   ],
   "source": [
    "import numpy as np\n",
    "arr = np.array([0, 1, 2, 3, 4, 5, 6, 7, 8, 9, 10])\n",
    "arr[arr % 2 != 0] = -1\n",
    "print(arr)"
   ]
  },
  {
   "cell_type": "markdown",
   "id": "114c0314-a58a-4542-8dde-c5e9b53dbd39",
   "metadata": {},
   "source": [
    "#### 3. Convert a 1D array to a 2D array with 2 rows"
   ]
  },
  {
   "cell_type": "code",
   "execution_count": 3,
   "id": "9ec4b6b0-f7a3-44aa-9b9d-280dd2b13aea",
   "metadata": {},
   "outputs": [
    {
     "data": {
      "text/plain": [
       "array([[0, 1, 2, 3, 4],\n",
       "       [5, 6, 7, 8, 9]])"
      ]
     },
     "execution_count": 3,
     "metadata": {},
     "output_type": "execute_result"
    }
   ],
   "source": [
    "import numpy as np\n",
    "arr=np.arange(10)\n",
    "new_arr = np.reshape(arr, (-1 , 5))\n",
    "new_arr"
   ]
  },
  {
   "cell_type": "markdown",
   "id": "413bf6b1-8ae0-43f8-83f4-e69fd61fca24",
   "metadata": {},
   "source": [
    "#### 4. Stack arrays a and b vertically"
   ]
  },
  {
   "cell_type": "code",
   "execution_count": 4,
   "id": "fed6b2ca-d30b-4747-a861-6751d31ec29b",
   "metadata": {},
   "outputs": [
    {
     "data": {
      "text/plain": [
       "array([[0, 1, 2, 3, 4],\n",
       "       [5, 6, 7, 8, 9],\n",
       "       [1, 1, 1, 1, 1],\n",
       "       [1, 1, 1, 1, 1]])"
      ]
     },
     "execution_count": 4,
     "metadata": {},
     "output_type": "execute_result"
    }
   ],
   "source": [
    "import numpy as np\n",
    "a = np.arange(10).reshape(2,-1)\n",
    "b = np.repeat(1, 10).reshape(2,-1)\n",
    "vertical = np.vstack((a,b))\n",
    "vertical\n"
   ]
  },
  {
   "cell_type": "markdown",
   "id": "cd09bdd0-6623-4efd-a2cf-065ae6d44543",
   "metadata": {},
   "source": [
    "#### 5. Stack the arrays a and b horizontally."
   ]
  },
  {
   "cell_type": "code",
   "execution_count": 5,
   "id": "eb56bf01-00c0-4ba2-9916-9543c88c2fe6",
   "metadata": {},
   "outputs": [
    {
     "data": {
      "text/plain": [
       "array([[0, 1, 2, 3, 4, 1, 1, 1, 1, 1],\n",
       "       [5, 6, 7, 8, 9, 1, 1, 1, 1, 1]])"
      ]
     },
     "execution_count": 5,
     "metadata": {},
     "output_type": "execute_result"
    }
   ],
   "source": [
    "import numpy as np\n",
    "a = np.arange(10).reshape(2,-1)\n",
    "b = np.repeat(1, 10).reshape(2,-1)\n",
    "horizontally = np.hstack((a,b))\n",
    "horizontally"
   ]
  },
  {
   "cell_type": "markdown",
   "id": "32a7d24d-60f2-425d-8a3c-467ea7918300",
   "metadata": {},
   "source": [
    "#### 6.How to get the common items between two python numpy arrays?"
   ]
  },
  {
   "cell_type": "code",
   "execution_count": 6,
   "id": "7b03596f-938b-4a19-bbde-b618c3f5c1b7",
   "metadata": {},
   "outputs": [
    {
     "data": {
      "text/plain": [
       "array([2, 4])"
      ]
     },
     "execution_count": 6,
     "metadata": {},
     "output_type": "execute_result"
    }
   ],
   "source": [
    "import numpy as np\n",
    "a = np.array([1,2,3,2,3,4,3,4,5,6])\n",
    "b = np.array([7,2,10,2,7,4,9,4,9,8])\n",
    "np.intersect1d(a,b)"
   ]
  },
  {
   "cell_type": "markdown",
   "id": "7c6a33e6-0f41-4d91-b86f-8224b72c07f9",
   "metadata": {},
   "source": [
    "#### 7.How to remove from one array those items that exist in another? From array a remove all items present in array b"
   ]
  },
  {
   "cell_type": "code",
   "execution_count": 7,
   "id": "98b6b398-b3d4-4db5-95a3-293f24f02f60",
   "metadata": {},
   "outputs": [
    {
     "data": {
      "text/plain": [
       "array([1, 2, 3, 4, 5, 6, 7, 8, 9])"
      ]
     },
     "execution_count": 7,
     "metadata": {},
     "output_type": "execute_result"
    }
   ],
   "source": [
    "import numpy as np\n",
    "\n",
    "a = np.array([1,2,3,4,5])\n",
    "b = np.array([5,6,7,8,9])\n",
    "np.union1d(a,b)\n"
   ]
  },
  {
   "cell_type": "markdown",
   "id": "835ceb7e-90e8-4ebc-ad35-22ec2f3f64eb",
   "metadata": {},
   "source": [
    "#### 8. How to get the positions where elements of two arrays match? Get the positions where elements of a and b match"
   ]
  },
  {
   "cell_type": "code",
   "execution_count": 8,
   "id": "5a54c7fe-a503-4487-aa5c-71ec5455c5aa",
   "metadata": {},
   "outputs": [
    {
     "data": {
      "text/plain": [
       "(array([1, 7]),)"
      ]
     },
     "execution_count": 8,
     "metadata": {},
     "output_type": "execute_result"
    }
   ],
   "source": [
    "import numpy as np\n",
    "a = np.array([1,2,3,8,3,4,3,4,5,6])\n",
    "b = np.array([7,2,10,2,7,5,9,4,9,8])\n",
    "np.where(a==b)\n"
   ]
  },
  {
   "cell_type": "markdown",
   "id": "01054dd2-1e07-4bab-bf5e-227abc1b85f2",
   "metadata": {},
   "source": [
    "#### 9. How to extract all numbers between a given range from a numpy array?\n",
    "Get all items between 5 and 10 from a"
   ]
  },
  {
   "cell_type": "code",
   "execution_count": 1,
   "id": "e4bc4ff7-569a-4ba1-ae35-521f80f041cd",
   "metadata": {},
   "outputs": [
    {
     "data": {
      "text/plain": [
       "array([ 6, 10])"
      ]
     },
     "execution_count": 1,
     "metadata": {},
     "output_type": "execute_result"
    }
   ],
   "source": [
    "import numpy as np\n",
    "\n",
    "a = np.array([2, 6, 1, 19, 10, 3, 20])\n",
    "a[np.where(np.logical_and(a >=  5 , a <= 10))]"
   ]
  },
  {
   "cell_type": "markdown",
   "id": "3c6676d1-051f-41ed-87a6-91f12bac77a8",
   "metadata": {},
   "source": []
  },
  {
   "cell_type": "markdown",
   "id": "ba9defa2-e631-4d96-b7f5-183ff6864939",
   "metadata": {},
   "source": []
  },
  {
   "cell_type": "markdown",
   "id": "191e6379-07a6-4e89-99f1-72c5e0ae641d",
   "metadata": {},
   "source": [
    "# Pandas"
   ]
  },
  {
   "cell_type": "markdown",
   "id": "cd23f5db-087e-405c-a691-e91726b43015",
   "metadata": {},
   "source": [
    "## Pandas Data Series"
   ]
  },
  {
   "cell_type": "markdown",
   "id": "cc63d0a0-a355-420d-84a0-2dea4cccdb58",
   "metadata": {},
   "source": [
    "#### 1. Write a Pandas program to convert a dictionary to a Pandas series.\n",
    "\n",
    "Sample Series:\n",
    "Original dictionary:\n",
    "{'a': 100, 'b': 200, 'c': 300, 'd': 400, 'e': 800}\n",
    "\n",
    "Converted series:\n",
    "a     100\n",
    "b     200\n",
    "c     300\n",
    "d     400\n",
    "e     800"
   ]
  },
  {
   "cell_type": "code",
   "execution_count": 6,
   "id": "8dc5161c-d3bd-4715-97ff-62fc4b158d30",
   "metadata": {},
   "outputs": [
    {
     "name": "stdout",
     "output_type": "stream",
     "text": [
      "a    100\n",
      "b    200\n",
      "c    300\n",
      "d    400\n",
      "e    800\n",
      "dtype: int64\n"
     ]
    }
   ],
   "source": [
    "import pandas as pd\n",
    "dictionary = {'a': 100, 'b': 200, 'c': 300, 'd': 400, 'e': 800}\n",
    "converted_series = pd.Series(dictionary)\n",
    "print(converted_series)"
   ]
  },
  {
   "cell_type": "markdown",
   "id": "39c6a1cb-a28d-4fdc-811b-2b8c3895305f",
   "metadata": {},
   "source": [
    "#### 2. Write a Pandas program to convert a NumPy array to a Pandas series.\n",
    "Sample Series:\n",
    "  NumPy array:\n",
    "[10 20 30 40 50]\n",
    "Converted Pandas series:\n",
    "0    10\n",
    "1    20\n",
    "2    30\n",
    "3    40\n",
    "4    50\n",
    "dtype: int64\n"
   ]
  },
  {
   "cell_type": "code",
   "execution_count": 7,
   "id": "14e28e3c-1d68-4c7c-b0c3-b80defd3332a",
   "metadata": {},
   "outputs": [
    {
     "data": {
      "text/plain": [
       "0    10\n",
       "1    20\n",
       "2    30\n",
       "3    40\n",
       "4    50\n",
       "dtype: int64"
      ]
     },
     "execution_count": 7,
     "metadata": {},
     "output_type": "execute_result"
    }
   ],
   "source": [
    "narray =np.array([10, 20, 30, 40, 50])\n",
    "converted_series = pd.Series(narray)\n",
    "converted_series"
   ]
  },
  {
   "cell_type": "markdown",
   "id": "0dda4323-1ee0-4aae-9f0f-fc0581813ab6",
   "metadata": {},
   "source": [
    "#### 3. Write a Pandas program to change the data type of given a column or a Series.\n",
    "Sample Series:\n",
    "    Original Data Series:\n",
    "0       100\n",
    "1       200\n",
    "2    python\n",
    "3    300.12\n",
    "4       400\n",
    "dtype: object\n",
    "Change the said data type to numeric:\n",
    "0    100.00\n",
    "1    200.00\n",
    "2       NaN\n",
    "3    300.12\n",
    "4    400.00\n",
    "dtype: float64\n"
   ]
  },
  {
   "cell_type": "code",
   "execution_count": 8,
   "id": "c6d97351-cf28-4fe5-9c2c-2785bf76c2dc",
   "metadata": {},
   "outputs": [
    {
     "name": "stdout",
     "output_type": "stream",
     "text": [
      "original data series:\n",
      "0       100\n",
      "1       200\n",
      "2    python\n",
      "3    300.12\n",
      "4       400\n",
      "dtype: object\n",
      "Change the said data type to numeric:\n"
     ]
    },
    {
     "data": {
      "text/plain": [
       "0    100.00\n",
       "1    200.00\n",
       "2       NaN\n",
       "3    300.12\n",
       "4    400.00\n",
       "dtype: float64"
      ]
     },
     "execution_count": 8,
     "metadata": {},
     "output_type": "execute_result"
    }
   ],
   "source": [
    "import pandas as pd\n",
    "original_series = pd.Series([100, 200, 'python', 300.12, 400])\n",
    "print(\"original data series:\")\n",
    "print(original_series)\n",
    "print(\"Change the said data type to numeric:\")\n",
    "new_series = pd.to_numeric(original_series, errors = 'coerce')\n",
    "new_series"
   ]
  },
  {
   "cell_type": "markdown",
   "id": "883b9ce6-674f-4ce8-a388-160d2c6e8d75",
   "metadata": {},
   "source": [
    "#### 4.  Write a Pandas program to convert the first column of a DataFrame as a Series.\n",
    "Sample Output:  \n",
    "Original DataFrame\n",
    "   col1  col2  col3\n",
    "0     1     4     7\n",
    "1     2     5     5\n",
    "2     3     6     8\n",
    "3     4     9    12\n",
    "4     7     5     1\n",
    "5    11     0    11\n",
    "\n",
    "1st column as a Series:\n",
    "0     1\n",
    "1     2\n",
    "2     3\n",
    "3     4\n",
    "4     7\n",
    "5    11\n",
    "Name: col1, dtype: int64\n",
    "<class 'pandas.core.series.Series'>"
   ]
  },
  {
   "cell_type": "code",
   "execution_count": 9,
   "id": "59c353f8-209a-4064-b6ac-359b7d59e121",
   "metadata": {},
   "outputs": [
    {
     "name": "stdout",
     "output_type": "stream",
     "text": [
      "Original series:\n",
      "   col1  col2  col3\n",
      "0     1     4     7\n",
      "1     2     5     5\n",
      "2     3     6     8\n",
      "3     4     9    12\n",
      "4     7     5     1\n",
      "5    11     0    11\n",
      "1st column as a series:\n"
     ]
    },
    {
     "data": {
      "text/plain": [
       "0     1\n",
       "1     2\n",
       "2     3\n",
       "3     4\n",
       "4     7\n",
       "5    11\n",
       "Name: col1, dtype: int64"
      ]
     },
     "execution_count": 9,
     "metadata": {},
     "output_type": "execute_result"
    }
   ],
   "source": [
    "import pandas as pd\n",
    "dic = {'col1': [1, 2, 3, 4, 7, 11], 'col2': [4, 5, 6, 9, 5, 0], 'col3': [7, 5, 8, 12, 1, 11]}\n",
    "dframe = pd.DataFrame(data=dic)\n",
    "print(\"Original series:\")\n",
    "print(dframe)\n",
    "\n",
    "print(\"1st column as a series:\")\n",
    "series1 = dframe.iloc[:, 0]\n",
    "series1\n",
    "\n"
   ]
  },
  {
   "cell_type": "markdown",
   "id": "ad50f483-77ef-445b-b8a8-596de5409ec7",
   "metadata": {},
   "source": [
    "#### 5. Write a Pandas program to convert a given Series to an array.\n",
    "Sample Output:\n",
    "Original Data Series:\n",
    "0       100\n",
    "1       200\n",
    "2    python\n",
    "3    300.12\n",
    "4       400\n",
    "dtype: object\n",
    "Series to an array\n",
    "['100' '200' 'python' '300.12' '400']\n",
    "<class 'numpy.ndarray'>"
   ]
  },
  {
   "cell_type": "code",
   "execution_count": 10,
   "id": "1adb6ec3-5fa5-4412-8fff-86e20c7794e9",
   "metadata": {},
   "outputs": [
    {
     "name": "stdout",
     "output_type": "stream",
     "text": [
      "Original Data Series :\n",
      "0       100\n",
      "1       200\n",
      "2    python\n",
      "3    300.12\n",
      "4       400\n",
      "dtype: object\n",
      "Series to an array :\n",
      "['100' '200' 'python' '300.12' '400']\n",
      "<class 'numpy.ndarray'>\n"
     ]
    }
   ],
   "source": [
    "import pandas as pd\n",
    "import numpy as np\n",
    "dseries = pd.Series(['100', '200', 'python', '300.12', '400'])\n",
    "print(\"Original Data Series :\")\n",
    "print(dseries)\n",
    "print(\"Series to an array :\")\n",
    "arr =np.array(dseries.values.tolist())\n",
    "print(arr)\n",
    "print(type(arr))"
   ]
  },
  {
   "cell_type": "markdown",
   "id": "a86e2659-13d0-4662-945c-29769e78a331",
   "metadata": {},
   "source": [
    "#### 6. Write a Pandas program to convert Series of lists to one Series.\n",
    "Sample Output:\n",
    "Original Series of list\n",
    "0    [Red, Green, White]\n",
    "1           [Red, Black]\n",
    "2               [Yellow]\n",
    "dtype: object\n",
    "One Series\n",
    "0       Red\n",
    "1     Green\n",
    "2     White\n",
    "3       Red\n",
    "4     Black\n",
    "5    Yellow\n",
    "dtype: object\n"
   ]
  },
  {
   "cell_type": "code",
   "execution_count": 11,
   "id": "10d9ad17-d960-4945-8d01-6094da97571c",
   "metadata": {},
   "outputs": [
    {
     "name": "stdout",
     "output_type": "stream",
     "text": [
      "Original series of list :\n",
      "0    [Red, Green, White]\n",
      "1           [Red, Black]\n",
      "2               [Yellow]\n",
      "dtype: object\n",
      "One series :\n",
      "0       Red\n",
      "1     Green\n",
      "2     White\n",
      "3       Red\n",
      "4     Black\n",
      "5    Yellow\n",
      "dtype: object\n"
     ]
    }
   ],
   "source": [
    "import pandas as p\n",
    "series = pd.Series([\n",
    "         ['Red', 'Green', 'White'],\n",
    "         ['Red', 'Black'],\n",
    "         ['Yellow']])\n",
    "print(\"Original series of list :\")\n",
    "print(series)\n",
    "series = series.apply(pd.Series).stack().reset_index(drop = True)\n",
    "print(\"One series :\")\n",
    "print(series)"
   ]
  },
  {
   "cell_type": "markdown",
   "id": "5b405d1b-325b-4865-b76a-997d6acae775",
   "metadata": {},
   "source": [
    "#### 7. Write a Pandas program to sort a given Series.\n",
    "Sample Output:\n",
    "Original Data Series:\n",
    "0       100\n",
    "1       200\n",
    "2    python\n",
    "3    300.12\n",
    "4       400\n",
    "dtype: object\n",
    "0       100\n",
    "1       200\n",
    "3    300.12\n",
    "4       400\n",
    "2    python\n",
    "dtype: object"
   ]
  },
  {
   "cell_type": "code",
   "execution_count": 12,
   "id": "e7d89982-3c21-4fe9-8d59-900ba445a29c",
   "metadata": {},
   "outputs": [
    {
     "name": "stdout",
     "output_type": "stream",
     "text": [
      "Original  series :\n",
      "0       100\n",
      "1       200\n",
      "2    python\n",
      "3    300.12\n",
      "4       400\n",
      "dtype: object\n",
      "0       100\n",
      "1       200\n",
      "3    300.12\n",
      "4       400\n",
      "2    python\n",
      "dtype: object\n"
     ]
    }
   ],
   "source": [
    "import pandas as pd\n",
    "series = pd.Series(['100','200','python','300.12','400'])\n",
    "print(\"Original  series :\")\n",
    "print(series)\n",
    "new_series = pd.Series(series).sort_values()\n",
    "print(new_series)\n",
    "     "
   ]
  },
  {
   "cell_type": "markdown",
   "id": "9cb23e32-e972-46e1-aed3-b7dfad933620",
   "metadata": {},
   "source": [
    "# Pandas DataFrame"
   ]
  },
  {
   "cell_type": "markdown",
   "id": "d312b0fa-c705-4ab3-bba8-d682f552de61",
   "metadata": {},
   "source": [
    "#### 1.Write a Pandas program to create a dataframe from a dictionary and display it."
   ]
  },
  {
   "cell_type": "markdown",
   "id": "747f3d5b-a713-4758-937d-867afb4db47d",
   "metadata": {},
   "source": [
    "Sample data: {'X':[78,85,96,80,86],  'Y':[84,94,89,83,86], 'Z':[86,97,96,72,83]}"
   ]
  },
  {
   "cell_type": "code",
   "execution_count": 14,
   "id": "b0f72fda-0188-45d0-be4d-4d5299c7ff93",
   "metadata": {},
   "outputs": [
    {
     "data": {
      "text/html": [
       "<div>\n",
       "<style scoped>\n",
       "    .dataframe tbody tr th:only-of-type {\n",
       "        vertical-align: middle;\n",
       "    }\n",
       "\n",
       "    .dataframe tbody tr th {\n",
       "        vertical-align: top;\n",
       "    }\n",
       "\n",
       "    .dataframe thead th {\n",
       "        text-align: right;\n",
       "    }\n",
       "</style>\n",
       "<table border=\"1\" class=\"dataframe\">\n",
       "  <thead>\n",
       "    <tr style=\"text-align: right;\">\n",
       "      <th></th>\n",
       "      <th>X</th>\n",
       "      <th>Y</th>\n",
       "      <th>Z</th>\n",
       "    </tr>\n",
       "  </thead>\n",
       "  <tbody>\n",
       "    <tr>\n",
       "      <th>0</th>\n",
       "      <td>78</td>\n",
       "      <td>84</td>\n",
       "      <td>86</td>\n",
       "    </tr>\n",
       "    <tr>\n",
       "      <th>1</th>\n",
       "      <td>85</td>\n",
       "      <td>94</td>\n",
       "      <td>97</td>\n",
       "    </tr>\n",
       "    <tr>\n",
       "      <th>2</th>\n",
       "      <td>96</td>\n",
       "      <td>89</td>\n",
       "      <td>96</td>\n",
       "    </tr>\n",
       "    <tr>\n",
       "      <th>3</th>\n",
       "      <td>80</td>\n",
       "      <td>83</td>\n",
       "      <td>72</td>\n",
       "    </tr>\n",
       "    <tr>\n",
       "      <th>4</th>\n",
       "      <td>86</td>\n",
       "      <td>86</td>\n",
       "      <td>83</td>\n",
       "    </tr>\n",
       "  </tbody>\n",
       "</table>\n",
       "</div>"
      ],
      "text/plain": [
       "    X   Y   Z\n",
       "0  78  84  86\n",
       "1  85  94  97\n",
       "2  96  89  96\n",
       "3  80  83  72\n",
       "4  86  86  83"
      ]
     },
     "execution_count": 14,
     "metadata": {},
     "output_type": "execute_result"
    }
   ],
   "source": [
    "import pandas as pd\n",
    "data = {'X':[78,85,96,80,86], 'Y':[84,94,89,83,86],'Z':[86,97,96,72,83]}\n",
    "dataframe = pd.DataFrame(data)\n",
    "dataframe\n",
    "     "
   ]
  },
  {
   "cell_type": "markdown",
   "id": "cb0706b8-358d-41d8-9162-4909ea878062",
   "metadata": {},
   "source": [
    "#### 2. Write a Pandas program to create and display a DataFrame from a specified dictionary data which has the index labels.\n",
    "Sample Python dictionary data and list labels:\n",
    "exam_data = {'name': ['Anastasia', 'Dima', 'Katherine', 'James', 'Emily', 'Michael', 'Matthew', 'Laura', 'Kevin', 'Jonas'],\n",
    "'score': [12.5, 9, 16.5, np.nan, 9, 20, 14.5, np.nan, 8, 19],\n",
    "'attempts': [1, 3, 2, 3, 2, 3, 1, 1, 2, 1],\n",
    "'qualify': ['yes', 'no', 'yes', 'no', 'no', 'yes', 'yes', 'no', 'no', 'yes']}\n",
    "labels = ['a', 'b', 'c', 'd', 'e', 'f', 'g', 'h', 'i', 'j']"
   ]
  },
  {
   "cell_type": "code",
   "execution_count": 15,
   "id": "8522c471-7500-46ee-a753-d2d1440e7e8f",
   "metadata": {},
   "outputs": [
    {
     "data": {
      "text/html": [
       "<div>\n",
       "<style scoped>\n",
       "    .dataframe tbody tr th:only-of-type {\n",
       "        vertical-align: middle;\n",
       "    }\n",
       "\n",
       "    .dataframe tbody tr th {\n",
       "        vertical-align: top;\n",
       "    }\n",
       "\n",
       "    .dataframe thead th {\n",
       "        text-align: right;\n",
       "    }\n",
       "</style>\n",
       "<table border=\"1\" class=\"dataframe\">\n",
       "  <thead>\n",
       "    <tr style=\"text-align: right;\">\n",
       "      <th></th>\n",
       "      <th>name</th>\n",
       "      <th>score</th>\n",
       "      <th>attempts</th>\n",
       "      <th>qualify</th>\n",
       "    </tr>\n",
       "  </thead>\n",
       "  <tbody>\n",
       "    <tr>\n",
       "      <th>a</th>\n",
       "      <td>Anastasia</td>\n",
       "      <td>12.5</td>\n",
       "      <td>1</td>\n",
       "      <td>yes</td>\n",
       "    </tr>\n",
       "    <tr>\n",
       "      <th>b</th>\n",
       "      <td>Dima</td>\n",
       "      <td>9.0</td>\n",
       "      <td>3</td>\n",
       "      <td>no</td>\n",
       "    </tr>\n",
       "    <tr>\n",
       "      <th>c</th>\n",
       "      <td>Katherine</td>\n",
       "      <td>16.5</td>\n",
       "      <td>2</td>\n",
       "      <td>yes</td>\n",
       "    </tr>\n",
       "    <tr>\n",
       "      <th>d</th>\n",
       "      <td>James</td>\n",
       "      <td>NaN</td>\n",
       "      <td>3</td>\n",
       "      <td>no</td>\n",
       "    </tr>\n",
       "    <tr>\n",
       "      <th>e</th>\n",
       "      <td>Emily</td>\n",
       "      <td>9.0</td>\n",
       "      <td>2</td>\n",
       "      <td>no</td>\n",
       "    </tr>\n",
       "    <tr>\n",
       "      <th>f</th>\n",
       "      <td>Michael</td>\n",
       "      <td>20.0</td>\n",
       "      <td>3</td>\n",
       "      <td>yes</td>\n",
       "    </tr>\n",
       "    <tr>\n",
       "      <th>g</th>\n",
       "      <td>Matthew</td>\n",
       "      <td>14.5</td>\n",
       "      <td>1</td>\n",
       "      <td>yes</td>\n",
       "    </tr>\n",
       "    <tr>\n",
       "      <th>h</th>\n",
       "      <td>Laura</td>\n",
       "      <td>NaN</td>\n",
       "      <td>1</td>\n",
       "      <td>no</td>\n",
       "    </tr>\n",
       "    <tr>\n",
       "      <th>i</th>\n",
       "      <td>Kevin</td>\n",
       "      <td>8.0</td>\n",
       "      <td>2</td>\n",
       "      <td>no</td>\n",
       "    </tr>\n",
       "    <tr>\n",
       "      <th>j</th>\n",
       "      <td>Jonas</td>\n",
       "      <td>19.0</td>\n",
       "      <td>1</td>\n",
       "      <td>yes</td>\n",
       "    </tr>\n",
       "  </tbody>\n",
       "</table>\n",
       "</div>"
      ],
      "text/plain": [
       "        name  score  attempts qualify\n",
       "a  Anastasia   12.5         1     yes\n",
       "b       Dima    9.0         3      no\n",
       "c  Katherine   16.5         2     yes\n",
       "d      James    NaN         3      no\n",
       "e      Emily    9.0         2      no\n",
       "f    Michael   20.0         3     yes\n",
       "g    Matthew   14.5         1     yes\n",
       "h      Laura    NaN         1      no\n",
       "i      Kevin    8.0         2      no\n",
       "j      Jonas   19.0         1     yes"
      ]
     },
     "execution_count": 15,
     "metadata": {},
     "output_type": "execute_result"
    }
   ],
   "source": [
    "import pandas as pd\n",
    "import numpy as np\n",
    "\n",
    "exam_data = {\n",
    "    'name': ['Anastasia', 'Dima', 'Katherine', 'James', 'Emily', 'Michael', 'Matthew', 'Laura', 'Kevin', 'Jonas'],\n",
    "    'score': [12.5, 9, 16.5, np.nan, 9, 20, 14.5, np.nan, 8, 19],\n",
    "    'attempts': [1, 3, 2, 3, 2, 3, 1, 1, 2, 1],\n",
    "    'qualify': ['yes', 'no', 'yes', 'no', 'no', 'yes', 'yes', 'no', 'no', 'yes']}\n",
    "labels = ['a', 'b', 'c', 'd', 'e', 'f', 'g', 'h', 'i', 'j']\n",
    "dataframe = pd.DataFrame(exam_data, index = labels)\n",
    "dataframe"
   ]
  },
  {
   "cell_type": "markdown",
   "id": "275e89d7-5dc4-4f47-8f1a-c09cf233cd6f",
   "metadata": {},
   "source": [
    "#### 3. Write a Pandas program to get the first 3 rows of a given DataFrame.\n",
    "Sample Python dictionary data and list labels:\n",
    "exam_data = {'name': ['Anastasia', 'Dima', 'Katherine', 'James', 'Emily', 'Michael', 'Matthew', 'Laura', 'Kevin', 'Jonas'],\n",
    "'score': [12.5, 9, 16.5, np.nan, 9, 20, 14.5, np.nan, 8, 19],\n",
    "'attempts': [1, 3, 2, 3, 2, 3, 1, 1, 2, 1],\n",
    "'qualify': ['yes', 'no', 'yes', 'no', 'no', 'yes', 'yes', 'no', 'no', 'yes']}\n",
    "labels = ['a', 'b', 'c', 'd', 'e', 'f', 'g', 'h', 'i', 'j']"
   ]
  },
  {
   "cell_type": "code",
   "execution_count": 16,
   "id": "750cecbe-933a-4c6f-ad34-b5e3ce46a383",
   "metadata": {},
   "outputs": [
    {
     "name": "stdout",
     "output_type": "stream",
     "text": [
      "First three rows of the data frame :\n"
     ]
    },
    {
     "data": {
      "text/html": [
       "<div>\n",
       "<style scoped>\n",
       "    .dataframe tbody tr th:only-of-type {\n",
       "        vertical-align: middle;\n",
       "    }\n",
       "\n",
       "    .dataframe tbody tr th {\n",
       "        vertical-align: top;\n",
       "    }\n",
       "\n",
       "    .dataframe thead th {\n",
       "        text-align: right;\n",
       "    }\n",
       "</style>\n",
       "<table border=\"1\" class=\"dataframe\">\n",
       "  <thead>\n",
       "    <tr style=\"text-align: right;\">\n",
       "      <th></th>\n",
       "      <th>name</th>\n",
       "      <th>score</th>\n",
       "      <th>attempts</th>\n",
       "      <th>qualify</th>\n",
       "    </tr>\n",
       "  </thead>\n",
       "  <tbody>\n",
       "    <tr>\n",
       "      <th>a</th>\n",
       "      <td>Anastasia</td>\n",
       "      <td>12.5</td>\n",
       "      <td>1</td>\n",
       "      <td>yes</td>\n",
       "    </tr>\n",
       "    <tr>\n",
       "      <th>b</th>\n",
       "      <td>Dima</td>\n",
       "      <td>9.0</td>\n",
       "      <td>3</td>\n",
       "      <td>no</td>\n",
       "    </tr>\n",
       "    <tr>\n",
       "      <th>c</th>\n",
       "      <td>Katherine</td>\n",
       "      <td>16.5</td>\n",
       "      <td>2</td>\n",
       "      <td>yes</td>\n",
       "    </tr>\n",
       "  </tbody>\n",
       "</table>\n",
       "</div>"
      ],
      "text/plain": [
       "        name  score  attempts qualify\n",
       "a  Anastasia   12.5         1     yes\n",
       "b       Dima    9.0         3      no\n",
       "c  Katherine   16.5         2     yes"
      ]
     },
     "execution_count": 16,
     "metadata": {},
     "output_type": "execute_result"
    }
   ],
   "source": [
    "import pandas as pd\n",
    "import numpy as np\n",
    "exam_data = {'name': ['Anastasia', 'Dima', 'Katherine', 'James', 'Emily', 'Michael', 'Matthew', 'Laura', 'Kevin', 'Jonas'],\n",
    "'score': [12.5, 9, 16.5, np.nan, 9, 20, 14.5, np.nan, 8, 19],\n",
    "'attempts': [1, 3, 2, 3, 2, 3, 1, 1, 2, 1],\n",
    "'qualify': ['yes', 'no', 'yes', 'no', 'no', 'yes', 'yes', 'no', 'no', 'yes']}\n",
    "labels = ['a', 'b', 'c', 'd', 'e', 'f', 'g', 'h', 'i', 'j']\n",
    "dataframes =  pd.DataFrame(exam_data , index = labels)\n",
    "print(\"First three rows of the data frame :\")\n",
    "dataframe.iloc[:3]\n"
   ]
  },
  {
   "cell_type": "markdown",
   "id": "5a6ac48c-344d-494d-b0a0-b80d106dd425",
   "metadata": {},
   "source": [
    "#### 4.Write a Pandas program to select the 'name' and 'score' columns from the following DataFrame.\n",
    "Sample Python dictionary data and list labels:\n",
    "exam_data = {'name': ['Anastasia', 'Dima', 'Katherine', 'James', 'Emily', 'Michael', 'Matthew', 'Laura', 'Kevin', 'Jonas'],\n",
    "'score': [12.5, 9, 16.5, np.nan, 9, 20, 14.5, np.nan, 8, 19],\n",
    "'attempts': [1, 3, 2, 3, 2, 3, 1, 1, 2, 1],\n",
    "'qualify': ['yes', 'no', 'yes', 'no', 'no', 'yes', 'yes', 'no', 'no', 'yes']}\n",
    "labels = ['a', 'b', 'c', 'd', 'e', 'f', 'g', 'h', 'i', 'j']"
   ]
  },
  {
   "cell_type": "code",
   "execution_count": 17,
   "id": "1c7aef55-5fd7-46d5-88c6-bdec41730320",
   "metadata": {},
   "outputs": [
    {
     "name": "stdout",
     "output_type": "stream",
     "text": [
      "Select specific columns :\n"
     ]
    },
    {
     "data": {
      "text/html": [
       "<div>\n",
       "<style scoped>\n",
       "    .dataframe tbody tr th:only-of-type {\n",
       "        vertical-align: middle;\n",
       "    }\n",
       "\n",
       "    .dataframe tbody tr th {\n",
       "        vertical-align: top;\n",
       "    }\n",
       "\n",
       "    .dataframe thead th {\n",
       "        text-align: right;\n",
       "    }\n",
       "</style>\n",
       "<table border=\"1\" class=\"dataframe\">\n",
       "  <thead>\n",
       "    <tr style=\"text-align: right;\">\n",
       "      <th></th>\n",
       "      <th>name</th>\n",
       "      <th>score</th>\n",
       "    </tr>\n",
       "  </thead>\n",
       "  <tbody>\n",
       "    <tr>\n",
       "      <th>a</th>\n",
       "      <td>Anastasia</td>\n",
       "      <td>12.5</td>\n",
       "    </tr>\n",
       "    <tr>\n",
       "      <th>b</th>\n",
       "      <td>Dima</td>\n",
       "      <td>9.0</td>\n",
       "    </tr>\n",
       "    <tr>\n",
       "      <th>c</th>\n",
       "      <td>Katherine</td>\n",
       "      <td>16.5</td>\n",
       "    </tr>\n",
       "    <tr>\n",
       "      <th>d</th>\n",
       "      <td>James</td>\n",
       "      <td>NaN</td>\n",
       "    </tr>\n",
       "    <tr>\n",
       "      <th>e</th>\n",
       "      <td>Emily</td>\n",
       "      <td>9.0</td>\n",
       "    </tr>\n",
       "    <tr>\n",
       "      <th>f</th>\n",
       "      <td>Michael</td>\n",
       "      <td>20.0</td>\n",
       "    </tr>\n",
       "    <tr>\n",
       "      <th>g</th>\n",
       "      <td>Matthew</td>\n",
       "      <td>14.5</td>\n",
       "    </tr>\n",
       "    <tr>\n",
       "      <th>h</th>\n",
       "      <td>Laura</td>\n",
       "      <td>NaN</td>\n",
       "    </tr>\n",
       "    <tr>\n",
       "      <th>i</th>\n",
       "      <td>Kevin</td>\n",
       "      <td>8.0</td>\n",
       "    </tr>\n",
       "    <tr>\n",
       "      <th>j</th>\n",
       "      <td>Jonas</td>\n",
       "      <td>19.0</td>\n",
       "    </tr>\n",
       "  </tbody>\n",
       "</table>\n",
       "</div>"
      ],
      "text/plain": [
       "        name  score\n",
       "a  Anastasia   12.5\n",
       "b       Dima    9.0\n",
       "c  Katherine   16.5\n",
       "d      James    NaN\n",
       "e      Emily    9.0\n",
       "f    Michael   20.0\n",
       "g    Matthew   14.5\n",
       "h      Laura    NaN\n",
       "i      Kevin    8.0\n",
       "j      Jonas   19.0"
      ]
     },
     "execution_count": 17,
     "metadata": {},
     "output_type": "execute_result"
    }
   ],
   "source": [
    "import pandas as pd\n",
    "import numpy as np\n",
    "exam_data = {'name': ['Anastasia', 'Dima', 'Katherine', 'James', 'Emily', 'Michael', 'Matthew', 'Laura', 'Kevin', 'Jonas'],\n",
    "'score': [12.5, 9, 16.5, np.nan, 9, 20, 14.5, np.nan, 8, 19],\n",
    "'attempts': [1, 3, 2, 3, 2, 3, 1, 1, 2, 1],\n",
    "'qualify': ['yes', 'no', 'yes', 'no', 'no', 'yes', 'yes', 'no', 'no', 'yes']}\n",
    "labels = ['a', 'b', 'c', 'd', 'e', 'f', 'g', 'h', 'i', 'j']\n",
    "dataframe = pd.DataFrame(exam_data , index = labels)\n",
    "print(\"Select specific columns :\")\n",
    "dataframe[['name', 'score']]\n",
    "     "
   ]
  },
  {
   "cell_type": "markdown",
   "id": "452b1ba3-b5af-4821-9a53-bb18a36b847a",
   "metadata": {},
   "source": [
    "#### 5. Write a Pandas program to select the specified columns and rows from a given data frame.\n",
    "Sample Python dictionary data and list labels:\n",
    "Select 'name' and 'score' columns in rows 1, 3, 5, 6 from the following data frame.\n",
    "exam_data = {'name': ['Anastasia', 'Dima', 'Katherine', 'James', 'Emily', 'Michael', 'Matthew', 'Laura', 'Kevin', 'Jonas'],\n",
    "'score': [12.5, 9, 16.5, np.nan, 9, 20, 14.5, np.nan, 8, 19],\n",
    "'attempts': [1, 3, 2, 3, 2, 3, 1, 1, 2, 1],\n",
    "'qualify': ['yes', 'no', 'yes', 'no', 'no', 'yes', 'yes', 'no', 'no', 'yes']}\n",
    "labels = ['a', 'b', 'c', 'd', 'e', 'f', 'g', 'h', 'i', 'j']"
   ]
  },
  {
   "cell_type": "code",
   "execution_count": 18,
   "id": "7844d53e-4214-4d6b-bbcf-8098d073c998",
   "metadata": {},
   "outputs": [
    {
     "name": "stdout",
     "output_type": "stream",
     "text": [
      "Select specific columns and rows :\n"
     ]
    },
    {
     "data": {
      "text/html": [
       "<div>\n",
       "<style scoped>\n",
       "    .dataframe tbody tr th:only-of-type {\n",
       "        vertical-align: middle;\n",
       "    }\n",
       "\n",
       "    .dataframe tbody tr th {\n",
       "        vertical-align: top;\n",
       "    }\n",
       "\n",
       "    .dataframe thead th {\n",
       "        text-align: right;\n",
       "    }\n",
       "</style>\n",
       "<table border=\"1\" class=\"dataframe\">\n",
       "  <thead>\n",
       "    <tr style=\"text-align: right;\">\n",
       "      <th></th>\n",
       "      <th>score</th>\n",
       "      <th>qualify</th>\n",
       "    </tr>\n",
       "  </thead>\n",
       "  <tbody>\n",
       "    <tr>\n",
       "      <th>b</th>\n",
       "      <td>9.0</td>\n",
       "      <td>no</td>\n",
       "    </tr>\n",
       "    <tr>\n",
       "      <th>d</th>\n",
       "      <td>NaN</td>\n",
       "      <td>no</td>\n",
       "    </tr>\n",
       "    <tr>\n",
       "      <th>f</th>\n",
       "      <td>20.0</td>\n",
       "      <td>yes</td>\n",
       "    </tr>\n",
       "    <tr>\n",
       "      <th>g</th>\n",
       "      <td>14.5</td>\n",
       "      <td>yes</td>\n",
       "    </tr>\n",
       "  </tbody>\n",
       "</table>\n",
       "</div>"
      ],
      "text/plain": [
       "   score qualify\n",
       "b    9.0      no\n",
       "d    NaN      no\n",
       "f   20.0     yes\n",
       "g   14.5     yes"
      ]
     },
     "execution_count": 18,
     "metadata": {},
     "output_type": "execute_result"
    }
   ],
   "source": [
    "import pandas as pd\n",
    "import numpy as np\n",
    "exam_data = {'name': ['Anastasia', 'Dima', 'Katherine', 'James', 'Emily', 'Michael', 'Matthew', 'Laura', 'Kevin', 'Jonas'],\n",
    "'score': [12.5, 9, 16.5, np.nan, 9, 20, 14.5, np.nan, 8, 19],\n",
    "'attempts': [1, 3, 2, 3, 2, 3, 1, 1, 2, 1],\n",
    "'qualify': ['yes', 'no', 'yes', 'no', 'no', 'yes', 'yes', 'no', 'no', 'yes']}\n",
    "labels = ['a', 'b', 'c', 'd', 'e', 'f', 'g', 'h', 'i', 'j']\n",
    "dataframe = pd.DataFrame(exam_data , index = labels)\n",
    "print(\"Select specific columns and rows :\")\n",
    "dataframe.iloc[[1,3,5,6],[1,3]]"
   ]
  },
  {
   "cell_type": "markdown",
   "id": "4456e086-53aa-4414-a1a8-8be5fd9a2dcc",
   "metadata": {},
   "source": [
    "#### 6. Write a Pandas program to select the rows where the number of attempts in the examination is greater than 2.\n",
    "Sample Python dictionary data and list labels:\n",
    "exam_data = {'name': ['Anastasia', 'Dima', 'Katherine', 'James', 'Emily', 'Michael', 'Matthew', 'Laura', 'Kevin', 'Jonas'],\n",
    "'score': [12.5, 9, 16.5, np.nan, 9, 20, 14.5, np.nan, 8, 19],\n",
    "'attempts': [1, 3, 2, 3, 2, 3, 1, 1, 2, 1],\n",
    "'qualify': ['yes', 'no', 'yes', 'no', 'no', 'yes', 'yes', 'no', 'no', 'yes']}\n",
    "labels = ['a', 'b', 'c', 'd', 'e', 'f', 'g', 'h', 'i', 'j']"
   ]
  },
  {
   "cell_type": "code",
   "execution_count": 20,
   "id": "d83259fb-4e2e-4c58-a2a6-3a22a56f610d",
   "metadata": {},
   "outputs": [
    {
     "name": "stdout",
     "output_type": "stream",
     "text": [
      "Number of attempts in the examination greater than 2:\n"
     ]
    },
    {
     "data": {
      "text/html": [
       "<div>\n",
       "<style scoped>\n",
       "    .dataframe tbody tr th:only-of-type {\n",
       "        vertical-align: middle;\n",
       "    }\n",
       "\n",
       "    .dataframe tbody tr th {\n",
       "        vertical-align: top;\n",
       "    }\n",
       "\n",
       "    .dataframe thead th {\n",
       "        text-align: right;\n",
       "    }\n",
       "</style>\n",
       "<table border=\"1\" class=\"dataframe\">\n",
       "  <thead>\n",
       "    <tr style=\"text-align: right;\">\n",
       "      <th></th>\n",
       "      <th>name</th>\n",
       "      <th>score</th>\n",
       "      <th>attempts</th>\n",
       "      <th>qualify</th>\n",
       "    </tr>\n",
       "  </thead>\n",
       "  <tbody>\n",
       "    <tr>\n",
       "      <th>b</th>\n",
       "      <td>Dima</td>\n",
       "      <td>9.0</td>\n",
       "      <td>3</td>\n",
       "      <td>no</td>\n",
       "    </tr>\n",
       "    <tr>\n",
       "      <th>d</th>\n",
       "      <td>James</td>\n",
       "      <td>NaN</td>\n",
       "      <td>3</td>\n",
       "      <td>no</td>\n",
       "    </tr>\n",
       "    <tr>\n",
       "      <th>f</th>\n",
       "      <td>Michael</td>\n",
       "      <td>20.0</td>\n",
       "      <td>3</td>\n",
       "      <td>yes</td>\n",
       "    </tr>\n",
       "  </tbody>\n",
       "</table>\n",
       "</div>"
      ],
      "text/plain": [
       "      name  score  attempts qualify\n",
       "b     Dima    9.0         3      no\n",
       "d    James    NaN         3      no\n",
       "f  Michael   20.0         3     yes"
      ]
     },
     "execution_count": 20,
     "metadata": {},
     "output_type": "execute_result"
    }
   ],
   "source": [
    "import pandas as pd\n",
    "import numpy as np\n",
    "exam_data = {'name': ['Anastasia', 'Dima', 'Katherine', 'James', 'Emily', 'Michael', 'Matthew', 'Laura', 'Kevin', 'Jonas'],\n",
    "'score': [12.5, 9, 16.5, np.nan, 9, 20, 14.5, np.nan, 8, 19],\n",
    "'attempts': [1, 3, 2, 3, 2, 3, 1, 1, 2, 1],\n",
    "'qualify': ['yes', 'no', 'yes', 'no', 'no', 'yes', 'yes', 'no', 'no', 'yes']}\n",
    "labels = ['a', 'b', 'c', 'd', 'e', 'f', 'g', 'h', 'i', 'j']\n",
    "dataframe = pd.DataFrame(exam_data, index = labels)\n",
    "print(\"Number of attempts in the examination greater than 2:\")\n",
    "dataframe[dataframe['attempts'] > 2]"
   ]
  },
  {
   "cell_type": "markdown",
   "id": "885b5bee-0d13-45d6-a983-f6190eb063b3",
   "metadata": {},
   "source": [
    "#### 7. Write a Pandas program to select the rows where the score is missing, i.e. is NaN.\n",
    "Sample Python dictionary data and list labels:\n",
    "exam_data = {'name': ['Anastasia', 'Dima', 'Katherine', 'James', 'Emily', 'Michael', 'Matthew', 'Laura', 'Kevin', 'Jonas'],\n",
    "'score': [12.5, 9, 16.5, np.nan, 9, 20, 14.5, np.nan, 8, 19],\n",
    "'attempts': [1, 3, 2, 3, 2, 3, 1, 1, 2, 1],\n",
    "'qualify': ['yes', 'no', 'yes', 'no', 'no', 'yes', 'yes', 'no', 'no', 'yes']}\n",
    "labels = ['a', 'b', 'c', 'd', 'e', 'f', 'g', labels = ['a', 'b', 'c', 'd', 'e', 'f', 'g', 'h', 'i', 'j']"
   ]
  },
  {
   "cell_type": "code",
   "execution_count": 21,
   "id": "cf329a18-e2a1-4aa6-b90d-56b970c1fa4b",
   "metadata": {},
   "outputs": [
    {
     "name": "stdout",
     "output_type": "stream",
     "text": [
      "Rows where the score is missing:\n"
     ]
    },
    {
     "data": {
      "text/html": [
       "<div>\n",
       "<style scoped>\n",
       "    .dataframe tbody tr th:only-of-type {\n",
       "        vertical-align: middle;\n",
       "    }\n",
       "\n",
       "    .dataframe tbody tr th {\n",
       "        vertical-align: top;\n",
       "    }\n",
       "\n",
       "    .dataframe thead th {\n",
       "        text-align: right;\n",
       "    }\n",
       "</style>\n",
       "<table border=\"1\" class=\"dataframe\">\n",
       "  <thead>\n",
       "    <tr style=\"text-align: right;\">\n",
       "      <th></th>\n",
       "      <th>name</th>\n",
       "      <th>score</th>\n",
       "      <th>attempts</th>\n",
       "      <th>qualify</th>\n",
       "    </tr>\n",
       "  </thead>\n",
       "  <tbody>\n",
       "    <tr>\n",
       "      <th>d</th>\n",
       "      <td>James</td>\n",
       "      <td>NaN</td>\n",
       "      <td>3</td>\n",
       "      <td>no</td>\n",
       "    </tr>\n",
       "    <tr>\n",
       "      <th>h</th>\n",
       "      <td>Laura</td>\n",
       "      <td>NaN</td>\n",
       "      <td>1</td>\n",
       "      <td>no</td>\n",
       "    </tr>\n",
       "  </tbody>\n",
       "</table>\n",
       "</div>"
      ],
      "text/plain": [
       "    name  score  attempts qualify\n",
       "d  James    NaN         3      no\n",
       "h  Laura    NaN         1      no"
      ]
     },
     "execution_count": 21,
     "metadata": {},
     "output_type": "execute_result"
    }
   ],
   "source": [
    "import pandas as pd\n",
    "import numpy as np\n",
    "exam_data = {'name': ['Anastasia', 'Dima', 'Katherine', 'James', 'Emily', 'Michael', 'Matthew', 'Laura', 'Kevin', 'Jonas'],\n",
    "'score': [12.5, 9, 16.5, np.nan, 9, 20, 14.5, np.nan, 8, 19],\n",
    "'attempts': [1, 3, 2, 3, 2, 3, 1, 1, 2, 1],\n",
    "'qualify': ['yes', 'no', 'yes', 'no', 'no', 'yes', 'yes', 'no', 'no', 'yes']}\n",
    "labels = ['a', 'b', 'c', 'd', 'e', 'f', 'g', 'h', 'i', 'j']\n",
    "dataframe = pd.DataFrame(exam_data, index = labels)\n",
    "print(\"Rows where the score is missing:\")\n",
    "dataframe[dataframe['score'].isnull()]"
   ]
  },
  {
   "cell_type": "markdown",
   "id": "5be7e504-83fd-4ad9-8669-95ec9c06d0ac",
   "metadata": {},
   "source": [
    "#### 8. Write a Pandas program to select the rows the score is between 15 and 20 (inclusive).\n",
    "Sample Python dictionary data and list labels:\n",
    "exam_data = {'name': ['Anastasia', 'Dima', 'Katherine', 'James', 'Emily', 'Michael', 'Matthew', 'Laura', 'Kevin', 'Jonas'],\n",
    "'score': [12.5, 9, 16.5, np.nan, 9, 20, 14.5, np.nan, 8, 19],\n",
    "'attempts': [1, 3, 2, 3, 2, 3, 1, 1, 2, 1],\n",
    "'qualify': ['yes', 'no', 'yes', 'no', 'no', 'yes', 'yes', 'no', 'no', 'yes']}\n",
    "labels = ['a', 'b', 'c', 'd', 'e', 'f', 'g', labels = ['a', 'b', 'c', 'd', 'e', 'f', 'g', 'h', 'i', 'j']"
   ]
  },
  {
   "cell_type": "code",
   "execution_count": 22,
   "id": "4275bda1-2523-49e4-920f-d4bc04b055b5",
   "metadata": {},
   "outputs": [
    {
     "name": "stdout",
     "output_type": "stream",
     "text": [
      "Rows where the score between 15 and 20 (inclusive):  \n"
     ]
    },
    {
     "data": {
      "text/html": [
       "<div>\n",
       "<style scoped>\n",
       "    .dataframe tbody tr th:only-of-type {\n",
       "        vertical-align: middle;\n",
       "    }\n",
       "\n",
       "    .dataframe tbody tr th {\n",
       "        vertical-align: top;\n",
       "    }\n",
       "\n",
       "    .dataframe thead th {\n",
       "        text-align: right;\n",
       "    }\n",
       "</style>\n",
       "<table border=\"1\" class=\"dataframe\">\n",
       "  <thead>\n",
       "    <tr style=\"text-align: right;\">\n",
       "      <th></th>\n",
       "      <th>name</th>\n",
       "      <th>score</th>\n",
       "      <th>attempts</th>\n",
       "      <th>qualify</th>\n",
       "    </tr>\n",
       "  </thead>\n",
       "  <tbody>\n",
       "    <tr>\n",
       "      <th>c</th>\n",
       "      <td>Katherine</td>\n",
       "      <td>16.5</td>\n",
       "      <td>2</td>\n",
       "      <td>yes</td>\n",
       "    </tr>\n",
       "    <tr>\n",
       "      <th>f</th>\n",
       "      <td>Michael</td>\n",
       "      <td>20.0</td>\n",
       "      <td>3</td>\n",
       "      <td>yes</td>\n",
       "    </tr>\n",
       "    <tr>\n",
       "      <th>j</th>\n",
       "      <td>Jonas</td>\n",
       "      <td>19.0</td>\n",
       "      <td>1</td>\n",
       "      <td>yes</td>\n",
       "    </tr>\n",
       "  </tbody>\n",
       "</table>\n",
       "</div>"
      ],
      "text/plain": [
       "        name  score  attempts qualify\n",
       "c  Katherine   16.5         2     yes\n",
       "f    Michael   20.0         3     yes\n",
       "j      Jonas   19.0         1     yes"
      ]
     },
     "execution_count": 22,
     "metadata": {},
     "output_type": "execute_result"
    }
   ],
   "source": [
    "import pandas as pd\n",
    "import numpy as np\n",
    "exam_data = {'name': ['Anastasia', 'Dima', 'Katherine', 'James', 'Emily', 'Michael', 'Matthew', 'Laura', 'Kevin', 'Jonas'],\n",
    "'score': [12.5, 9, 16.5, np.nan, 9, 20, 14.5, np.nan, 8, 19],\n",
    "'attempts': [1, 3, 2, 3, 2, 3, 1, 1, 2, 1],\n",
    "'qualify': ['yes', 'no', 'yes', 'no', 'no', 'yes', 'yes', 'no', 'no', 'yes']}\n",
    "labels = ['a', 'b', 'c', 'd', 'e', 'f', 'g', 'h', 'i', 'j']\n",
    "dataframe = pd.DataFrame(exam_data, index = labels)\n",
    "print(\"Rows where the score between 15 and 20 (inclusive):  \")\n",
    "dataframe[dataframe['score'].between(15,20)]"
   ]
  },
  {
   "cell_type": "markdown",
   "id": "b1657d86-5cb7-489d-8ebf-d8f8178a7735",
   "metadata": {},
   "source": [
    "#### 9. Write a Pandas program to select the rows where number of attempts in the examination is less than 2 and score greater than 15.\n",
    "Sample Python dictionary data and list labels:\n",
    "exam_data = {'name': ['Anastasia', 'Dima', 'Katherine', 'James', 'Emily', 'Michael', 'Matthew', 'Laura', 'Kevin', 'Jonas'],\n",
    "'score': [12.5, 9, 16.5, np.nan, 9, 20, 14.5, np.nan, 8, 19],\n",
    "'attempts': [1, 3, 2, 3, 2, 3, 1, 1, 2, 1],\n",
    "'qualify': ['yes', 'no', 'yes', 'no', 'no', 'yes', 'yes', 'no', 'no', 'yes']}\n",
    "labels = ['a', 'b', 'c', 'd', 'e', 'f', 'g', labels = ['a', 'b', 'c', 'd', 'e', 'f', 'g', 'h', 'i', 'j']"
   ]
  },
  {
   "cell_type": "code",
   "execution_count": 23,
   "id": "47de09f1-ba4c-453f-b21b-709060284dd7",
   "metadata": {},
   "outputs": [
    {
     "name": "stdout",
     "output_type": "stream",
     "text": [
      "Number of attempts in the examination less than 2 and score greater than 15 :\n"
     ]
    },
    {
     "data": {
      "text/html": [
       "<div>\n",
       "<style scoped>\n",
       "    .dataframe tbody tr th:only-of-type {\n",
       "        vertical-align: middle;\n",
       "    }\n",
       "\n",
       "    .dataframe tbody tr th {\n",
       "        vertical-align: top;\n",
       "    }\n",
       "\n",
       "    .dataframe thead th {\n",
       "        text-align: right;\n",
       "    }\n",
       "</style>\n",
       "<table border=\"1\" class=\"dataframe\">\n",
       "  <thead>\n",
       "    <tr style=\"text-align: right;\">\n",
       "      <th></th>\n",
       "      <th>name</th>\n",
       "      <th>score</th>\n",
       "      <th>attempts</th>\n",
       "      <th>qualify</th>\n",
       "    </tr>\n",
       "  </thead>\n",
       "  <tbody>\n",
       "    <tr>\n",
       "      <th>j</th>\n",
       "      <td>Jonas</td>\n",
       "      <td>19.0</td>\n",
       "      <td>1</td>\n",
       "      <td>yes</td>\n",
       "    </tr>\n",
       "  </tbody>\n",
       "</table>\n",
       "</div>"
      ],
      "text/plain": [
       "    name  score  attempts qualify\n",
       "j  Jonas   19.0         1     yes"
      ]
     },
     "execution_count": 23,
     "metadata": {},
     "output_type": "execute_result"
    }
   ],
   "source": [
    "import pandas as pd\n",
    "import numpy as np\n",
    "exam_data = {'name': ['Anastasia', 'Dima', 'Katherine', 'James', 'Emily', 'Michael', 'Matthew', 'Laura', 'Kevin', 'Jonas'],\n",
    "'score': [12.5, 9, 16.5, np.nan, 9, 20, 14.5, np.nan, 8, 19],\n",
    "'attempts': [1, 3, 2, 3, 2, 3, 1, 1, 2, 1],\n",
    "'qualify': ['yes', 'no', 'yes', 'no', 'no', 'yes', 'yes', 'no', 'no', 'yes']}\n",
    "labels = ['a', 'b', 'c', 'd', 'e', 'f', 'g', 'h', 'i', 'j']\n",
    "dataframe = pd.DataFrame(exam_data, index = labels)\n",
    "print(\"Number of attempts in the examination less than 2 and score greater than 15 :\")\n",
    "dataframe[(dataframe['attempts']<2)&(dataframe['score']>15)]\n",
    "     "
   ]
  },
  {
   "cell_type": "markdown",
   "id": "47db3cde-8942-4280-8195-432a0f598dfd",
   "metadata": {},
   "source": [
    "#### 10. Write a Pandas program to change the score in row 'd' to 11.5.\n",
    "Sample Python dictionary data and list labels:\n",
    "exam_data = {'name': ['Anastasia', 'Dima', 'Katherine', 'James', 'Emily', 'Michael', 'Matthew', 'Laura', 'Kevin', 'Jonas'],\n",
    "'score': [12.5, 9, 16.5, np.nan, 9, 20, 14.5, np.nan, 8, 19],\n",
    "'attempts': [1, 3, 2, 3, 2, 3, 1, 1, 2, 1],\n",
    "'qualify': ['yes', 'no', 'yes', 'no', 'no', 'yes', 'yes', 'no', 'no', 'yes']}\n",
    "labels = ['a', 'b', 'c', 'd', 'e', 'f', 'g', 'h', 'i', 'j']\n"
   ]
  },
  {
   "cell_type": "code",
   "execution_count": 25,
   "id": "34a81eb1-a245-4214-82a0-3dc4748302b0",
   "metadata": {},
   "outputs": [
    {
     "name": "stdout",
     "output_type": "stream",
     "text": [
      "Change the score in row 'd' to 11.5: \n"
     ]
    },
    {
     "data": {
      "text/html": [
       "<div>\n",
       "<style scoped>\n",
       "    .dataframe tbody tr th:only-of-type {\n",
       "        vertical-align: middle;\n",
       "    }\n",
       "\n",
       "    .dataframe tbody tr th {\n",
       "        vertical-align: top;\n",
       "    }\n",
       "\n",
       "    .dataframe thead th {\n",
       "        text-align: right;\n",
       "    }\n",
       "</style>\n",
       "<table border=\"1\" class=\"dataframe\">\n",
       "  <thead>\n",
       "    <tr style=\"text-align: right;\">\n",
       "      <th></th>\n",
       "      <th>name</th>\n",
       "      <th>score</th>\n",
       "      <th>attempts</th>\n",
       "      <th>qualify</th>\n",
       "    </tr>\n",
       "  </thead>\n",
       "  <tbody>\n",
       "    <tr>\n",
       "      <th>a</th>\n",
       "      <td>Anastasia</td>\n",
       "      <td>12.5</td>\n",
       "      <td>1</td>\n",
       "      <td>yes</td>\n",
       "    </tr>\n",
       "    <tr>\n",
       "      <th>b</th>\n",
       "      <td>Dima</td>\n",
       "      <td>9.0</td>\n",
       "      <td>3</td>\n",
       "      <td>no</td>\n",
       "    </tr>\n",
       "    <tr>\n",
       "      <th>c</th>\n",
       "      <td>Katherine</td>\n",
       "      <td>16.5</td>\n",
       "      <td>2</td>\n",
       "      <td>yes</td>\n",
       "    </tr>\n",
       "    <tr>\n",
       "      <th>d</th>\n",
       "      <td>James</td>\n",
       "      <td>11.5</td>\n",
       "      <td>3</td>\n",
       "      <td>no</td>\n",
       "    </tr>\n",
       "    <tr>\n",
       "      <th>e</th>\n",
       "      <td>Emily</td>\n",
       "      <td>9.0</td>\n",
       "      <td>2</td>\n",
       "      <td>no</td>\n",
       "    </tr>\n",
       "    <tr>\n",
       "      <th>f</th>\n",
       "      <td>Michael</td>\n",
       "      <td>20.0</td>\n",
       "      <td>3</td>\n",
       "      <td>yes</td>\n",
       "    </tr>\n",
       "    <tr>\n",
       "      <th>g</th>\n",
       "      <td>Matthew</td>\n",
       "      <td>14.5</td>\n",
       "      <td>1</td>\n",
       "      <td>yes</td>\n",
       "    </tr>\n",
       "    <tr>\n",
       "      <th>h</th>\n",
       "      <td>Laura</td>\n",
       "      <td>NaN</td>\n",
       "      <td>1</td>\n",
       "      <td>no</td>\n",
       "    </tr>\n",
       "    <tr>\n",
       "      <th>i</th>\n",
       "      <td>Kevin</td>\n",
       "      <td>8.0</td>\n",
       "      <td>2</td>\n",
       "      <td>no</td>\n",
       "    </tr>\n",
       "    <tr>\n",
       "      <th>j</th>\n",
       "      <td>Jonas</td>\n",
       "      <td>19.0</td>\n",
       "      <td>1</td>\n",
       "      <td>yes</td>\n",
       "    </tr>\n",
       "  </tbody>\n",
       "</table>\n",
       "</div>"
      ],
      "text/plain": [
       "        name  score  attempts qualify\n",
       "a  Anastasia   12.5         1     yes\n",
       "b       Dima    9.0         3      no\n",
       "c  Katherine   16.5         2     yes\n",
       "d      James   11.5         3      no\n",
       "e      Emily    9.0         2      no\n",
       "f    Michael   20.0         3     yes\n",
       "g    Matthew   14.5         1     yes\n",
       "h      Laura    NaN         1      no\n",
       "i      Kevin    8.0         2      no\n",
       "j      Jonas   19.0         1     yes"
      ]
     },
     "execution_count": 25,
     "metadata": {},
     "output_type": "execute_result"
    }
   ],
   "source": [
    "import pandas as pd\n",
    "import numpy as np\n",
    "exam_data = {'name': ['Anastasia', 'Dima', 'Katherine', 'James', 'Emily', 'Michael', 'Matthew', 'Laura', 'Kevin', 'Jonas'],\n",
    "'score': [12.5, 9, 16.5, np.nan, 9, 20, 14.5, np.nan, 8, 19],\n",
    "'attempts': [1, 3, 2, 3, 2, 3, 1, 1, 2, 1],\n",
    "'qualify': ['yes', 'no', 'yes', 'no', 'no', 'yes', 'yes', 'no', 'no', 'yes']}\n",
    "labels = ['a', 'b', 'c', 'd', 'e', 'f', 'g', 'h', 'i', 'j']\n",
    "dataframe = pd.DataFrame(exam_data, index = labels)\n",
    "print(\"Change the score in row 'd' to 11.5: \")\n",
    "dataframe.loc['d','score'] = 11.5\n",
    "dataframe"
   ]
  },
  {
   "cell_type": "markdown",
   "id": "787931a1-6943-4836-b9b6-5294b7510fed",
   "metadata": {},
   "source": [
    "#### 11. Write a Pandas program to calculate the sum of the examination attempts by the students.\n",
    "Sample Python dictionary data and list labels:\n",
    "exam_data = {'name': ['Anastasia', 'Dima', 'Katherine', 'James', 'Emily', 'Michael', 'Matthew', 'Laura', 'Kevin', 'Jonas'],\n",
    "'score': [12.5, 9, 16.5, np.nan, 9, 20, 14.5, np.nan, 8, 19],\n",
    "'attempts': [1, 3, 2, 3, 2, 3, 1, 1, 2, 1],\n",
    "'qualify': ['yes', 'no', 'yes', 'no', 'no', 'yes', 'yes', 'no', 'no', 'yes']}\n",
    "labels = ['a', 'b', 'c', 'd', 'e', 'f', 'g', 'h', 'i', 'j']"
   ]
  },
  {
   "cell_type": "code",
   "execution_count": 28,
   "id": "7d1f919f-3fd1-40eb-8c4e-bd7f2ac282ee",
   "metadata": {},
   "outputs": [
    {
     "name": "stdout",
     "output_type": "stream",
     "text": [
      "Sum of the examination attempts by the students:\n"
     ]
    },
    {
     "data": {
      "text/plain": [
       "np.int64(19)"
      ]
     },
     "execution_count": 28,
     "metadata": {},
     "output_type": "execute_result"
    }
   ],
   "source": [
    "import pandas as pd\n",
    "import numpy as np\n",
    "exam_data = {'name': ['Anastasia', 'Dima', 'Katherine', 'James', 'Emily', 'Michael', 'Matthew', 'Laura', 'Kevin', 'Jonas'],\n",
    "'score': [12.5, 9, 16.5, np.nan, 9, 20, 14.5, np.nan, 8, 19],\n",
    "'attempts': [1, 3, 2, 3, 2, 3, 1, 1, 2, 1],\n",
    "'qualify': ['yes', 'no', 'yes', 'no', 'no', 'yes', 'yes', 'no', 'no', 'yes']}\n",
    "labels = ['a', 'b', 'c', 'd', 'e', 'f', 'g', 'h', 'i', 'j']\n",
    "dataframe = pd.DataFrame(exam_data, index = labels)\n",
    "print(\"Sum of the examination attempts by the students:\")\n",
    "dataframe['attempts'].sum()"
   ]
  },
  {
   "cell_type": "markdown",
   "id": "cf82049c-e5fa-47db-990c-0d31480a8e47",
   "metadata": {},
   "source": [
    "#### 12. Write a Pandas program to calculate the mean of all students' scores. Data is stored in a dataframe.\n",
    "Sample Python dictionary data and list labels:\n",
    "exam_data = {'name': ['Anastasia', 'Dima', 'Katherine', 'James', 'Emily', 'Michael', 'Matthew', 'Laura', 'Kevin', 'Jonas'],\n",
    "'score': [12.5, 9, 16.5, np.nan, 9, 20, 14.5, np.nan, 8, 19],\n",
    "'attempts': [1, 3, 2, 3, 2, 3, 1, 1, 2, 1],\n",
    "'qualify': ['yes', 'no', 'yes', 'no', 'no', 'yes', 'yes', 'no', 'no', 'yes']}\n",
    "labels = ['a', 'b', 'c', 'd', 'e', 'f', 'g', 'h', 'i', 'j']"
   ]
  },
  {
   "cell_type": "code",
   "execution_count": 29,
   "id": "56da602c-4178-4644-a20a-ba1d03c2c163",
   "metadata": {},
   "outputs": [
    {
     "name": "stdout",
     "output_type": "stream",
     "text": [
      "Mean score for each different student in data frame:\n"
     ]
    },
    {
     "data": {
      "text/plain": [
       "np.float64(13.5625)"
      ]
     },
     "execution_count": 29,
     "metadata": {},
     "output_type": "execute_result"
    }
   ],
   "source": [
    "import pandas as pd\n",
    "import numpy as np\n",
    "exam_data = {'name': ['Anastasia', 'Dima', 'Katherine', 'James', 'Emily', 'Michael', 'Matthew', 'Laura', 'Kevin', 'Jonas'],\n",
    "'score': [12.5, 9, 16.5, np.nan, 9, 20, 14.5, np.nan, 8, 19],\n",
    "'attempts': [1, 3, 2, 3, 2, 3, 1, 1, 2, 1],\n",
    "'qualify': ['yes', 'no', 'yes', 'no', 'no', 'yes', 'yes', 'no', 'no', 'yes']}\n",
    "labels = ['a', 'b', 'c', 'd', 'e', 'f', 'g', 'h', 'i', 'j']\n",
    "dataframe = pd.DataFrame(exam_data, index = labels)\n",
    "print(\"Mean score for each different student in data frame:\")\n",
    "dataframe['score'].mean()"
   ]
  },
  {
   "cell_type": "markdown",
   "id": "6a565372-90fc-4101-bc58-beb0b40f0a37",
   "metadata": {},
   "source": [
    "#### 13. Write a Pandas program to replace the 'qualify' column contains the values 'yes' and 'no' with True and False.\n",
    "Sample Python dictionary data and list labels:\n",
    "exam_data = {'name': ['Anastasia', 'Dima', 'Katherine', 'James', 'Emily', 'Michael', 'Matthew', 'Laura', 'Kevin', 'Jonas'],\n",
    "'score': [12.5, 9, 16.5, np.nan, 9, 20, 14.5, np.nan, 8, 19],\n",
    "'attempts': [1, 3, 2, 3, 2, 3, 1, 1, 2, 1],\n",
    "'qualify': ['yes', 'no', 'yes', 'no', 'no', 'yes', 'yes', 'no', 'no', 'yes']}\n",
    "labels = ['a', 'b', 'c', 'd', 'e', 'f', 'g', 'h', 'i', 'j']"
   ]
  },
  {
   "cell_type": "code",
   "execution_count": 30,
   "id": "62fd8753-8557-4a4c-b658-79506e0500b3",
   "metadata": {},
   "outputs": [
    {
     "name": "stdout",
     "output_type": "stream",
     "text": [
      "Replace the 'qualify' column contains the values 'yes' and 'no'  with True and  False: \n"
     ]
    },
    {
     "data": {
      "text/html": [
       "<div>\n",
       "<style scoped>\n",
       "    .dataframe tbody tr th:only-of-type {\n",
       "        vertical-align: middle;\n",
       "    }\n",
       "\n",
       "    .dataframe tbody tr th {\n",
       "        vertical-align: top;\n",
       "    }\n",
       "\n",
       "    .dataframe thead th {\n",
       "        text-align: right;\n",
       "    }\n",
       "</style>\n",
       "<table border=\"1\" class=\"dataframe\">\n",
       "  <thead>\n",
       "    <tr style=\"text-align: right;\">\n",
       "      <th></th>\n",
       "      <th>name</th>\n",
       "      <th>score</th>\n",
       "      <th>attempts</th>\n",
       "      <th>qualify</th>\n",
       "    </tr>\n",
       "  </thead>\n",
       "  <tbody>\n",
       "    <tr>\n",
       "      <th>a</th>\n",
       "      <td>Anastasia</td>\n",
       "      <td>12.5</td>\n",
       "      <td>1</td>\n",
       "      <td>True</td>\n",
       "    </tr>\n",
       "    <tr>\n",
       "      <th>b</th>\n",
       "      <td>Dima</td>\n",
       "      <td>9.0</td>\n",
       "      <td>3</td>\n",
       "      <td>False</td>\n",
       "    </tr>\n",
       "    <tr>\n",
       "      <th>c</th>\n",
       "      <td>Katherine</td>\n",
       "      <td>16.5</td>\n",
       "      <td>2</td>\n",
       "      <td>True</td>\n",
       "    </tr>\n",
       "    <tr>\n",
       "      <th>d</th>\n",
       "      <td>James</td>\n",
       "      <td>NaN</td>\n",
       "      <td>3</td>\n",
       "      <td>False</td>\n",
       "    </tr>\n",
       "    <tr>\n",
       "      <th>e</th>\n",
       "      <td>Emily</td>\n",
       "      <td>9.0</td>\n",
       "      <td>2</td>\n",
       "      <td>False</td>\n",
       "    </tr>\n",
       "    <tr>\n",
       "      <th>f</th>\n",
       "      <td>Michael</td>\n",
       "      <td>20.0</td>\n",
       "      <td>3</td>\n",
       "      <td>True</td>\n",
       "    </tr>\n",
       "    <tr>\n",
       "      <th>g</th>\n",
       "      <td>Matthew</td>\n",
       "      <td>14.5</td>\n",
       "      <td>1</td>\n",
       "      <td>True</td>\n",
       "    </tr>\n",
       "    <tr>\n",
       "      <th>h</th>\n",
       "      <td>Laura</td>\n",
       "      <td>NaN</td>\n",
       "      <td>1</td>\n",
       "      <td>False</td>\n",
       "    </tr>\n",
       "    <tr>\n",
       "      <th>i</th>\n",
       "      <td>Kevin</td>\n",
       "      <td>8.0</td>\n",
       "      <td>2</td>\n",
       "      <td>False</td>\n",
       "    </tr>\n",
       "    <tr>\n",
       "      <th>j</th>\n",
       "      <td>Jonas</td>\n",
       "      <td>19.0</td>\n",
       "      <td>1</td>\n",
       "      <td>True</td>\n",
       "    </tr>\n",
       "  </tbody>\n",
       "</table>\n",
       "</div>"
      ],
      "text/plain": [
       "        name  score  attempts  qualify\n",
       "a  Anastasia   12.5         1     True\n",
       "b       Dima    9.0         3    False\n",
       "c  Katherine   16.5         2     True\n",
       "d      James    NaN         3    False\n",
       "e      Emily    9.0         2    False\n",
       "f    Michael   20.0         3     True\n",
       "g    Matthew   14.5         1     True\n",
       "h      Laura    NaN         1    False\n",
       "i      Kevin    8.0         2    False\n",
       "j      Jonas   19.0         1     True"
      ]
     },
     "execution_count": 30,
     "metadata": {},
     "output_type": "execute_result"
    }
   ],
   "source": [
    "import pandas as pd\n",
    "import numpy as np\n",
    "exam_data = {'name': ['Anastasia', 'Dima', 'Katherine', 'James', 'Emily', 'Michael', 'Matthew', 'Laura', 'Kevin', 'Jonas'],\n",
    "'score': [12.5, 9, 16.5, np.nan, 9, 20, 14.5, np.nan, 8, 19],\n",
    "'attempts': [1, 3, 2, 3, 2, 3, 1, 1, 2, 1],\n",
    "'qualify': ['yes', 'no', 'yes', 'no', 'no', 'yes', 'yes', 'no', 'no', 'yes']}\n",
    "labels = ['a', 'b', 'c', 'd', 'e', 'f', 'g', 'h', 'i', 'j']\n",
    "dataframe = pd.DataFrame(exam_data, index = labels)\n",
    "print(\"Replace the 'qualify' column contains the values 'yes' and 'no'  with True and  False: \")\n",
    "dataframe['qualify'] = dataframe['qualify'].map({'yes' : True,'no' : False })\n",
    "dataframe"
   ]
  },
  {
   "cell_type": "markdown",
   "id": "fc3f3f65-6e9d-4b5d-a8d3-883b0674e3be",
   "metadata": {},
   "source": [
    "#### 14. Write a Pandas program to change the name 'James' to 'Suresh' in name column of the DataFrame.\n",
    "Sample Python dictionary data and list labels:\n",
    "exam_data = {'name': ['Anastasia', 'Dima', 'Katherine', 'James', 'Emily', 'Michael', 'Matthew', 'Laura', 'Kevin', 'Jonas'],\n",
    "'score': [12.5, 9, 16.5, np.nan, 9, 20, 14.5, np.nan, 8, 19],\n",
    "'attempts': [1, 3, 2, 3, 2, 3, 1, 1, 2, 1],\n",
    "'qualify': ['yes', 'no', 'yes', 'no', 'no', 'yes', 'yes', 'no', 'no', 'yes']}\n",
    "labels = ['a', 'b', 'c', 'd', 'e', 'f', 'g', 'h', 'i', 'j']"
   ]
  },
  {
   "cell_type": "code",
   "execution_count": 32,
   "id": "46e5af27-edd0-4c1d-96e9-2bcfb4861671",
   "metadata": {},
   "outputs": [
    {
     "name": "stdout",
     "output_type": "stream",
     "text": [
      "Change the name from 'James' to 'Suresh':  \n"
     ]
    },
    {
     "data": {
      "text/html": [
       "<div>\n",
       "<style scoped>\n",
       "    .dataframe tbody tr th:only-of-type {\n",
       "        vertical-align: middle;\n",
       "    }\n",
       "\n",
       "    .dataframe tbody tr th {\n",
       "        vertical-align: top;\n",
       "    }\n",
       "\n",
       "    .dataframe thead th {\n",
       "        text-align: right;\n",
       "    }\n",
       "</style>\n",
       "<table border=\"1\" class=\"dataframe\">\n",
       "  <thead>\n",
       "    <tr style=\"text-align: right;\">\n",
       "      <th></th>\n",
       "      <th>name</th>\n",
       "      <th>score</th>\n",
       "      <th>attempts</th>\n",
       "      <th>qualify</th>\n",
       "    </tr>\n",
       "  </thead>\n",
       "  <tbody>\n",
       "    <tr>\n",
       "      <th>a</th>\n",
       "      <td>Anastasia</td>\n",
       "      <td>12.5</td>\n",
       "      <td>1</td>\n",
       "      <td>yes</td>\n",
       "    </tr>\n",
       "    <tr>\n",
       "      <th>b</th>\n",
       "      <td>Dima</td>\n",
       "      <td>9.0</td>\n",
       "      <td>3</td>\n",
       "      <td>no</td>\n",
       "    </tr>\n",
       "    <tr>\n",
       "      <th>c</th>\n",
       "      <td>Katherine</td>\n",
       "      <td>16.5</td>\n",
       "      <td>2</td>\n",
       "      <td>yes</td>\n",
       "    </tr>\n",
       "    <tr>\n",
       "      <th>d</th>\n",
       "      <td>Suresh</td>\n",
       "      <td>NaN</td>\n",
       "      <td>3</td>\n",
       "      <td>no</td>\n",
       "    </tr>\n",
       "    <tr>\n",
       "      <th>e</th>\n",
       "      <td>Emily</td>\n",
       "      <td>9.0</td>\n",
       "      <td>2</td>\n",
       "      <td>no</td>\n",
       "    </tr>\n",
       "    <tr>\n",
       "      <th>f</th>\n",
       "      <td>Michael</td>\n",
       "      <td>20.0</td>\n",
       "      <td>3</td>\n",
       "      <td>yes</td>\n",
       "    </tr>\n",
       "    <tr>\n",
       "      <th>g</th>\n",
       "      <td>Matthew</td>\n",
       "      <td>14.5</td>\n",
       "      <td>1</td>\n",
       "      <td>yes</td>\n",
       "    </tr>\n",
       "    <tr>\n",
       "      <th>h</th>\n",
       "      <td>Laura</td>\n",
       "      <td>NaN</td>\n",
       "      <td>1</td>\n",
       "      <td>no</td>\n",
       "    </tr>\n",
       "    <tr>\n",
       "      <th>i</th>\n",
       "      <td>Kevin</td>\n",
       "      <td>8.0</td>\n",
       "      <td>2</td>\n",
       "      <td>no</td>\n",
       "    </tr>\n",
       "    <tr>\n",
       "      <th>j</th>\n",
       "      <td>Jonas</td>\n",
       "      <td>19.0</td>\n",
       "      <td>1</td>\n",
       "      <td>yes</td>\n",
       "    </tr>\n",
       "  </tbody>\n",
       "</table>\n",
       "</div>"
      ],
      "text/plain": [
       "        name  score  attempts qualify\n",
       "a  Anastasia   12.5         1     yes\n",
       "b       Dima    9.0         3      no\n",
       "c  Katherine   16.5         2     yes\n",
       "d     Suresh    NaN         3      no\n",
       "e      Emily    9.0         2      no\n",
       "f    Michael   20.0         3     yes\n",
       "g    Matthew   14.5         1     yes\n",
       "h      Laura    NaN         1      no\n",
       "i      Kevin    8.0         2      no\n",
       "j      Jonas   19.0         1     yes"
      ]
     },
     "execution_count": 32,
     "metadata": {},
     "output_type": "execute_result"
    }
   ],
   "source": [
    "import pandas as pd\n",
    "import numpy as np\n",
    "exam_data = {'name': ['Anastasia', 'Dima', 'Katherine', 'James', 'Emily', 'Michael', 'Matthew', 'Laura', 'Kevin', 'Jonas'],\n",
    "'score': [12.5, 9, 16.5, np.nan, 9, 20, 14.5, np.nan, 8, 19],\n",
    "'attempts': [1, 3, 2, 3, 2, 3, 1, 1, 2, 1],\n",
    "'qualify': ['yes', 'no', 'yes', 'no', 'no', 'yes', 'yes', 'no', 'no', 'yes']}\n",
    "labels = ['a', 'b', 'c', 'd', 'e', 'f', 'g', 'h', 'i', 'j']\n",
    "dataframe = pd.DataFrame(exam_data, index = labels)\n",
    "print(\"Change the name from 'James' to 'Suresh':  \")\n",
    "dataframe['name'] = dataframe['name'].replace('James', 'Suresh')\n",
    "dataframe"
   ]
  },
  {
   "cell_type": "markdown",
   "id": "4f32210e-b22a-4c5f-b7a7-740f9c31715e",
   "metadata": {},
   "source": [
    "#### 15. Write a Pandas program to delete the 'attempts' column from the DataFrame.\n",
    "Sample Python dictionary data and list labels:\n",
    "exam_data = {'name': ['Anastasia', 'Dima', 'Katherine', 'James', 'Emily', 'Michael', 'Matthew', 'Laura', 'Kevin', 'Jonas'],\n",
    "'score': [12.5, 9, 16.5, np.nan, 9, 20, 14.5, np.nan, 8, 19],\n",
    "'attempts': [1, 3, 2, 3, 2, 3, 1, 1, 2, 1],\n",
    "'qualify': ['yes', 'no', 'yes', 'no', 'no', 'yes', 'yes', 'no', 'no', 'yes']}\n",
    "labels = ['a', 'b', 'c', 'd', 'e', 'f', 'g', 'h', 'i', 'j']"
   ]
  },
  {
   "cell_type": "code",
   "execution_count": 33,
   "id": "6f856af5-99c8-41e3-b2e8-1229575ee361",
   "metadata": {},
   "outputs": [
    {
     "name": "stdout",
     "output_type": "stream",
     "text": [
      "Delete the 'attempts' column from the data frame: \n"
     ]
    },
    {
     "data": {
      "text/html": [
       "<div>\n",
       "<style scoped>\n",
       "    .dataframe tbody tr th:only-of-type {\n",
       "        vertical-align: middle;\n",
       "    }\n",
       "\n",
       "    .dataframe tbody tr th {\n",
       "        vertical-align: top;\n",
       "    }\n",
       "\n",
       "    .dataframe thead th {\n",
       "        text-align: right;\n",
       "    }\n",
       "</style>\n",
       "<table border=\"1\" class=\"dataframe\">\n",
       "  <thead>\n",
       "    <tr style=\"text-align: right;\">\n",
       "      <th></th>\n",
       "      <th>name</th>\n",
       "      <th>score</th>\n",
       "      <th>qualify</th>\n",
       "    </tr>\n",
       "  </thead>\n",
       "  <tbody>\n",
       "    <tr>\n",
       "      <th>a</th>\n",
       "      <td>Anastasia</td>\n",
       "      <td>12.5</td>\n",
       "      <td>yes</td>\n",
       "    </tr>\n",
       "    <tr>\n",
       "      <th>b</th>\n",
       "      <td>Dima</td>\n",
       "      <td>9.0</td>\n",
       "      <td>no</td>\n",
       "    </tr>\n",
       "    <tr>\n",
       "      <th>c</th>\n",
       "      <td>Katherine</td>\n",
       "      <td>16.5</td>\n",
       "      <td>yes</td>\n",
       "    </tr>\n",
       "    <tr>\n",
       "      <th>d</th>\n",
       "      <td>James</td>\n",
       "      <td>NaN</td>\n",
       "      <td>no</td>\n",
       "    </tr>\n",
       "    <tr>\n",
       "      <th>e</th>\n",
       "      <td>Emily</td>\n",
       "      <td>9.0</td>\n",
       "      <td>no</td>\n",
       "    </tr>\n",
       "    <tr>\n",
       "      <th>f</th>\n",
       "      <td>Michael</td>\n",
       "      <td>20.0</td>\n",
       "      <td>yes</td>\n",
       "    </tr>\n",
       "    <tr>\n",
       "      <th>g</th>\n",
       "      <td>Matthew</td>\n",
       "      <td>14.5</td>\n",
       "      <td>yes</td>\n",
       "    </tr>\n",
       "    <tr>\n",
       "      <th>h</th>\n",
       "      <td>Laura</td>\n",
       "      <td>NaN</td>\n",
       "      <td>no</td>\n",
       "    </tr>\n",
       "    <tr>\n",
       "      <th>i</th>\n",
       "      <td>Kevin</td>\n",
       "      <td>8.0</td>\n",
       "      <td>no</td>\n",
       "    </tr>\n",
       "    <tr>\n",
       "      <th>j</th>\n",
       "      <td>Jonas</td>\n",
       "      <td>19.0</td>\n",
       "      <td>yes</td>\n",
       "    </tr>\n",
       "  </tbody>\n",
       "</table>\n",
       "</div>"
      ],
      "text/plain": [
       "        name  score qualify\n",
       "a  Anastasia   12.5     yes\n",
       "b       Dima    9.0      no\n",
       "c  Katherine   16.5     yes\n",
       "d      James    NaN      no\n",
       "e      Emily    9.0      no\n",
       "f    Michael   20.0     yes\n",
       "g    Matthew   14.5     yes\n",
       "h      Laura    NaN      no\n",
       "i      Kevin    8.0      no\n",
       "j      Jonas   19.0     yes"
      ]
     },
     "execution_count": 33,
     "metadata": {},
     "output_type": "execute_result"
    }
   ],
   "source": [
    "import pandas as pd\n",
    "import numpy as np\n",
    "exam_data = {'name': ['Anastasia', 'Dima', 'Katherine', 'James', 'Emily', 'Michael', 'Matthew', 'Laura', 'Kevin', 'Jonas'],\n",
    "'score': [12.5, 9, 16.5, np.nan, 9, 20, 14.5, np.nan, 8, 19],\n",
    "'attempts': [1, 3, 2, 3, 2, 3, 1, 1, 2, 1],\n",
    "'qualify': ['yes', 'no', 'yes', 'no', 'no', 'yes', 'yes', 'no', 'no', 'yes']}\n",
    "labels = ['a', 'b', 'c', 'd', 'e', 'f', 'g', 'h', 'i', 'j']\n",
    "dataframe = pd.DataFrame(exam_data, index = labels)\n",
    "print(\"Delete the 'attempts' column from the data frame: \")\n",
    "dataframe.pop('attempts')\n",
    "dataframe"
   ]
  },
  {
   "cell_type": "markdown",
   "id": "0aa4a111-87a5-44d4-b010-2a5deb2ca6a0",
   "metadata": {},
   "source": [
    "#### 16. Write a Pandas program to insert a new column in existing DataFrame.\n",
    "Sample Python dictionary data and list labels:\n",
    "exam_data = {'name': ['Anastasia', 'Dima', 'Katherine', 'James', 'Emily', 'Michael', 'Matthew', 'Laura', 'Kevin', 'Jonas'],\n",
    "'score': [12.5, 9, 16.5, np.nan, 9, 20, 14.5, np.nan, 8, 19],\n",
    "'attempts': [1, 3, 2, 3, 2, 3, 1, 1, 2, 1],\n",
    "'qualify': ['yes', 'no', 'yes', 'no', 'no', 'yes', 'yes', 'no', 'no', 'yes']}\n",
    "labels = ['a', 'b', 'c', 'd', 'e', 'f', 'g', 'h', 'i', 'j']"
   ]
  },
  {
   "cell_type": "code",
   "execution_count": 35,
   "id": "1a01ee17-2546-42d3-86bd-4ab6839f23f4",
   "metadata": {},
   "outputs": [
    {
     "name": "stdout",
     "output_type": "stream",
     "text": [
      "New DataFrame after inserting the 'color' column :\n"
     ]
    },
    {
     "data": {
      "text/html": [
       "<div>\n",
       "<style scoped>\n",
       "    .dataframe tbody tr th:only-of-type {\n",
       "        vertical-align: middle;\n",
       "    }\n",
       "\n",
       "    .dataframe tbody tr th {\n",
       "        vertical-align: top;\n",
       "    }\n",
       "\n",
       "    .dataframe thead th {\n",
       "        text-align: right;\n",
       "    }\n",
       "</style>\n",
       "<table border=\"1\" class=\"dataframe\">\n",
       "  <thead>\n",
       "    <tr style=\"text-align: right;\">\n",
       "      <th></th>\n",
       "      <th>name</th>\n",
       "      <th>score</th>\n",
       "      <th>attempts</th>\n",
       "      <th>qualify</th>\n",
       "      <th>color</th>\n",
       "    </tr>\n",
       "  </thead>\n",
       "  <tbody>\n",
       "    <tr>\n",
       "      <th>a</th>\n",
       "      <td>Anastasia</td>\n",
       "      <td>12.5</td>\n",
       "      <td>1</td>\n",
       "      <td>yes</td>\n",
       "      <td>Red</td>\n",
       "    </tr>\n",
       "    <tr>\n",
       "      <th>b</th>\n",
       "      <td>Dima</td>\n",
       "      <td>9.0</td>\n",
       "      <td>3</td>\n",
       "      <td>no</td>\n",
       "      <td>Blue</td>\n",
       "    </tr>\n",
       "    <tr>\n",
       "      <th>c</th>\n",
       "      <td>Katherine</td>\n",
       "      <td>16.5</td>\n",
       "      <td>2</td>\n",
       "      <td>yes</td>\n",
       "      <td>Black</td>\n",
       "    </tr>\n",
       "    <tr>\n",
       "      <th>d</th>\n",
       "      <td>James</td>\n",
       "      <td>NaN</td>\n",
       "      <td>3</td>\n",
       "      <td>no</td>\n",
       "      <td>Orange</td>\n",
       "    </tr>\n",
       "    <tr>\n",
       "      <th>e</th>\n",
       "      <td>Emily</td>\n",
       "      <td>9.0</td>\n",
       "      <td>2</td>\n",
       "      <td>no</td>\n",
       "      <td>Green</td>\n",
       "    </tr>\n",
       "    <tr>\n",
       "      <th>f</th>\n",
       "      <td>Michael</td>\n",
       "      <td>20.0</td>\n",
       "      <td>3</td>\n",
       "      <td>yes</td>\n",
       "      <td>Red</td>\n",
       "    </tr>\n",
       "    <tr>\n",
       "      <th>g</th>\n",
       "      <td>Matthew</td>\n",
       "      <td>14.5</td>\n",
       "      <td>1</td>\n",
       "      <td>yes</td>\n",
       "      <td>Blue</td>\n",
       "    </tr>\n",
       "    <tr>\n",
       "      <th>h</th>\n",
       "      <td>Laura</td>\n",
       "      <td>NaN</td>\n",
       "      <td>1</td>\n",
       "      <td>no</td>\n",
       "      <td>Black</td>\n",
       "    </tr>\n",
       "    <tr>\n",
       "      <th>i</th>\n",
       "      <td>Kevin</td>\n",
       "      <td>8.0</td>\n",
       "      <td>2</td>\n",
       "      <td>no</td>\n",
       "      <td>Green</td>\n",
       "    </tr>\n",
       "    <tr>\n",
       "      <th>j</th>\n",
       "      <td>Jonas</td>\n",
       "      <td>19.0</td>\n",
       "      <td>1</td>\n",
       "      <td>yes</td>\n",
       "      <td>Red</td>\n",
       "    </tr>\n",
       "  </tbody>\n",
       "</table>\n",
       "</div>"
      ],
      "text/plain": [
       "        name  score  attempts qualify   color\n",
       "a  Anastasia   12.5         1     yes     Red\n",
       "b       Dima    9.0         3      no    Blue\n",
       "c  Katherine   16.5         2     yes   Black\n",
       "d      James    NaN         3      no  Orange\n",
       "e      Emily    9.0         2      no   Green\n",
       "f    Michael   20.0         3     yes     Red\n",
       "g    Matthew   14.5         1     yes    Blue\n",
       "h      Laura    NaN         1      no   Black\n",
       "i      Kevin    8.0         2      no   Green\n",
       "j      Jonas   19.0         1     yes     Red"
      ]
     },
     "execution_count": 35,
     "metadata": {},
     "output_type": "execute_result"
    }
   ],
   "source": [
    "import pandas as pd\n",
    "import numpy as np\n",
    "exam_data = {'name': ['Anastasia', 'Dima', 'Katherine', 'James', 'Emily', 'Michael', 'Matthew', 'Laura', 'Kevin', 'Jonas'],\n",
    "'score': [12.5, 9, 16.5, np.nan, 9, 20, 14.5, np.nan, 8, 19],\n",
    "'attempts': [1, 3, 2, 3, 2, 3, 1, 1, 2, 1],\n",
    "'qualify': ['yes', 'no', 'yes', 'no', 'no', 'yes', 'yes', 'no', 'no', 'yes']}\n",
    "labels = ['a', 'b', 'c', 'd', 'e', 'f', 'g', 'h', 'i', 'j']\n",
    "dataframe = pd.DataFrame(exam_data, index = labels)\n",
    "color = ['Red', 'Blue','Black','Orange','Green','Red','Blue','Black','Green','Red']\n",
    "print(\"New DataFrame after inserting the 'color' column :\")\n",
    "dataframe['color'] = color\n",
    "dataframe"
   ]
  },
  {
   "cell_type": "markdown",
   "id": "66c2d193-b471-4921-b3bd-4f9fce0c13f3",
   "metadata": {},
   "source": [
    "#### 17. Write a Pandas program to rename columns of a given DataFrame"
   ]
  },
  {
   "cell_type": "code",
   "execution_count": 36,
   "id": "782d3ade-8a00-47b6-8306-6c10d673339b",
   "metadata": {},
   "outputs": [
    {
     "name": "stdout",
     "output_type": "stream",
     "text": [
      "New DataFrame after renaming columns: \n"
     ]
    },
    {
     "data": {
      "text/html": [
       "<div>\n",
       "<style scoped>\n",
       "    .dataframe tbody tr th:only-of-type {\n",
       "        vertical-align: middle;\n",
       "    }\n",
       "\n",
       "    .dataframe tbody tr th {\n",
       "        vertical-align: top;\n",
       "    }\n",
       "\n",
       "    .dataframe thead th {\n",
       "        text-align: right;\n",
       "    }\n",
       "</style>\n",
       "<table border=\"1\" class=\"dataframe\">\n",
       "  <thead>\n",
       "    <tr style=\"text-align: right;\">\n",
       "      <th></th>\n",
       "      <th>Column1</th>\n",
       "      <th>Column2</th>\n",
       "      <th>Column3</th>\n",
       "    </tr>\n",
       "  </thead>\n",
       "  <tbody>\n",
       "    <tr>\n",
       "      <th>0</th>\n",
       "      <td>1</td>\n",
       "      <td>4</td>\n",
       "      <td>7</td>\n",
       "    </tr>\n",
       "    <tr>\n",
       "      <th>1</th>\n",
       "      <td>2</td>\n",
       "      <td>5</td>\n",
       "      <td>8</td>\n",
       "    </tr>\n",
       "    <tr>\n",
       "      <th>2</th>\n",
       "      <td>3</td>\n",
       "      <td>6</td>\n",
       "      <td>9</td>\n",
       "    </tr>\n",
       "  </tbody>\n",
       "</table>\n",
       "</div>"
      ],
      "text/plain": [
       "   Column1  Column2  Column3\n",
       "0        1        4        7\n",
       "1        2        5        8\n",
       "2        3        6        9"
      ]
     },
     "execution_count": 36,
     "metadata": {},
     "output_type": "execute_result"
    }
   ],
   "source": [
    "import pandas as pd\n",
    "od = {'col1' : [1,2,3],\n",
    "             'col2' : [4,5,6],\n",
    "             'col3' : [7,8,9]}\n",
    "labels = [0,1,2]\n",
    "dataframe = pd.DataFrame(od, index = labels)\n",
    "print(\"New DataFrame after renaming columns: \")\n",
    "dataframe.rename(columns = {'col1' : 'Column1', 'col2' : 'Column2', 'col3' : 'Column3'}, inplace = True)\n",
    "dataframe\n"
   ]
  },
  {
   "cell_type": "markdown",
   "id": "0a6e7c54-14cf-4597-8709-1fffdcd7aa5d",
   "metadata": {},
   "source": [
    "#### 18. Write a Pandas program to select rows from a given DataFrame based on values in some columns."
   ]
  },
  {
   "cell_type": "code",
   "execution_count": 37,
   "id": "da3d3c30-0c54-4889-92b7-9769dd598cc3",
   "metadata": {},
   "outputs": [
    {
     "name": "stdout",
     "output_type": "stream",
     "text": [
      "Rows for colum1 value == 4 : \n"
     ]
    },
    {
     "data": {
      "text/html": [
       "<div>\n",
       "<style scoped>\n",
       "    .dataframe tbody tr th:only-of-type {\n",
       "        vertical-align: middle;\n",
       "    }\n",
       "\n",
       "    .dataframe tbody tr th {\n",
       "        vertical-align: top;\n",
       "    }\n",
       "\n",
       "    .dataframe thead th {\n",
       "        text-align: right;\n",
       "    }\n",
       "</style>\n",
       "<table border=\"1\" class=\"dataframe\">\n",
       "  <thead>\n",
       "    <tr style=\"text-align: right;\">\n",
       "      <th></th>\n",
       "      <th>col1</th>\n",
       "      <th>col2</th>\n",
       "      <th>col3</th>\n",
       "    </tr>\n",
       "  </thead>\n",
       "  <tbody>\n",
       "    <tr>\n",
       "      <th>1</th>\n",
       "      <td>4</td>\n",
       "      <td>5</td>\n",
       "      <td>8</td>\n",
       "    </tr>\n",
       "    <tr>\n",
       "      <th>3</th>\n",
       "      <td>4</td>\n",
       "      <td>7</td>\n",
       "      <td>0</td>\n",
       "    </tr>\n",
       "  </tbody>\n",
       "</table>\n",
       "</div>"
      ],
      "text/plain": [
       "   col1  col2  col3\n",
       "1     4     5     8\n",
       "3     4     7     0"
      ]
     },
     "execution_count": 37,
     "metadata": {},
     "output_type": "execute_result"
    }
   ],
   "source": [
    "import pandas as pd\n",
    "import numpy as np\n",
    "od = {'col1' : [1,4,3,4,5],'col2' : [4,5,6,7,8], 'col3' : [7,8,9,0,1]}\n",
    "labels = [0,1,2,3,4]\n",
    "dataframe = pd.DataFrame(data = od , index = labels)\n",
    "print(\"Rows for colum1 value == 4 : \")\n",
    "data = dataframe.loc[dataframe['col1'] == 4]\n",
    "data\n"
   ]
  },
  {
   "cell_type": "markdown",
   "id": "44452ec5-df2c-41b8-a6f5-2b6031f434c3",
   "metadata": {},
   "source": [
    "#### 19. Write a Pandas program to add one row in an existing DataFrame."
   ]
  },
  {
   "cell_type": "code",
   "execution_count": 44,
   "id": "5ee38e4f-65fb-41bf-9c02-91599ca315ba",
   "metadata": {},
   "outputs": [
    {
     "name": "stdout",
     "output_type": "stream",
     "text": [
      "After adding one row: \n"
     ]
    },
    {
     "data": {
      "text/html": [
       "<div>\n",
       "<style scoped>\n",
       "    .dataframe tbody tr th:only-of-type {\n",
       "        vertical-align: middle;\n",
       "    }\n",
       "\n",
       "    .dataframe tbody tr th {\n",
       "        vertical-align: top;\n",
       "    }\n",
       "\n",
       "    .dataframe thead th {\n",
       "        text-align: right;\n",
       "    }\n",
       "</style>\n",
       "<table border=\"1\" class=\"dataframe\">\n",
       "  <thead>\n",
       "    <tr style=\"text-align: right;\">\n",
       "      <th></th>\n",
       "      <th>col1</th>\n",
       "      <th>col2</th>\n",
       "      <th>col3</th>\n",
       "    </tr>\n",
       "  </thead>\n",
       "  <tbody>\n",
       "    <tr>\n",
       "      <th>1</th>\n",
       "      <td>4</td>\n",
       "      <td>5</td>\n",
       "      <td>8</td>\n",
       "    </tr>\n",
       "    <tr>\n",
       "      <th>3</th>\n",
       "      <td>4</td>\n",
       "      <td>7</td>\n",
       "      <td>0</td>\n",
       "    </tr>\n",
       "  </tbody>\n",
       "</table>\n",
       "</div>"
      ],
      "text/plain": [
       "   col1  col2  col3\n",
       "1     4     5     8\n",
       "3     4     7     0"
      ]
     },
     "execution_count": 44,
     "metadata": {},
     "output_type": "execute_result"
    }
   ],
   "source": [
    "import pandas as pd\n",
    "import numpy as np\n",
    "od = {'col1' : [1,4,3,4,5],'col2' : [4,5,6,7,8], 'col3' : [7,8,9,0,1]}\n",
    "labels = [0,1,2,3,4]\n",
    "dataframe = pd.DataFrame(data = od , index = labels)\n",
    "print(\"After adding one row: \")\n",
    "new_row = {'col1': 10, 'col2' : 11, 'col3' : 12}\n",
    "dataframe= pd.concat([dataframe,pd.DataFrame([new_row])], ignore_index= True)\n",
    "data"
   ]
  },
  {
   "cell_type": "markdown",
   "id": "ed6e52f4-8022-4f9c-a39d-8c2acc10a3e3",
   "metadata": {},
   "source": [
    "#### 20. Write a Pandas program to replace all the NaN values with Zero's in a column of a dataframe."
   ]
  },
  {
   "cell_type": "code",
   "execution_count": 45,
   "id": "a069689c-64cf-4109-8417-5511614c1c90",
   "metadata": {},
   "outputs": [
    {
     "name": "stdout",
     "output_type": "stream",
     "text": [
      "New DataFrame replacing all NaN with 0: \n"
     ]
    },
    {
     "data": {
      "text/html": [
       "<div>\n",
       "<style scoped>\n",
       "    .dataframe tbody tr th:only-of-type {\n",
       "        vertical-align: middle;\n",
       "    }\n",
       "\n",
       "    .dataframe tbody tr th {\n",
       "        vertical-align: top;\n",
       "    }\n",
       "\n",
       "    .dataframe thead th {\n",
       "        text-align: right;\n",
       "    }\n",
       "</style>\n",
       "<table border=\"1\" class=\"dataframe\">\n",
       "  <thead>\n",
       "    <tr style=\"text-align: right;\">\n",
       "      <th></th>\n",
       "      <th>name</th>\n",
       "      <th>score</th>\n",
       "      <th>attempts</th>\n",
       "      <th>qualify</th>\n",
       "    </tr>\n",
       "  </thead>\n",
       "  <tbody>\n",
       "    <tr>\n",
       "      <th>a</th>\n",
       "      <td>Anastasia</td>\n",
       "      <td>12.5</td>\n",
       "      <td>1</td>\n",
       "      <td>yes</td>\n",
       "    </tr>\n",
       "    <tr>\n",
       "      <th>b</th>\n",
       "      <td>Dima</td>\n",
       "      <td>9.0</td>\n",
       "      <td>3</td>\n",
       "      <td>no</td>\n",
       "    </tr>\n",
       "    <tr>\n",
       "      <th>c</th>\n",
       "      <td>Katherine</td>\n",
       "      <td>16.5</td>\n",
       "      <td>2</td>\n",
       "      <td>yes</td>\n",
       "    </tr>\n",
       "    <tr>\n",
       "      <th>d</th>\n",
       "      <td>James</td>\n",
       "      <td>0.0</td>\n",
       "      <td>3</td>\n",
       "      <td>no</td>\n",
       "    </tr>\n",
       "    <tr>\n",
       "      <th>e</th>\n",
       "      <td>Emily</td>\n",
       "      <td>9.0</td>\n",
       "      <td>2</td>\n",
       "      <td>no</td>\n",
       "    </tr>\n",
       "    <tr>\n",
       "      <th>f</th>\n",
       "      <td>Michael</td>\n",
       "      <td>20.0</td>\n",
       "      <td>3</td>\n",
       "      <td>yes</td>\n",
       "    </tr>\n",
       "    <tr>\n",
       "      <th>g</th>\n",
       "      <td>Matthew</td>\n",
       "      <td>14.5</td>\n",
       "      <td>1</td>\n",
       "      <td>yes</td>\n",
       "    </tr>\n",
       "    <tr>\n",
       "      <th>h</th>\n",
       "      <td>Laura</td>\n",
       "      <td>0.0</td>\n",
       "      <td>1</td>\n",
       "      <td>no</td>\n",
       "    </tr>\n",
       "    <tr>\n",
       "      <th>i</th>\n",
       "      <td>Kevin</td>\n",
       "      <td>8.0</td>\n",
       "      <td>2</td>\n",
       "      <td>no</td>\n",
       "    </tr>\n",
       "    <tr>\n",
       "      <th>j</th>\n",
       "      <td>Jonas</td>\n",
       "      <td>19.0</td>\n",
       "      <td>1</td>\n",
       "      <td>yes</td>\n",
       "    </tr>\n",
       "  </tbody>\n",
       "</table>\n",
       "</div>"
      ],
      "text/plain": [
       "        name  score  attempts qualify\n",
       "a  Anastasia   12.5         1     yes\n",
       "b       Dima    9.0         3      no\n",
       "c  Katherine   16.5         2     yes\n",
       "d      James    0.0         3      no\n",
       "e      Emily    9.0         2      no\n",
       "f    Michael   20.0         3     yes\n",
       "g    Matthew   14.5         1     yes\n",
       "h      Laura    0.0         1      no\n",
       "i      Kevin    8.0         2      no\n",
       "j      Jonas   19.0         1     yes"
      ]
     },
     "execution_count": 45,
     "metadata": {},
     "output_type": "execute_result"
    }
   ],
   "source": [
    "import pandas as pd\n",
    "import numpy as np\n",
    "exam_data = {'name': ['Anastasia', 'Dima', 'Katherine', 'James', 'Emily', 'Michael', 'Matthew', 'Laura', 'Kevin', 'Jonas'],\n",
    "'score': [12.5, 9, 16.5, np.nan, 9, 20, 14.5, np.nan, 8, 19],\n",
    "'attempts': [1, 3, 2, 3, 2, 3, 1, 1, 2, 1],\n",
    "'qualify': ['yes', 'no', 'yes', 'no', 'no', 'yes', 'yes', 'no', 'no', 'yes']}\n",
    "labels = ['a', 'b', 'c', 'd', 'e', 'f', 'g', 'h', 'i', 'j']\n",
    "dataframe = pd.DataFrame(exam_data, index = labels)\n",
    "print(\"New DataFrame replacing all NaN with 0: \")\n",
    "data = dataframe.fillna(0)\n",
    "data"
   ]
  },
  {
   "cell_type": "markdown",
   "id": "3bcf3b60-f3e7-49f3-928f-4832329d29c4",
   "metadata": {},
   "source": [
    "#### 21. Write a Pandas program to count the NaN values in one or more columns in DataFrame."
   ]
  },
  {
   "cell_type": "code",
   "execution_count": 46,
   "id": "60415da1-8da0-4db1-8539-b461e1a588ce",
   "metadata": {},
   "outputs": [
    {
     "name": "stdout",
     "output_type": "stream",
     "text": [
      "Number of NaN values in one or more columns: \n"
     ]
    },
    {
     "data": {
      "text/plain": [
       "np.int64(2)"
      ]
     },
     "execution_count": 46,
     "metadata": {},
     "output_type": "execute_result"
    }
   ],
   "source": [
    "import pandas as pd\n",
    "import numpy as np\n",
    "exam_data = {'name': ['Anastasia', 'Dima', 'Katherine', 'James', 'Emily', 'Michael', 'Matthew', 'Laura', 'Kevin', 'Jonas'],\n",
    "'score': [12.5, 9, 16.5, np.nan, 9, 20, 14.5, np.nan, 8, 19],\n",
    "'attempts': [1, 3, 2, 3, 2, 3, 1, 1, 2, 1],\n",
    "'qualify': ['yes', 'no', 'yes', 'no', 'no', 'yes', 'yes', 'no', 'no', 'yes']}\n",
    "labels = ['a', 'b', 'c', 'd', 'e', 'f', 'g', 'h', 'i', 'j']\n",
    "dataframe = pd.DataFrame(exam_data, index = labels)\n",
    "print(\"Number of NaN values in one or more columns: \")\n",
    "data = dataframe.isnull().values.sum()\n",
    "data"
   ]
  },
  {
   "cell_type": "markdown",
   "id": "db53721a-a09f-48b9-ac16-682055668a59",
   "metadata": {},
   "source": [
    "#### 22. Write a Pandas program to drop a list of rows from a specified DataFrame."
   ]
  },
  {
   "cell_type": "raw",
   "id": "ab11bcf6-eae9-4ef9-849c-197fb89e194c",
   "metadata": {},
   "source": [
    "Sample data:\n",
    "Original DataFrame\n",
    "   col1  col2  col3\n",
    "0     1     4     7\n",
    "1     4     5     8\n",
    "2     3     6     9\n",
    "3     4     7     0\n",
    "4     5     8     1\n",
    "\n",
    "\n",
    "New DataFrame after removing 2nd & 4th rows:\n",
    "   col1  col2  col3\n",
    "0     1     4     7\n",
    "1     4     5     8\n",
    "3     4     7     0"
   ]
  },
  {
   "cell_type": "code",
   "execution_count": 47,
   "id": "5d10cfb6-6d74-4009-94bd-8125876037f8",
   "metadata": {},
   "outputs": [
    {
     "name": "stdout",
     "output_type": "stream",
     "text": [
      "New DataFrame after removing 2nd & 4th rows: \n"
     ]
    },
    {
     "data": {
      "text/html": [
       "<div>\n",
       "<style scoped>\n",
       "    .dataframe tbody tr th:only-of-type {\n",
       "        vertical-align: middle;\n",
       "    }\n",
       "\n",
       "    .dataframe tbody tr th {\n",
       "        vertical-align: top;\n",
       "    }\n",
       "\n",
       "    .dataframe thead th {\n",
       "        text-align: right;\n",
       "    }\n",
       "</style>\n",
       "<table border=\"1\" class=\"dataframe\">\n",
       "  <thead>\n",
       "    <tr style=\"text-align: right;\">\n",
       "      <th></th>\n",
       "      <th>col1</th>\n",
       "      <th>col2</th>\n",
       "      <th>col3</th>\n",
       "    </tr>\n",
       "  </thead>\n",
       "  <tbody>\n",
       "    <tr>\n",
       "      <th>0</th>\n",
       "      <td>1</td>\n",
       "      <td>4</td>\n",
       "      <td>7</td>\n",
       "    </tr>\n",
       "    <tr>\n",
       "      <th>1</th>\n",
       "      <td>4</td>\n",
       "      <td>5</td>\n",
       "      <td>8</td>\n",
       "    </tr>\n",
       "    <tr>\n",
       "      <th>3</th>\n",
       "      <td>4</td>\n",
       "      <td>7</td>\n",
       "      <td>0</td>\n",
       "    </tr>\n",
       "  </tbody>\n",
       "</table>\n",
       "</div>"
      ],
      "text/plain": [
       "   col1  col2  col3\n",
       "0     1     4     7\n",
       "1     4     5     8\n",
       "3     4     7     0"
      ]
     },
     "execution_count": 47,
     "metadata": {},
     "output_type": "execute_result"
    }
   ],
   "source": [
    "import pandas as pd\n",
    "import numpy as np\n",
    "od = {'col1' : [1,4,3,4,5],'col2' : [4,5,6,7,8], 'col3' : [7,8,9,0,1]}\n",
    "labels = [0,1,2,3,4]\n",
    "dataframe = pd.DataFrame(data = od , index = labels)\n",
    "print(\"New DataFrame after removing 2nd & 4th rows: \")\n",
    "data = dataframe.drop([2,4])\n",
    "data"
   ]
  },
  {
   "cell_type": "markdown",
   "id": "34f16d7e-a74b-4688-b1f1-9846655778dc",
   "metadata": {},
   "source": [
    "#### 23. Write a Pandas program to convert DataFrame column type from string to datetime."
   ]
  },
  {
   "cell_type": "raw",
   "id": "d68e5552-5902-4330-8b15-579c89d04527",
   "metadata": {},
   "source": [
    "Sample data:\n",
    "String Date:\n",
    "0    3/11/2000\n",
    "1    3/12/2000\n",
    "2    3/13/2000\n",
    "dtype: object\n",
    "\n",
    "\n",
    "Original DataFrame (string to datetime):\n",
    "0 2000-03-11\n",
    "1 2000-03-12\n",
    "2 2000-03-13"
   ]
  },
  {
   "cell_type": "code",
   "execution_count": 51,
   "id": "fc3180b8-f483-45ca-8a40-c4621633c1cb",
   "metadata": {},
   "outputs": [
    {
     "name": "stdout",
     "output_type": "stream",
     "text": [
      "        Date\n",
      "0 2000-03-11\n",
      "1 2000-03-12\n",
      "2 2000-03-13\n"
     ]
    }
   ],
   "source": [
    "import pandas as pd\n",
    "data = pd.Series(['3/11/2000', '3/12/2000', '3/13/2000'])\n",
    "df = pd.DataFrame(data, columns=['Date'])\n",
    "df['Date'] = pd.to_datetime(df['Date'])\n",
    "print(df)\n"
   ]
  },
  {
   "cell_type": "markdown",
   "id": "58886d89-b0cb-4abf-92e6-cb97c99dd3e2",
   "metadata": {},
   "source": [
    "#### 24. Write a Pandas program to find the row for where the value of a given column is maximum."
   ]
  },
  {
   "cell_type": "raw",
   "id": "8e94996a-ee4d-4195-823b-914c90d3b3a1",
   "metadata": {},
   "source": [
    "ample Output:\n",
    "Original DataFrame\n",
    "   col1  col2  col3\n",
    "0     1     4     7\n",
    "1     2     5     8\n",
    "2     3     6    12\n",
    "3     4     9     1\n",
    "4     7     5    11\n",
    "Row where col1 has maximum value:\n",
    "4\n",
    "Row where col2 has maximum value:\n",
    "3\n",
    "Row where col3 has maximum value:\n",
    "2"
   ]
  },
  {
   "cell_type": "code",
   "execution_count": 52,
   "id": "d45c5f02-a4ba-4467-9de1-f93dd97a1103",
   "metadata": {},
   "outputs": [
    {
     "name": "stdout",
     "output_type": "stream",
     "text": [
      "Original DataFrame : \n",
      "   col1  col2  col3\n",
      "0     1     4     7\n",
      "1     2     5     8\n",
      "2     3     6    12\n",
      "3     4     9     1\n",
      "4     7     5    11\n",
      "Row where col1 has maximum value:\n",
      "4\n",
      "Row where col2 has maximum value:\n",
      "3\n",
      "Row where col3 has maximum value:\n",
      "2\n"
     ]
    }
   ],
   "source": [
    "import pandas as pd\n",
    "Data = {'col1' : [1, 2, 3, 4, 7], 'col2' : [4, 5, 6, 9, 5], 'col3' : [7, 8, 12, 1, 11]}\n",
    "dataframe = pd.DataFrame(data = Data)\n",
    "print(\"Original DataFrame : \")\n",
    "print(dataframe)\n",
    "print(\"Row where col1 has maximum value:\")\n",
    "print(dataframe['col1'].idxmax())\n",
    "print(\"Row where col2 has maximum value:\")\n",
    "print(dataframe['col2'].idxmax())\n",
    "print(\"Row where col3 has maximum value:\")\n",
    "print(dataframe['col3'].idxmax())\n",
    "     "
   ]
  },
  {
   "cell_type": "markdown",
   "id": "879156d6-41bb-46a0-85da-df3d94475883",
   "metadata": {},
   "source": [
    "#### 25. Write a Pandas program to get the datatypes of columns of a DataFrame."
   ]
  },
  {
   "cell_type": "raw",
   "id": "e1fbbc2b-530c-4fcc-9119-4fb989953036",
   "metadata": {},
   "source": [
    "Sample data:\n",
    "Original DataFrame:\n",
    "   attempts       name qualify  score\n",
    "0         1  Anastasia     yes   12.5\n",
    "1         3       Dima      no    9.0\n",
    ".......\n",
    "8         2      Kevin      no    8.0\n",
    "9         1      Jonas     yes   19.0\n",
    "Data types of the columns of the said DataFrame:\n",
    "attempts      int64\n",
    "name         object\n",
    "qualify      object\n",
    "score       float64\n",
    "dtype: object"
   ]
  },
  {
   "cell_type": "code",
   "execution_count": 53,
   "id": "fb89277e-a1ce-48af-b633-f3f0b0d45ebf",
   "metadata": {},
   "outputs": [
    {
     "name": "stdout",
     "output_type": "stream",
     "text": [
      "Data types of the columns of the said DataFrame:\n"
     ]
    },
    {
     "data": {
      "text/plain": [
       "name         object\n",
       "score       float64\n",
       "attempts      int64\n",
       "qualify      object\n",
       "dtype: object"
      ]
     },
     "execution_count": 53,
     "metadata": {},
     "output_type": "execute_result"
    }
   ],
   "source": [
    "import pandas as pd\n",
    "import numpy as np\n",
    "exam_data = {'name': ['Anastasia', 'Dima', 'Katherine', 'James', 'Emily', 'Michael', 'Matthew', 'Laura', 'Kevin', 'Jonas'],\n",
    "'score': [12.5, 9, 16.5, np.nan, 9, 20, 14.5, np.nan, 8, 19],\n",
    "'attempts': [1, 3, 2, 3, 2, 3, 1, 1, 2, 1],\n",
    "'qualify': ['yes', 'no', 'yes', 'no', 'no', 'yes', 'yes', 'no', 'no', 'yes']}\n",
    "labels = ['a', 'b', 'c', 'd', 'e', 'f', 'g', 'h', 'i', 'j']\n",
    "dataframe = pd.DataFrame(exam_data, index = labels)\n",
    "print(\"Data types of the columns of the said DataFrame:\")\n",
    "dataframe.name.dtype\n",
    "dataframe.score.dtype\n",
    "dataframe.attempts.dtype\n",
    "dataframe.qualify.dtype\n",
    "dataframe.dtypes\n",
    "     "
   ]
  },
  {
   "cell_type": "markdown",
   "id": "e5de36ca-2a35-4b4e-ae30-3409d53c2ca3",
   "metadata": {},
   "source": [
    "#### 26. Write a Pandas program to group by the first column and get second column as lists in rows."
   ]
  },
  {
   "cell_type": "raw",
   "id": "ec0148a2-9a13-4a0c-82f4-53576f6aaf02",
   "metadata": {},
   "source": [
    "Sample data:\n",
    "Original DataFrame\n",
    "col1 col2\n",
    "0 C1 1\n",
    "1 C1 2\n",
    "2 C2 3\n",
    "3 C2 3\n",
    "4 C2 4\n",
    "5 C3 6\n",
    "6 C2 5\n",
    "\n",
    "\n",
    "Group on the col1:\n",
    "col1\n",
    "C1 [1, 2]\n",
    "C2 [3, 3, 4, 5]\n",
    "C3 [6]\n",
    "Name: col2, dtype: object"
   ]
  },
  {
   "cell_type": "code",
   "execution_count": 54,
   "id": "3a511b92-2db2-474c-8fa2-0813118677fb",
   "metadata": {},
   "outputs": [
    {
     "name": "stdout",
     "output_type": "stream",
     "text": [
      "Group on the col1:\n"
     ]
    },
    {
     "data": {
      "text/plain": [
       "col1\n",
       "C1          [1, 2]\n",
       "C2    [3, 3, 4, 5]\n",
       "C3             [6]\n",
       "Name: col2, dtype: object"
      ]
     },
     "execution_count": 54,
     "metadata": {},
     "output_type": "execute_result"
    }
   ],
   "source": [
    "import pandas as pd\n",
    "dataframe = pd.DataFrame({'col1': ['C1','C1','C2','C2','C2','C3','C2'], 'col2' : [1,2,3,3,4,6,5]})\n",
    "print(\"Group on the col1:\")\n",
    "dataframe.groupby('col1')['col2'].apply(list)\n",
    "     "
   ]
  },
  {
   "cell_type": "markdown",
   "id": "e0bb48f8-f445-42f7-ad1a-6c14160c07d9",
   "metadata": {},
   "source": [
    "#### 27 Write a Pandas program to count number of columns of a DataFrame."
   ]
  },
  {
   "cell_type": "raw",
   "id": "8cb465eb-e041-4bc9-99d6-d8edec405a9f",
   "metadata": {},
   "source": [
    "Sample Output:\n",
    "Original DataFrame\n",
    "  col1 col2 col3\n",
    "0  1    4   7\n",
    "1  2    5   8\n",
    "2  3    6   12\n",
    "3  4    9   1\n",
    "4  7    5   11\n",
    "\n",
    "Number of columns:\n",
    "3"
   ]
  },
  {
   "cell_type": "code",
   "execution_count": 55,
   "id": "4f46fb0a-df57-4037-8620-13c92c3b8cfb",
   "metadata": {},
   "outputs": [
    {
     "name": "stdout",
     "output_type": "stream",
     "text": [
      "Original dataframe\n",
      "   col1  col2  col3\n",
      "0     1     4     7\n",
      "1     2     5     8\n",
      "2     3     6    12\n",
      "3     4     9     1\n",
      "4     7     5    11\n",
      "Number of columns :\n"
     ]
    },
    {
     "data": {
      "text/plain": [
       "3"
      ]
     },
     "execution_count": 55,
     "metadata": {},
     "output_type": "execute_result"
    }
   ],
   "source": [
    "import pandas as pd\n",
    "Data = {'col1' : [1, 2, 3, 4, 7], 'col2' : [4, 5, 6, 9, 5], 'col3' : [7, 8, 12, 1, 11]}\n",
    "dataframe = pd.DataFrame(data = Data)\n",
    "print(\"Original dataframe\")\n",
    "print(dataframe)\n",
    "col = dataframe.columns\n",
    "print(\"Number of columns :\")\n",
    "len(col)\n",
    "     "
   ]
  },
  {
   "cell_type": "markdown",
   "id": "69b0c13e-6599-491f-b385-2163c2b00c62",
   "metadata": {},
   "source": [
    "#### 28. Write a Pandas program to get first n records of a DataFrame."
   ]
  },
  {
   "cell_type": "raw",
   "id": "8c2b4cc2-0e85-49b9-90e4-f8517a461750",
   "metadata": {},
   "source": [
    "Sample Output:\n",
    "Original DataFrame\n",
    "col1 col2 col3\n",
    "0 1 4 7\n",
    "1 2 5 5\n",
    "2 3 6 8\n",
    "3 4 9 12\n",
    "4 7 5 1\n",
    "5 11 0 11\n",
    "\n",
    "First 3 rows of the said DataFrame':\n",
    "col1 col2 col3\n",
    "0 1 4 7\n",
    "1 2 5 5\n",
    "2 3 6 8"
   ]
  },
  {
   "cell_type": "code",
   "execution_count": 56,
   "id": "bac2db05-9cc2-44f3-9478-0378ab33b1d5",
   "metadata": {},
   "outputs": [
    {
     "name": "stdout",
     "output_type": "stream",
     "text": [
      "Original dataframe\n",
      "   col1  col2  col3\n",
      "0     1     4     7\n",
      "1     2     5     5\n",
      "2     3     6     8\n",
      "3     4     9    12\n",
      "4     7     5     1\n",
      "5    11     0    11\n",
      "First 3 rows of the said DataFrame:\n"
     ]
    },
    {
     "data": {
      "text/html": [
       "<div>\n",
       "<style scoped>\n",
       "    .dataframe tbody tr th:only-of-type {\n",
       "        vertical-align: middle;\n",
       "    }\n",
       "\n",
       "    .dataframe tbody tr th {\n",
       "        vertical-align: top;\n",
       "    }\n",
       "\n",
       "    .dataframe thead th {\n",
       "        text-align: right;\n",
       "    }\n",
       "</style>\n",
       "<table border=\"1\" class=\"dataframe\">\n",
       "  <thead>\n",
       "    <tr style=\"text-align: right;\">\n",
       "      <th></th>\n",
       "      <th>col1</th>\n",
       "      <th>col2</th>\n",
       "      <th>col3</th>\n",
       "    </tr>\n",
       "  </thead>\n",
       "  <tbody>\n",
       "    <tr>\n",
       "      <th>0</th>\n",
       "      <td>1</td>\n",
       "      <td>4</td>\n",
       "      <td>7</td>\n",
       "    </tr>\n",
       "    <tr>\n",
       "      <th>1</th>\n",
       "      <td>2</td>\n",
       "      <td>5</td>\n",
       "      <td>5</td>\n",
       "    </tr>\n",
       "    <tr>\n",
       "      <th>2</th>\n",
       "      <td>3</td>\n",
       "      <td>6</td>\n",
       "      <td>8</td>\n",
       "    </tr>\n",
       "  </tbody>\n",
       "</table>\n",
       "</div>"
      ],
      "text/plain": [
       "   col1  col2  col3\n",
       "0     1     4     7\n",
       "1     2     5     5\n",
       "2     3     6     8"
      ]
     },
     "execution_count": 56,
     "metadata": {},
     "output_type": "execute_result"
    }
   ],
   "source": [
    "import pandas as pd\n",
    "Data = {'col1' : [1, 2, 3, 4, 7, 11], 'col2' : [4, 5, 6, 9, 5, 0], 'col3' : [7, 5, 8, 12, 1, 11,]}\n",
    "dataframe = pd.DataFrame(data = Data)\n",
    "print(\"Original dataframe\")\n",
    "print(dataframe)\n",
    "print(\"First 3 rows of the said DataFrame:\")\n",
    "dataframe.head(3)\n",
    "     \n"
   ]
  },
  {
   "cell_type": "markdown",
   "id": "c27f042c-dad4-4fea-b0f7-65c2f7c87a92",
   "metadata": {},
   "source": [
    "#### 29. Write a Pandas program to get last n records of a DataFrame."
   ]
  },
  {
   "cell_type": "raw",
   "id": "ecb91dea-b497-47bb-a8a6-b1e94742946c",
   "metadata": {},
   "source": [
    "Sample Output:\n",
    "Original DataFrame\n",
    "col1 col2 col3\n",
    "0 1 4 7\n",
    "1 2 5 5\n",
    "2 3 6 8\n",
    "3 4 9 12\n",
    "4 7 5 1\n",
    "5 11 0 11\n",
    "\n",
    "Last 3 rows of the said DataFrame':\n",
    "col1 col2 col3\n",
    "3 4 9 12\n",
    "4 7 5 1\n",
    "5 11 0 11"
   ]
  },
  {
   "cell_type": "code",
   "execution_count": 57,
   "id": "79ad9915-96d1-424a-abbe-ecfe716a4212",
   "metadata": {},
   "outputs": [
    {
     "name": "stdout",
     "output_type": "stream",
     "text": [
      "Original dataframe\n",
      "   col1  col2  col3\n",
      "0     1     4     7\n",
      "1     2     5     5\n",
      "2     3     6     8\n",
      "3     4     9    12\n",
      "4     7     5     1\n",
      "5    11     0    11\n",
      "Last 3 rows of the said DataFrame:\n"
     ]
    },
    {
     "data": {
      "text/html": [
       "<div>\n",
       "<style scoped>\n",
       "    .dataframe tbody tr th:only-of-type {\n",
       "        vertical-align: middle;\n",
       "    }\n",
       "\n",
       "    .dataframe tbody tr th {\n",
       "        vertical-align: top;\n",
       "    }\n",
       "\n",
       "    .dataframe thead th {\n",
       "        text-align: right;\n",
       "    }\n",
       "</style>\n",
       "<table border=\"1\" class=\"dataframe\">\n",
       "  <thead>\n",
       "    <tr style=\"text-align: right;\">\n",
       "      <th></th>\n",
       "      <th>col1</th>\n",
       "      <th>col2</th>\n",
       "      <th>col3</th>\n",
       "    </tr>\n",
       "  </thead>\n",
       "  <tbody>\n",
       "    <tr>\n",
       "      <th>3</th>\n",
       "      <td>4</td>\n",
       "      <td>9</td>\n",
       "      <td>12</td>\n",
       "    </tr>\n",
       "    <tr>\n",
       "      <th>4</th>\n",
       "      <td>7</td>\n",
       "      <td>5</td>\n",
       "      <td>1</td>\n",
       "    </tr>\n",
       "    <tr>\n",
       "      <th>5</th>\n",
       "      <td>11</td>\n",
       "      <td>0</td>\n",
       "      <td>11</td>\n",
       "    </tr>\n",
       "  </tbody>\n",
       "</table>\n",
       "</div>"
      ],
      "text/plain": [
       "   col1  col2  col3\n",
       "3     4     9    12\n",
       "4     7     5     1\n",
       "5    11     0    11"
      ]
     },
     "execution_count": 57,
     "metadata": {},
     "output_type": "execute_result"
    }
   ],
   "source": [
    "import pandas as pd\n",
    "Data = {'col1' : [1, 2, 3, 4, 7, 11], 'col2' : [4, 5, 6, 9, 5, 0], 'col3' : [7, 5, 8, 12, 1, 11,]}\n",
    "dataframe = pd.DataFrame(data = Data)\n",
    "print(\"Original dataframe\")\n",
    "print(dataframe)\n",
    "print(\"Last 3 rows of the said DataFrame:\")\n",
    "dataframe.tail(3)"
   ]
  },
  {
   "cell_type": "markdown",
   "id": "d857d3a2-3f2e-4b9a-a6d8-513ca96f0cd1",
   "metadata": {},
   "source": [
    "#### 30. Write a Pandas program to get topmost n records within each group of a DataFrame."
   ]
  },
  {
   "cell_type": "raw",
   "id": "c7b71914-474e-41d2-a5a0-8556986fadc7",
   "metadata": {},
   "source": [
    "Sample Output:\n",
    "Original DataFrame\n",
    "col1 col2 col3\n",
    "0 1 4 7\n",
    "1 2 5 5\n",
    "2 3 6 8\n",
    "3 4 9 12\n",
    "4 7 5 1\n",
    "5 11 0 11\n",
    "\n",
    "topmost n records within each group of a DataFrame:\n",
    "col1 col2 col3\n",
    "5 11 0 11\n",
    "4 7 5 1\n",
    "3 4 9 12\n",
    "col1 col2 col3\n",
    "3 4 9 12\n",
    "2 3 6 8\n",
    "1 2 5 5\n",
    "4 7 5 1\n",
    "col1 col2 col3\n",
    "3 4 9 12\n",
    "5 11 0 11\n",
    "2 3 6 8"
   ]
  },
  {
   "cell_type": "code",
   "execution_count": 58,
   "id": "1dca49ef-4669-479b-a0b9-f5913ab136ab",
   "metadata": {},
   "outputs": [
    {
     "name": "stdout",
     "output_type": "stream",
     "text": [
      "Original dataframe\n",
      "   col1  col2  col3\n",
      "0     1     4     7\n",
      "1     2     5     5\n",
      "2     3     6     8\n",
      "3     4     9    12\n",
      "4     7     5     1\n",
      "5    11     0    11\n",
      "Topmost n records within each group of a DataFrame:\n",
      "   col1  col2  col3\n",
      "5    11     0    11\n",
      "4     7     5     1\n",
      "3     4     9    12\n",
      "   col1  col2  col3\n",
      "3     4     9    12\n",
      "2     3     6     8\n",
      "1     2     5     5\n",
      "   col1  col2  col3\n",
      "3     4     9    12\n",
      "5    11     0    11\n",
      "2     3     6     8\n"
     ]
    }
   ],
   "source": [
    "import pandas as pd\n",
    "Data = {'col1' : [1, 2, 3, 4, 7, 11], 'col2' : [4, 5, 6, 9, 5, 0], 'col3' : [7, 5, 8, 12, 1, 11,]}\n",
    "dataframe = pd.DataFrame(data = Data)\n",
    "print(\"Original dataframe\")\n",
    "print(dataframe)\n",
    "print(\"Topmost n records within each group of a DataFrame:\")\n",
    "dataframe1 = dataframe.nlargest(3,'col1')\n",
    "print(dataframe1)\n",
    "dataframe2 = dataframe.nlargest(3,'col2')\n",
    "print(dataframe2)\n",
    "dataframe3 = dataframe.nlargest(3,'col3')\n",
    "print(dataframe3)"
   ]
  },
  {
   "cell_type": "markdown",
   "id": "d2ea9254-cfe3-4604-a8d4-c7ffd3c511cb",
   "metadata": {},
   "source": [
    "#### 31. Write a Pandas program to add a prefix or suffix to all columns of a given DataFrame."
   ]
  },
  {
   "cell_type": "raw",
   "id": "c18c552b-c9eb-4525-acc9-4fd8491d4cd9",
   "metadata": {},
   "source": [
    "Sample Output:\n",
    "Original DataFrame\n",
    "W X Y Z\n",
    "0 68 78 84 86\n",
    "1 75 85 94 97\n",
    "2 86 96 89 96\n",
    "3 80 80 83 72\n",
    "4 66 86 86 83\n",
    "\n",
    "Add prefix:\n",
    "A_W A_X A_Y A_Z\n",
    "0 68 78 84 86\n",
    "1 75 85 94 97\n",
    "2 86 96 89 96\n",
    "3 80 80 83 72\n",
    "4 66 86 86 83\n",
    "\n",
    "Add suffix:\n",
    "W_1 X_1 Y_1 Z_1\n",
    "0 68 78 84 86\n",
    "1 75 85 94 97\n",
    "2 86 96 89 96\n",
    "3 80 80 83 72\n",
    "4 66 86 86 83"
   ]
  },
  {
   "cell_type": "code",
   "execution_count": 59,
   "id": "29b62e8d-3e52-49ac-967c-7e9a95e3b9b6",
   "metadata": {},
   "outputs": [
    {
     "name": "stdout",
     "output_type": "stream",
     "text": [
      "Original DataFrame:\n",
      "    W   X   Y   Z\n",
      "0  68  78  84  86\n",
      "1  75  85  94  97\n",
      "2  86  96  89  96\n",
      "3  80  80  83  72\n",
      "4  66  86  86  83\n",
      "Add prefix:\n",
      "   A_W  A_X  A_Y  A_Z\n",
      "0   68   78   84   86\n",
      "1   75   85   94   97\n",
      "2   86   96   89   96\n",
      "3   80   80   83   72\n",
      "4   66   86   86   83\n",
      "Add suffix:\n",
      "   W_1  X_1  Y_1  Z_1\n",
      "0   68   78   84   86\n",
      "1   75   85   94   97\n",
      "2   86   96   89   96\n",
      "3   80   80   83   72\n",
      "4   66   86   86   83\n"
     ]
    }
   ],
   "source": [
    "import pandas as pd\n",
    "Data = {'W': [68,75,86,80,66], 'X': [78,85,96,80,86], 'Y': [84,94,89,83,86], 'Z': [86,97,96,72,83]}\n",
    "dataframe = pd.DataFrame(Data)\n",
    "print(\"Original DataFrame:\")\n",
    "print(dataframe)\n",
    "print(\"Add prefix:\")\n",
    "dataframe1 = dataframe.add_prefix(\"A_\")\n",
    "print(dataframe1)\n",
    "print(\"Add suffix:\")\n",
    "dataframe2 = dataframe.add_suffix(\"_1\")\n",
    "print(dataframe2)"
   ]
  },
  {
   "cell_type": "markdown",
   "id": "73799bfe-485f-4283-9a1c-bcd450372c6e",
   "metadata": {},
   "source": [
    "#### 32. Write a Pandas program to convert continuous values of a column in a given DataFrame to categorical."
   ]
  },
  {
   "cell_type": "raw",
   "id": "a5a4e43a-6648-45e0-8fe8-d566479ac8f0",
   "metadata": {},
   "source": [
    "Input:\n",
    "{ 'Name': ['Alberto Franco','Gino Mcneill','Ryan Parkes', 'Eesha Hinton', 'Syed Wharton'],\n",
    "'Age': [18, 22, 40, 50, 80, 5] }\n",
    "\n",
    "\n",
    "Output:\n",
    "Age group:\n",
    "0 kids\n",
    "1 adult\n",
    "2 elderly\n",
    "3 adult\n",
    "4 elderly\n",
    "5 kids\n",
    "Name: age_groups, dtype: category\n",
    "Categories (3, object): [kids < adult < elderly]"
   ]
  },
  {
   "cell_type": "code",
   "execution_count": 60,
   "id": "9a6590ae-a5d5-4845-ae56-84adccfb2d74",
   "metadata": {},
   "outputs": [
    {
     "name": "stdout",
     "output_type": "stream",
     "text": [
      "Age group : \n"
     ]
    },
    {
     "data": {
      "text/plain": [
       "0      Adult\n",
       "1      Adult\n",
       "2    Elderly\n",
       "3    Elderly\n",
       "4    Elderly\n",
       "5       Kids\n",
       "Name: age_groups, dtype: category\n",
       "Categories (3, object): ['Kids' < 'Adult' < 'Elderly']"
      ]
     },
     "execution_count": 60,
     "metadata": {},
     "output_type": "execute_result"
    }
   ],
   "source": [
    "import pandas as pd\n",
    "dataframe = pd.DataFrame({ 'Name': ['Alberto Franco','Gino Mcneill','Ryan Parkes', 'Eesha Hinton', 'Syed Wharton', 'Kierra gentry'],'Age': [18, 22, 40, 50, 80, 5] })\n",
    "print(\"Age group : \")\n",
    "dataframe[\"age_groups\"] = pd.cut(dataframe[\"Age\"], bins = [0,17,39,99], labels = [\"Kids\",\"Adult\",\"Elderly\"])\n",
    "dataframe[\"age_groups\"]\n",
    "     "
   ]
  },
  {
   "cell_type": "markdown",
   "id": "76467d43-6ac3-48b5-8042-8f8a04af1e3c",
   "metadata": {},
   "source": [
    "#### 33. Write a Pandas program to append rows to an existing DataFrame and display the combined data."
   ]
  },
  {
   "cell_type": "raw",
   "id": "5936e4fb-bee1-45c3-a495-f0e527d5ac0b",
   "metadata": {},
   "source": [
    "Test Data:\n",
    "tudent_data1\n",
    "  student_id              name  marks\n",
    "0         S1  Danniella Fenton    200\n",
    "1         S2      Ryder Storey    210\n",
    "2         S3      Bryce Jensen    190\n",
    "3         S4         Ed Bernal    222\n",
    "4         S5       Kwame Morin    199\n",
    "\n",
    "\n",
    "New Row(s)\n",
    "student_id                  S6\n",
    "name          Scarlette Fisher\n",
    "marks                      205\n",
    "dtype: object"
   ]
  },
  {
   "cell_type": "code",
   "execution_count": 65,
   "id": "a6c52d59-f1a6-4034-b1d3-e16031c6e002",
   "metadata": {},
   "outputs": [
    {
     "name": "stdout",
     "output_type": "stream",
     "text": [
      "  student_id              name  marks\n",
      "0         S1  Danniella Fenton    200\n",
      "1         S2      Ryder Storey    210\n",
      "2         S3      Bryce Jensen    190\n",
      "3         S4         Ed Bernal    222\n",
      "4         S5       Kwame Morin    199\n",
      "5         S6  Scarlette Fisher    205\n"
     ]
    }
   ],
   "source": [
    "import pandas as pd\n",
    "\n",
    "# Existing DataFrame (student_data1)\n",
    "student_data1 = pd.DataFrame({\n",
    "    'student_id': ['S1', 'S2', 'S3', 'S4', 'S5'],\n",
    "    'name': ['Danniella Fenton', 'Ryder Storey', 'Bryce Jensen', 'Ed Bernal', 'Kwame Morin'],\n",
    "    'marks': [200, 210, 190, 222, 199]\n",
    "})\n",
    "\n",
    "# New row(s) to append\n",
    "new_row = pd.DataFrame({\n",
    "    'student_id': ['S6'],\n",
    "    'name': ['Scarlette Fisher'],\n",
    "    'marks': [205]\n",
    "})\n",
    "\n",
    "# Concatenate the DataFrames\n",
    "student_data1 = pd.concat([student_data1, new_row], ignore_index=True)\n",
    "\n",
    "# Display the combined DataFrame\n",
    "print(student_data1)\n"
   ]
  },
  {
   "cell_type": "markdown",
   "id": "0c03c9b0-3936-44ed-affc-61e1e95dc0d3",
   "metadata": {},
   "source": [
    "#### 34 Write a Pandas program to join the two given dataframes along rows and merge with another dataframe along the common column id."
   ]
  },
  {
   "cell_type": "raw",
   "id": "6f412949-f659-4ab8-8d40-0a0286cbedeb",
   "metadata": {},
   "source": [
    "Test Data:\n",
    "student_data1:\n",
    "  student_id              name  marks\n",
    "0         S1  Danniella Fenton    200\n",
    "1         S2      Ryder Storey    210\n",
    "2         S3      Bryce Jensen    190\n",
    "3         S4         Ed Bernal    222\n",
    "4         S5       Kwame Morin    199\n",
    "student_data2:\n",
    "  student_id              name  marks\n",
    "0         S4  Scarlette Fisher    201\n",
    "1         S5  Carla Williamson    200\n",
    "2         S6       Dante Morse    198\n",
    "3         S7    Kaiser William    219\n",
    "4         S8   Madeeha Preston    201\n",
    "\n",
    "exam_data:\n",
    "   student_id  exam_id\n",
    "0          S1       23\n",
    "1          S2       45\n",
    "2          S3       12\n",
    "3          S4       67\n",
    "4          S5       21\n",
    "5          S7       55\n",
    "6          S8       33\n",
    "7          S9       14\n",
    "8         S10       56\n",
    "9         S11       83\n",
    "10        S12       88\n",
    "11        S13       12"
   ]
  },
  {
   "cell_type": "code",
   "execution_count": 66,
   "id": "b7590ef7-bbf0-4b02-b9c2-4364e41b5e8c",
   "metadata": {},
   "outputs": [
    {
     "name": "stdout",
     "output_type": "stream",
     "text": [
      "Test data : \n",
      "Student_data1:\n",
      "               Name Student_id  Marks\n",
      "0  Danniella Fenton         S1    200\n",
      "1      Ryder Storey         S2    210\n",
      "2      Bryce Jensen         S3    190\n",
      "3         Ed Bernal         S4    222\n",
      "4       Kwame Morin         S5    199\n",
      "Student_data2:\n",
      "               Name Student_id  Marks\n",
      "0  Scarlette Fisher         S4    201\n",
      "1  Carla Williamson         S5    200\n",
      "2       Dante Morse         S6    198\n",
      "3    Kaiser William         S7    219\n",
      "4   Madeeha Preston         S8    201\n",
      "Exam_data: \n",
      "   Student_id  Exam_id\n",
      "0          S1       23\n",
      "1          S2       45\n",
      "2          S3       12\n",
      "3          S4       67\n",
      "4          S5       21\n",
      "5          S7       55\n",
      "6          S8       33\n",
      "7          S9       14\n",
      "8         S10       56\n",
      "9         S11       83\n",
      "10        S12       88\n",
      "11        S13       12\n",
      "Two dataframes join along rows :\n",
      "               Name Student_id  Marks\n",
      "0  Danniella Fenton         S1    200\n",
      "1      Ryder Storey         S2    210\n",
      "2      Bryce Jensen         S3    190\n",
      "3         Ed Bernal         S4    222\n",
      "4       Kwame Morin         S5    199\n",
      "0  Scarlette Fisher         S4    201\n",
      "1  Carla Williamson         S5    200\n",
      "2       Dante Morse         S6    198\n",
      "3    Kaiser William         S7    219\n",
      "4   Madeeha Preston         S8    201\n",
      "Join result and exam data along student id :\n"
     ]
    },
    {
     "data": {
      "text/html": [
       "<div>\n",
       "<style scoped>\n",
       "    .dataframe tbody tr th:only-of-type {\n",
       "        vertical-align: middle;\n",
       "    }\n",
       "\n",
       "    .dataframe tbody tr th {\n",
       "        vertical-align: top;\n",
       "    }\n",
       "\n",
       "    .dataframe thead th {\n",
       "        text-align: right;\n",
       "    }\n",
       "</style>\n",
       "<table border=\"1\" class=\"dataframe\">\n",
       "  <thead>\n",
       "    <tr style=\"text-align: right;\">\n",
       "      <th></th>\n",
       "      <th>Name</th>\n",
       "      <th>Student_id</th>\n",
       "      <th>Marks</th>\n",
       "      <th>Exam_id</th>\n",
       "    </tr>\n",
       "  </thead>\n",
       "  <tbody>\n",
       "    <tr>\n",
       "      <th>0</th>\n",
       "      <td>Danniella Fenton</td>\n",
       "      <td>S1</td>\n",
       "      <td>200</td>\n",
       "      <td>23</td>\n",
       "    </tr>\n",
       "    <tr>\n",
       "      <th>1</th>\n",
       "      <td>Ryder Storey</td>\n",
       "      <td>S2</td>\n",
       "      <td>210</td>\n",
       "      <td>45</td>\n",
       "    </tr>\n",
       "    <tr>\n",
       "      <th>2</th>\n",
       "      <td>Bryce Jensen</td>\n",
       "      <td>S3</td>\n",
       "      <td>190</td>\n",
       "      <td>12</td>\n",
       "    </tr>\n",
       "    <tr>\n",
       "      <th>3</th>\n",
       "      <td>Ed Bernal</td>\n",
       "      <td>S4</td>\n",
       "      <td>222</td>\n",
       "      <td>67</td>\n",
       "    </tr>\n",
       "    <tr>\n",
       "      <th>4</th>\n",
       "      <td>Kwame Morin</td>\n",
       "      <td>S5</td>\n",
       "      <td>199</td>\n",
       "      <td>21</td>\n",
       "    </tr>\n",
       "    <tr>\n",
       "      <th>5</th>\n",
       "      <td>Scarlette Fisher</td>\n",
       "      <td>S4</td>\n",
       "      <td>201</td>\n",
       "      <td>67</td>\n",
       "    </tr>\n",
       "    <tr>\n",
       "      <th>6</th>\n",
       "      <td>Carla Williamson</td>\n",
       "      <td>S5</td>\n",
       "      <td>200</td>\n",
       "      <td>21</td>\n",
       "    </tr>\n",
       "    <tr>\n",
       "      <th>7</th>\n",
       "      <td>Kaiser William</td>\n",
       "      <td>S7</td>\n",
       "      <td>219</td>\n",
       "      <td>55</td>\n",
       "    </tr>\n",
       "    <tr>\n",
       "      <th>8</th>\n",
       "      <td>Madeeha Preston</td>\n",
       "      <td>S8</td>\n",
       "      <td>201</td>\n",
       "      <td>33</td>\n",
       "    </tr>\n",
       "  </tbody>\n",
       "</table>\n",
       "</div>"
      ],
      "text/plain": [
       "               Name Student_id  Marks  Exam_id\n",
       "0  Danniella Fenton         S1    200       23\n",
       "1      Ryder Storey         S2    210       45\n",
       "2      Bryce Jensen         S3    190       12\n",
       "3         Ed Bernal         S4    222       67\n",
       "4       Kwame Morin         S5    199       21\n",
       "5  Scarlette Fisher         S4    201       67\n",
       "6  Carla Williamson         S5    200       21\n",
       "7    Kaiser William         S7    219       55\n",
       "8   Madeeha Preston         S8    201       33"
      ]
     },
     "execution_count": 66,
     "metadata": {},
     "output_type": "execute_result"
    }
   ],
   "source": [
    "import pandas as pd\n",
    "Student_data1 = pd.DataFrame({'Name': ['Danniella Fenton' ,'Ryder Storey' ,'Bryce Jensen' ,'Ed Bernal' , 'Kwame Morin'] ,\n",
    "              'Student_id' : ['S1','S2','S3','S4','S5'],\n",
    "              'Marks' : [200,210,190,222,199]})\n",
    "Student_data2 = pd.DataFrame({\n",
    "        'Name': ['Scarlette Fisher', 'Carla Williamson', 'Dante Morse', 'Kaiser William', 'Madeeha Preston'],\n",
    "        'Student_id': ['S4', 'S5', 'S6', 'S7', 'S8'],\n",
    "        'Marks': [201, 200, 198, 219, 201]})\n",
    "Exam_data = pd.DataFrame({'Student_id': ['S1', 'S2', 'S3', 'S4', 'S5', 'S7', 'S8', 'S9', 'S10', 'S11', 'S12', 'S13'],\n",
    "        'Exam_id': [23, 45, 12, 67, 21, 55, 33, 14, 56, 83, 88, 12]})\n",
    "print(\"Test data : \")\n",
    "print(\"Student_data1:\")\n",
    "print(Student_data1)\n",
    "print(\"Student_data2:\")\n",
    "print(Student_data2)\n",
    "print(\"Exam_data: \")\n",
    "print(Exam_data)\n",
    "print(\"Two dataframes join along rows :\")\n",
    "Result = pd.concat([Student_data1 ,Student_data2 ])\n",
    "print(Result)\n",
    "print(\"Join result and exam data along student id :\")\n",
    "Final_data = pd.merge(Result, Exam_data, on='Student_id')\n",
    "Final_data"
   ]
  },
  {
   "cell_type": "code",
   "execution_count": null,
   "id": "80a6df19-a385-45dd-ae54-cc292a716fa3",
   "metadata": {},
   "outputs": [],
   "source": []
  }
 ],
 "metadata": {
  "kernelspec": {
   "display_name": "Python 3 (ipykernel)",
   "language": "python",
   "name": "python3"
  },
  "language_info": {
   "codemirror_mode": {
    "name": "ipython",
    "version": 3
   },
   "file_extension": ".py",
   "mimetype": "text/x-python",
   "name": "python",
   "nbconvert_exporter": "python",
   "pygments_lexer": "ipython3",
   "version": "3.12.0"
  }
 },
 "nbformat": 4,
 "nbformat_minor": 5
}
