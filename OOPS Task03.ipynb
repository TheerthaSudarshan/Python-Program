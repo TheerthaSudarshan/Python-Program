{
 "cells": [
  {
   "cell_type": "markdown",
   "id": "979b4ff5-b262-481b-995f-497f7d119e88",
   "metadata": {},
   "source": [
    "1. Write a Python program to create a class representing a Circle. Includemethods to calculate its area and perimeter."
   ]
  },
  {
   "cell_type": "code",
   "execution_count": 2,
   "id": "8bb57901-9042-4e93-aa2d-b4bcb009454a",
   "metadata": {},
   "outputs": [
    {
     "name": "stdin",
     "output_type": "stream",
     "text": [
      "Radius of the circle :  50\n"
     ]
    },
    {
     "name": "stdout",
     "output_type": "stream",
     "text": [
      "Area of the circle =  314.1592653589793\n",
      "Perimeter of the circle =  314.1592653589793\n"
     ]
    }
   ],
   "source": [
    "import math\n",
    "class Circle:\n",
    "\n",
    "  def __init__(self, radius):\n",
    "    self.radius = radius\n",
    "  def calculate_circle_area(self):\n",
    "    return math.pi * self.radius ** 2\n",
    "  def calculate_circle_area(self):\n",
    "    return 2 * math.pi * self.radius\n",
    "\n",
    "radius = float(input(\"Radius of the circle : \"))\n",
    "circle = Circle(radius)\n",
    "area = circle.calculate_circle_area()\n",
    "perimeter = circle.calculate_circle_area()\n",
    "print(\"Area of the circle = \", area)\n",
    "print(\"Perimeter of the circle = \", perimeter)"
   ]
  },
  {
   "cell_type": "markdown",
   "id": "c8780d9c-b783-44a9-bae4-ee687338b754",
   "metadata": {},
   "source": [
    "2. Write a Python program to create a calculator class. Include methods for basicarithmetic operations."
   ]
  },
  {
   "cell_type": "code",
   "execution_count": 11,
   "id": "4af273e9-bcc1-4d04-bf9d-7d4c3c0504e4",
   "metadata": {},
   "outputs": [
    {
     "name": "stdout",
     "output_type": "stream",
     "text": [
      "\n",
      "Select operations:\n",
      "1. Addition\n",
      "2. Subtraction\n",
      "3. Multiplication\n",
      "4. Division\n",
      "0. Exit\n"
     ]
    },
    {
     "name": "stdin",
     "output_type": "stream",
     "text": [
      "Enter choice 1/2/3/4 (or 0 to exit):  1\n",
      "Enter first number:  50\n",
      "Enter second number:  5\n"
     ]
    },
    {
     "name": "stdout",
     "output_type": "stream",
     "text": [
      "50.0 + 5.0 = 55.0\n",
      "\n",
      "Select operations:\n",
      "1. Addition\n",
      "2. Subtraction\n",
      "3. Multiplication\n",
      "4. Division\n",
      "0. Exit\n"
     ]
    },
    {
     "name": "stdin",
     "output_type": "stream",
     "text": [
      "Enter choice 1/2/3/4 (or 0 to exit):  2\n",
      "Enter first number:  50\n",
      "Enter second number:  5\n"
     ]
    },
    {
     "name": "stdout",
     "output_type": "stream",
     "text": [
      "50.0 - 5.0 = 45.0\n",
      "\n",
      "Select operations:\n",
      "1. Addition\n",
      "2. Subtraction\n",
      "3. Multiplication\n",
      "4. Division\n",
      "0. Exit\n"
     ]
    },
    {
     "name": "stdin",
     "output_type": "stream",
     "text": [
      "Enter choice 1/2/3/4 (or 0 to exit):  3\n",
      "Enter first number:  50\n",
      "Enter second number:  5\n"
     ]
    },
    {
     "name": "stdout",
     "output_type": "stream",
     "text": [
      "50.0 * 5.0 = 250.0\n",
      "\n",
      "Select operations:\n",
      "1. Addition\n",
      "2. Subtraction\n",
      "3. Multiplication\n",
      "4. Division\n",
      "0. Exit\n"
     ]
    },
    {
     "name": "stdin",
     "output_type": "stream",
     "text": [
      "Enter choice 1/2/3/4 (or 0 to exit):  4\n",
      "Enter first number:  50\n",
      "Enter second number:  5\n"
     ]
    },
    {
     "name": "stdout",
     "output_type": "stream",
     "text": [
      "50.0 / 5.0 = 10.0\n",
      "\n",
      "Select operations:\n",
      "1. Addition\n",
      "2. Subtraction\n",
      "3. Multiplication\n",
      "4. Division\n",
      "0. Exit\n"
     ]
    },
    {
     "name": "stdin",
     "output_type": "stream",
     "text": [
      "Enter choice 1/2/3/4 (or 0 to exit):  0\n"
     ]
    },
    {
     "name": "stdout",
     "output_type": "stream",
     "text": [
      "Exiting the calculator.\n"
     ]
    }
   ],
   "source": [
    "class Calculator:\n",
    "    def add(self, num1, num2):\n",
    "        return num1 + num2\n",
    "\n",
    "    def subtract(self, num1, num2):\n",
    "        return num1 - num2\n",
    "\n",
    "    def multi(self, num1, num2):\n",
    "        return num1 * num2  # Corrected multiplication logic\n",
    "\n",
    "    def div(self, num1, num2):\n",
    "        if num2 == 0:  # Check for division by zero before dividing\n",
    "            return \"Cannot divide by zero\"\n",
    "        return num1 / num2\n",
    "\n",
    "\n",
    "# Create an instance of the Calculator class\n",
    "calculator = Calculator()\n",
    "\n",
    "# Initialize the operation variable\n",
    "operation = -1\n",
    "\n",
    "# Loop until the user exits by entering 0\n",
    "while operation != 0:\n",
    "    print(\"\\nSelect operations:\")\n",
    "    print(\"1. Addition\\n2. Subtraction\\n3. Multiplication\\n4. Division\\n0. Exit\")\n",
    "    operation = int(input(\"Enter choice 1/2/3/4 (or 0 to exit): \"))\n",
    "\n",
    "    if operation == 0:\n",
    "        print(\"Exiting the calculator.\")\n",
    "        break\n",
    "\n",
    "    # Get the numbers from the user\n",
    "    num1 = float(input(\"Enter first number: \"))\n",
    "    num2 = float(input(\"Enter second number: \"))\n",
    "\n",
    "    # Perform the selected operation\n",
    "    if operation == 1:\n",
    "        result = calculator.add(num1, num2)\n",
    "        print(f\"{num1} + {num2} = {result}\")\n",
    "\n",
    "    elif operation == 2:\n",
    "        result = calculator.subtract(num1, num2)\n",
    "        print(f\"{num1} - {num2} = {result}\")\n",
    "\n",
    "    elif operation == 3:\n",
    "        result = calculator.multi(num1, num2)\n",
    "        print(f\"{num1} * {num2} = {result}\")\n",
    "\n",
    "    elif operation == 4:\n",
    "        result = calculator.div(num1, num2)\n",
    "        print(f\"{num1} / {num2} = {result}\")\n",
    "\n",
    "    else:\n",
    "        print(\"Invalid input, please select a valid operation.\")\n"
   ]
  },
  {
   "cell_type": "markdown",
   "id": "9d2b798b-ec92-4843-a53f-4c92f6848e9f",
   "metadata": {},
   "source": [
    "3. Write a Python program to create a class that represents a shape. Include methods to calculate its area and perimeter. Implement subclasses for different shapes like circle, triangle, and square."
   ]
  },
  {
   "cell_type": "code",
   "execution_count": 12,
   "id": "9623955e-cbf9-4b66-a1b5-a30c6b8180a3",
   "metadata": {},
   "outputs": [
    {
     "name": "stdin",
     "output_type": "stream",
     "text": [
      "Enter the radius of the circle :  20\n"
     ]
    },
    {
     "name": "stdout",
     "output_type": "stream",
     "text": [
      "Area of the circle =  1256.6370614359173\n",
      "Perimeter of the circle =  125.66370614359172\n"
     ]
    },
    {
     "name": "stdin",
     "output_type": "stream",
     "text": [
      "base =  15\n",
      "height =  10\n",
      "Side1 =  12\n",
      "Side2 =  14\n",
      "Side3 =  16\n"
     ]
    },
    {
     "name": "stdout",
     "output_type": "stream",
     "text": [
      "Area of the triangle =  75.0\n",
      "Perimeter of the triangle =  42.0\n"
     ]
    },
    {
     "name": "stdin",
     "output_type": "stream",
     "text": [
      "Length of the side =  50\n"
     ]
    },
    {
     "name": "stdout",
     "output_type": "stream",
     "text": [
      "Area of the square =  2500.0\n",
      "Perimeter of the square =  200.0\n"
     ]
    }
   ],
   "source": [
    "import math\n",
    "\n",
    "class Shape:\n",
    "  def __init__(self):\n",
    "    pass\n",
    "  def calculate_area(self):\n",
    "    pass\n",
    "  def calculate_perimeter(self):\n",
    "    pass\n",
    "\n",
    "class Circle(Shape):\n",
    "  def __init__(self, radius):\n",
    "    self.radius = radius\n",
    "\n",
    "  def calculate_area(self):\n",
    "    return math.pi*self.radius**2\n",
    "\n",
    "  def calculate_perimeter(self):\n",
    "    return 2*math.pi*self.radius\n",
    "\n",
    "class Triangle(Shape):\n",
    "  def __init__(self,base,height,side1,side2,side3):\n",
    "    self.base = base\n",
    "    self.height = height\n",
    "    self.side1 = side1\n",
    "    self.side2 = side2\n",
    "    self.side3 = side3\n",
    "  def calculate_area(self):\n",
    "    return 0.5*self.base*self.height\n",
    "\n",
    "  def calculate_perimeter(self):\n",
    "    return self.side1+self.side2+self.side3\n",
    "\n",
    "class Square(Shape):\n",
    "  def __init__(self,side):\n",
    "    self.side = side\n",
    "  def calculate_area(self):\n",
    "    return self.side**2\n",
    "  def calculate_perimeter(self):\n",
    "    return 4*self.side\n",
    "\n",
    "radius = float(input(\"Enter the radius of the circle : \"))\n",
    "circle = Circle(radius)\n",
    "print(\"Area of the circle = \", circle.calculate_area())\n",
    "print(\"Perimeter of the circle = \", circle.calculate_perimeter())\n",
    "\n",
    "base = float(input(\"base = \"))\n",
    "height = float(input(\"height = \"))\n",
    "side1 = float(input(\"Side1 = \"))\n",
    "side2 = float(input(\"Side2 = \"))\n",
    "side3 = float(input(\"Side3 = \"))\n",
    "triangle = Triangle(base,height,side1,side2,side3)\n",
    "print(\"Area of the triangle = \",triangle.calculate_area())\n",
    "print(\"Perimeter of the triangle = \", triangle.calculate_perimeter())\n",
    "\n",
    "side = float(input(\"Length of the side = \"))\n",
    "square = Square(side)\n",
    "print(\"Area of the square = \",square.calculate_area())\n",
    "print(\"Perimeter of the square = \",square.calculate_perimeter())"
   ]
  },
  {
   "cell_type": "code",
   "execution_count": null,
   "id": "44831572-1d4e-466d-ad2a-813c506ce042",
   "metadata": {},
   "outputs": [],
   "source": []
  }
 ],
 "metadata": {
  "kernelspec": {
   "display_name": "Python 3 (ipykernel)",
   "language": "python",
   "name": "python3"
  },
  "language_info": {
   "codemirror_mode": {
    "name": "ipython",
    "version": 3
   },
   "file_extension": ".py",
   "mimetype": "text/x-python",
   "name": "python",
   "nbconvert_exporter": "python",
   "pygments_lexer": "ipython3",
   "version": "3.12.0"
  }
 },
 "nbformat": 4,
 "nbformat_minor": 5
}
