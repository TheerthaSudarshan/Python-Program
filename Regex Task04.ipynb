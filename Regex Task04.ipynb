{
 "cells": [
  {
   "cell_type": "markdown",
   "id": "a0246ea7-7311-4ac9-b22c-6cb7f0920ccc",
   "metadata": {},
   "source": [
    "1. Write a Python program to check that a string contains only a certain set of characters (in this case a-z, A-Z and 0-9)."
   ]
  },
  {
   "cell_type": "code",
   "execution_count": 2,
   "id": "4214dd24-6b68-4d74-8848-cdee3d110c40",
   "metadata": {},
   "outputs": [
    {
     "name": "stdout",
     "output_type": "stream",
     "text": [
      "Invalid string\n",
      "Valid string\n"
     ]
    }
   ],
   "source": [
    "import re\n",
    "def check(str, pattern):\n",
    "  if re.search(pattern, str):\n",
    "    print(\"Valid string\")\n",
    "  else:\n",
    "    print(\"Invalid string\")\n",
    "\n",
    "pattern = re.compile('^[1234+$]')\n",
    "check('6743', pattern)\n",
    "check('123', pattern)"
   ]
  },
  {
   "cell_type": "markdown",
   "id": "5b643bb1-39a7-4d7e-a556-f5db76a828ce",
   "metadata": {},
   "source": [
    "2. Write a Python program that matches a string that has an a followed by zero or more b's."
   ]
  },
  {
   "cell_type": "code",
   "execution_count": 7,
   "id": "e78e9286-8976-4696-821b-12112b79af86",
   "metadata": {},
   "outputs": [
    {
     "name": "stdin",
     "output_type": "stream",
     "text": [
      "Enter a string:  ab\n"
     ]
    },
    {
     "name": "stdout",
     "output_type": "stream",
     "text": [
      "Match found!\n"
     ]
    }
   ],
   "source": [
    "import re\n",
    "def match_string(text):\n",
    "    pattern = r'^ab*$'\n",
    "    if re.match(pattern, text):\n",
    "        return \"Match found!\"\n",
    "    else:\n",
    "        return \"No match found.\"\n",
    "input_string = input(\"Enter a string: \")\n",
    "result = match_string(input_string)\n",
    "print(result)\n"
   ]
  },
  {
   "cell_type": "markdown",
   "id": "243249d4-0d73-4451-be53-f45dd019511c",
   "metadata": {},
   "source": [
    "3. Replace only the first occurrence of 5 with five for the given string."
   ]
  },
  {
   "cell_type": "code",
   "execution_count": 8,
   "id": "33c555f1-473d-48a4-94ab-81d3051a0abc",
   "metadata": {},
   "outputs": [
    {
     "name": "stdout",
     "output_type": "stream",
     "text": [
      "I have five apples and 5 bananas.\n"
     ]
    }
   ],
   "source": [
    "def replace_first_occurrence(s):\n",
    "    return s.replace('5', 'five', 1)\n",
    "input_string = \"I have 5 apples and 5 bananas.\"\n",
    "result = replace_first_occurrence(input_string)\n",
    "print(result)\n"
   ]
  },
  {
   "cell_type": "markdown",
   "id": "be24a164-e9d5-4451-aa0f-9908fa499e6f",
   "metadata": {},
   "source": [
    "4. Write a Python program that matches a string that has an a followed by three 'b'."
   ]
  },
  {
   "cell_type": "code",
   "execution_count": 15,
   "id": "e22b0a2e-66d4-4c38-b49e-1cf1583508c7",
   "metadata": {},
   "outputs": [
    {
     "name": "stdin",
     "output_type": "stream",
     "text": [
      "Enter a pattern: abbbc\n"
     ]
    },
    {
     "name": "stdout",
     "output_type": "stream",
     "text": [
      "Found a match!\n"
     ]
    }
   ],
   "source": [
    "import re\n",
    "def text_match(text):\n",
    "  patterns = 'ab{3}?'\n",
    "  if re.search(patterns, text):\n",
    "    return 'Found a match!'\n",
    "  else:\n",
    "    return 'Not matched'\n",
    "input_string= input(\"Enter a pattern:\")\n",
    "result= text_match(input_string)\n",
    "print(result)"
   ]
  },
  {
   "cell_type": "markdown",
   "id": "23288436-9c13-444b-8099-b52b5e8b6ad4",
   "metadata": {},
   "source": [
    "5. Write a Python program that matches a string that has an 'a' followed by anything ending in 'b'."
   ]
  },
  {
   "cell_type": "code",
   "execution_count": 16,
   "id": "0c51c122-9ce5-429f-9196-bcdd6cfdf613",
   "metadata": {},
   "outputs": [
    {
     "name": "stdin",
     "output_type": "stream",
     "text": [
      "Enter a pattern: aaccbbdjb\n"
     ]
    },
    {
     "name": "stdout",
     "output_type": "stream",
     "text": [
      "Found a match\n"
     ]
    }
   ],
   "source": [
    "import re\n",
    "def text_match(text):\n",
    "  patterns = 'a.*?b$'\n",
    "  if re.search(patterns, text):\n",
    "    return 'Found a match'\n",
    "  else:\n",
    "    return 'Not matched'\n",
    "input_string= input(\"Enter a pattern:\")\n",
    "result= text_match(input_string)\n",
    "print(result)\n"
   ]
  },
  {
   "cell_type": "markdown",
   "id": "c9a61497-b1cf-4e07-959b-a131883fb353",
   "metadata": {},
   "source": [
    "6. Write a Python program to search for numbers (0-9) of length between 1 and 3 in a given string."
   ]
  },
  {
   "cell_type": "code",
   "execution_count": 17,
   "id": "4de7a526-aa4e-4dba-a38d-2de494d6f0fe",
   "metadata": {},
   "outputs": [
    {
     "name": "stdout",
     "output_type": "stream",
     "text": [
      "No.of length 1 to 3\n",
      "1\n",
      "12\n",
      "13\n",
      "345\n"
     ]
    }
   ],
   "source": [
    "import re\n",
    "txt=\"Exercises number 1, 12, 13, and 345 are important\"\n",
    "results = re.finditer(\"([0-9]{1,3})\", \"Exercises number 1, 12, 13, and 345 are important\")\n",
    "print(\"No.of length 1 to 3\")\n",
    "\n",
    "for n in results:\n",
    "  print(n.group(0))"
   ]
  },
  {
   "cell_type": "markdown",
   "id": "b84684c4-ce9b-4283-8f29-b6d6bd525689",
   "metadata": {},
   "source": [
    "7. Write a Python program to search for literal strings within a string. Sample text : 'The quick brown fox jumps over the lazy dog.' Searched words : 'fox', 'dog', 'horse'."
   ]
  },
  {
   "cell_type": "code",
   "execution_count": 18,
   "id": "ce7e39c7-dc63-455b-bbce-53c25ca977ea",
   "metadata": {},
   "outputs": [
    {
     "name": "stdout",
     "output_type": "stream",
     "text": [
      "Searching for \"fox\" in \"The quick brown fox jumps over the lazy dog.\" \n",
      "Found a match\n",
      "Searching for \"dog\" in \"The quick brown fox jumps over the lazy dog.\" \n",
      "Found a match\n",
      "Searching for \"horse\" in \"The quick brown fox jumps over the lazy dog.\" \n",
      "Not match found\n"
     ]
    }
   ],
   "source": [
    "import re\n",
    "text ='The quick brown fox jumps over the lazy dog.'\n",
    "patterns = ['fox','dog','horse']\n",
    "for pattern in patterns:\n",
    "  print('Searching for \"%s\" in \"%s\" '% (pattern, text),)\n",
    "  if re.search(pattern, text):\n",
    "     print(\"Found a match\")\n",
    "  else:\n",
    "     print(\"Not match found\")\n",
    "     "
   ]
  },
  {
   "cell_type": "markdown",
   "id": "20ba8348-92e2-40f3-a238-5a6fcb6e3e17",
   "metadata": {},
   "source": [
    "8. Write a Python program to search for a literal string in a string and also find the location within the original string where the pattern occurs. Sample text : 'The quick brown fox jumps over the lazy dog.' Searched words : 'fox'."
   ]
  },
  {
   "cell_type": "code",
   "execution_count": 19,
   "id": "d376f799-9331-4682-9c78-3aa48944da01",
   "metadata": {},
   "outputs": [
    {
     "name": "stdout",
     "output_type": "stream",
     "text": [
      "Found \"fox\" in \"The quick brown fox jumps over the lazy dog.\" from 16 to 19 \n"
     ]
    }
   ],
   "source": [
    "import re\n",
    "pattern = 'fox'\n",
    "text ='The quick brown fox jumps over the lazy dog.'\n",
    "match = re.search(pattern, text)\n",
    "start = match.start()\n",
    "end = match.end()\n",
    "print('Found \"%s\" in \"%s\" from %d to %d ' %  (match.re.pattern, match.string, start, end))\n"
   ]
  },
  {
   "cell_type": "markdown",
   "id": "bf797f32-a1ce-49f3-9684-1dece40360a7",
   "metadata": {},
   "source": [
    "9. Write a Python program to extract year, month and date from an URL."
   ]
  },
  {
   "cell_type": "code",
   "execution_count": 20,
   "id": "9f28f63d-8b4b-4248-b22c-2229aee200ed",
   "metadata": {},
   "outputs": [
    {
     "name": "stdout",
     "output_type": "stream",
     "text": [
      "Year: 2023, Month: 09, Day: 06\n"
     ]
    }
   ],
   "source": [
    "import re\n",
    "\n",
    "def extract_date_from_url(url):\n",
    "    pattern = r'(\\d{4})[/-](\\d{2})[/-](\\d{2})'\n",
    "    match = re.search(pattern, url)\n",
    "    if match:\n",
    "        year, month, day = match.groups()\n",
    "        return year, month, day\n",
    "    else:\n",
    "        return None\n",
    "\n",
    "url = \"https://example.com/2023/09/06/article-title\"\n",
    "date_info = extract_date_from_url(url)\n",
    "\n",
    "if date_info:\n",
    "    print(f\"Year: {date_info[0]}, Month: {date_info[1]}, Day: {date_info[2]}\")\n",
    "else:\n",
    "    print(\"No date found in the URL.\")\n"
   ]
  },
  {
   "cell_type": "markdown",
   "id": "b8e6ac2a-488f-4faf-adae-6da64a30187e",
   "metadata": {},
   "source": [
    "10. Write a Python program to find URLs in a string."
   ]
  },
  {
   "cell_type": "code",
   "execution_count": 23,
   "id": "1eba897a-22e3-4d0c-a89e-6ce0009e0180",
   "metadata": {},
   "outputs": [
    {
     "name": "stdout",
     "output_type": "stream",
     "text": [
      "Found URLs: ['https://www.example.com', 'http://example.org']\n"
     ]
    }
   ],
   "source": [
    "import re\n",
    "\n",
    "def find_urls(text):\n",
    "    url_pattern = r'https?://(?:www\\.)?\\S+'\n",
    "    urls = re.findall(url_pattern, text)\n",
    "    return urls\n",
    "input_text = \"Check out https://www.example.com and http://example.org for more info!\"\n",
    "urls = find_urls(input_text)\n",
    "\n",
    "print(\"Found URLs:\", urls)\n"
   ]
  },
  {
   "cell_type": "markdown",
   "id": "fe6c5c3d-52b5-4817-bb73-bd5741037ab6",
   "metadata": {},
   "source": [
    "11. Write a Python program to remove the parenthesis area in a string.\n",
    "Sample data : [\"example (.com)\", \"w3resource\", \"github (.com)\", \"stackoverflow (.com)\"] Expected Output: example w3resource github stackoverflow."
   ]
  },
  {
   "cell_type": "code",
   "execution_count": 26,
   "id": "1d809f39-f4e8-4e97-a577-25cc3196d432",
   "metadata": {},
   "outputs": [
    {
     "name": "stdout",
     "output_type": "stream",
     "text": [
      "['example', 'w3resource', 'github', 'stackoverflow']\n"
     ]
    }
   ],
   "source": [
    "import re\n",
    "\n",
    "def remove_parentheses(lst):\n",
    "    return [re.sub(r'\\s?\\(.*?\\)', '', item) for item in lst]\n",
    "data = [\"example (.com)\", \"w3resource\", \"github (.com)\", \"stackoverflow (.com)\"]\n",
    "result = remove_parentheses(data)\n",
    "print(result)\n"
   ]
  },
  {
   "cell_type": "markdown",
   "id": "c1f95051-e5e2-4d93-b71b-26eff5abeb91",
   "metadata": {},
   "source": [
    "12. Write a Python program to concatenate the consecutive numbers in a given string. Original string: Enter at 1 20 Kearny Street. The security desk can direct you to floor 1 6. Please have your identification ready. After concatenating the consecutive numbers in the said string: Enter at 120 Kearny Street. The security desk can direct you to floor 16. Please have your identification ready.\n",
    "\n"
   ]
  },
  {
   "cell_type": "code",
   "execution_count": 29,
   "id": "a307d417-7dd7-45e2-b6b7-f9e52710c78e",
   "metadata": {},
   "outputs": [
    {
     "name": "stdout",
     "output_type": "stream",
     "text": [
      "Original string: Enter at 1 20 Kearny Street. The security desk can direct you to floor 1 6. Please have your identification ready.\n",
      "After concatenating the consecutive numbers: Enter at 120 Kearny Street. The security desk can direct you to floor 16. Please have your identification ready.\n"
     ]
    }
   ],
   "source": [
    "import re\n",
    "\n",
    "def concatenate_consecutive_numbers(text):\n",
    "    modified_text = re.sub(r'(\\d+)\\s+(\\d+)', r'\\1\\2', text)\n",
    "    return modified_text\n",
    "input_text = \"Enter at 1 20 Kearny Street. The security desk can direct you to floor 1 6. Please have your identification ready.\"\n",
    "result = concatenate_consecutive_numbers(input_text)\n",
    "print(\"Original string:\", input_text)\n",
    "print(\"After concatenating the consecutive numbers:\", result)\n"
   ]
  },
  {
   "cell_type": "code",
   "execution_count": null,
   "id": "0c28a8d1-5b68-437d-bd09-aba9d4c1ea20",
   "metadata": {},
   "outputs": [],
   "source": []
  }
 ],
 "metadata": {
  "kernelspec": {
   "display_name": "Python 3 (ipykernel)",
   "language": "python",
   "name": "python3"
  },
  "language_info": {
   "codemirror_mode": {
    "name": "ipython",
    "version": 3
   },
   "file_extension": ".py",
   "mimetype": "text/x-python",
   "name": "python",
   "nbconvert_exporter": "python",
   "pygments_lexer": "ipython3",
   "version": "3.12.0"
  }
 },
 "nbformat": 4,
 "nbformat_minor": 5
}
